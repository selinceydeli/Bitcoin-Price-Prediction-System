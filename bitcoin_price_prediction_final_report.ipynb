{
  "cells": [
    {
      "cell_type": "markdown",
      "metadata": {
        "id": "tPdlcstH11mU"
      },
      "source": [
        "# [Bitcoin Price Prediction - Group 10]\n",
        "\n",
        "## Group Members:\n",
        "\n",
        "Müge Yeğin\n",
        "\n",
        "Selin Ceydeli\n",
        "\n",
        "Berk Meriç Alkan\n",
        "\n",
        "Yiğit Tekelioğlu\n"
      ]
    },
    {
      "cell_type": "markdown",
      "metadata": {
        "id": "B1iB4MSX3-6L"
      },
      "source": [
        "## Introduction\n",
        "\n",
        "This project aims to manipulate data on Bitcoin to analyze the features causing the fluctuations in the price of Bitcoin. After visualizing the opening, closing, high, and low price trends and observing the effects of the features on the changes in the Bitcoin prices, we will develop a machine learning model by which we are aiming to predict Bitcoin's future value and its movement. "
      ]
    },
    {
      "cell_type": "markdown",
      "metadata": {
        "id": "NLmExe2m14il"
      },
      "source": [
        "### **Visualizations Descriptive Statistics**"
      ]
    },
    {
      "cell_type": "markdown",
      "metadata": {
        "id": "ict00io34o_x"
      },
      "source": [
        "## Exploratory Data Analysis"
      ]
    },
    {
      "cell_type": "markdown",
      "metadata": {
        "id": "ZjWMWVoA4NcV"
      },
      "source": [
        "### Utilized Datasets\n",
        "\n",
        "#### 1) Main Dataset\n",
        "\n",
        "The main dataset that we will be using in this project is a Kaggle dataset named \"BTC-USD\", which can be accessed from the following link: [Drive](https://drive.google.com/file/d/1FeJfOmeCYIHjm_Zw6pubewVfuJXh-coB/view?usp=sharing)\n",
        "\n",
        "This dataset is a time-series-based dataset consisting 2755 observations recorded daily and 7 variables upon which the price trend of Bitcoin is examined. We will make use of the data on the opening, closing, high and low prices for the selected time range and volume, and analyze the price trends based on these relationships.\n",
        "\n",
        "The main dataset of our project has the historical price information of Bitcoin over the last 8 years.\n",
        "\n",
        "Date : Date of observation\n",
        "\n",
        "Open : Opening price on the given day\n",
        "\n",
        "High : Highest price on the given day\n",
        "\n",
        "Low : Lowest price on the given day\n",
        "\n",
        "Close : Closing price on the given day\n",
        "\n",
        "Volume : Volume of transactions on the given day"
      ]
    },
    {
      "cell_type": "markdown",
      "metadata": {
        "id": "vpwmQVBu6heC"
      },
      "source": [
        "```\n",
        "# This cell imports required libraries and features for data science. The libraries are numpy, pandas, and matplotlib.\n",
        "# Also, this cell imports our main dataset to the system.\n",
        "```"
      ]
    },
    {
      "cell_type": "code",
      "execution_count": null,
      "metadata": {
        "colab": {
          "base_uri": "https://localhost:8080/",
          "height": 223
        },
        "id": "hKM-bkxiQhWz",
        "outputId": "f4e7c3f1-2021-4f8c-e6eb-8740819b93cc"
      },
      "outputs": [
        {
          "output_type": "stream",
          "name": "stdout",
          "text": [
            "Mounted at /content/drive\n"
          ]
        },
        {
          "output_type": "execute_result",
          "data": {
            "text/plain": [
              "         Date        Open        High         Low       Close   Adj Close  \\\n",
              "0  2014-09-17  465.864014  468.174011  452.421997  457.334015  457.334015   \n",
              "1  2014-09-18  456.859985  456.859985  413.104004  424.440002  424.440002   \n",
              "2  2014-09-19  424.102997  427.834991  384.532013  394.795990  394.795990   \n",
              "3  2014-09-20  394.673004  423.295990  389.882996  408.903992  408.903992   \n",
              "4  2014-09-21  408.084991  412.425995  393.181000  398.821014  398.821014   \n",
              "\n",
              "     Volume  \n",
              "0  21056800  \n",
              "1  34483200  \n",
              "2  37919700  \n",
              "3  36863600  \n",
              "4  26580100  "
            ],
            "text/html": [
              "\n",
              "  <div id=\"df-644416f7-0c48-404a-9847-c578f665bcea\">\n",
              "    <div class=\"colab-df-container\">\n",
              "      <div>\n",
              "<style scoped>\n",
              "    .dataframe tbody tr th:only-of-type {\n",
              "        vertical-align: middle;\n",
              "    }\n",
              "\n",
              "    .dataframe tbody tr th {\n",
              "        vertical-align: top;\n",
              "    }\n",
              "\n",
              "    .dataframe thead th {\n",
              "        text-align: right;\n",
              "    }\n",
              "</style>\n",
              "<table border=\"1\" class=\"dataframe\">\n",
              "  <thead>\n",
              "    <tr style=\"text-align: right;\">\n",
              "      <th></th>\n",
              "      <th>Date</th>\n",
              "      <th>Open</th>\n",
              "      <th>High</th>\n",
              "      <th>Low</th>\n",
              "      <th>Close</th>\n",
              "      <th>Adj Close</th>\n",
              "      <th>Volume</th>\n",
              "    </tr>\n",
              "  </thead>\n",
              "  <tbody>\n",
              "    <tr>\n",
              "      <th>0</th>\n",
              "      <td>2014-09-17</td>\n",
              "      <td>465.864014</td>\n",
              "      <td>468.174011</td>\n",
              "      <td>452.421997</td>\n",
              "      <td>457.334015</td>\n",
              "      <td>457.334015</td>\n",
              "      <td>21056800</td>\n",
              "    </tr>\n",
              "    <tr>\n",
              "      <th>1</th>\n",
              "      <td>2014-09-18</td>\n",
              "      <td>456.859985</td>\n",
              "      <td>456.859985</td>\n",
              "      <td>413.104004</td>\n",
              "      <td>424.440002</td>\n",
              "      <td>424.440002</td>\n",
              "      <td>34483200</td>\n",
              "    </tr>\n",
              "    <tr>\n",
              "      <th>2</th>\n",
              "      <td>2014-09-19</td>\n",
              "      <td>424.102997</td>\n",
              "      <td>427.834991</td>\n",
              "      <td>384.532013</td>\n",
              "      <td>394.795990</td>\n",
              "      <td>394.795990</td>\n",
              "      <td>37919700</td>\n",
              "    </tr>\n",
              "    <tr>\n",
              "      <th>3</th>\n",
              "      <td>2014-09-20</td>\n",
              "      <td>394.673004</td>\n",
              "      <td>423.295990</td>\n",
              "      <td>389.882996</td>\n",
              "      <td>408.903992</td>\n",
              "      <td>408.903992</td>\n",
              "      <td>36863600</td>\n",
              "    </tr>\n",
              "    <tr>\n",
              "      <th>4</th>\n",
              "      <td>2014-09-21</td>\n",
              "      <td>408.084991</td>\n",
              "      <td>412.425995</td>\n",
              "      <td>393.181000</td>\n",
              "      <td>398.821014</td>\n",
              "      <td>398.821014</td>\n",
              "      <td>26580100</td>\n",
              "    </tr>\n",
              "  </tbody>\n",
              "</table>\n",
              "</div>\n",
              "      <button class=\"colab-df-convert\" onclick=\"convertToInteractive('df-644416f7-0c48-404a-9847-c578f665bcea')\"\n",
              "              title=\"Convert this dataframe to an interactive table.\"\n",
              "              style=\"display:none;\">\n",
              "        \n",
              "  <svg xmlns=\"http://www.w3.org/2000/svg\" height=\"24px\"viewBox=\"0 0 24 24\"\n",
              "       width=\"24px\">\n",
              "    <path d=\"M0 0h24v24H0V0z\" fill=\"none\"/>\n",
              "    <path d=\"M18.56 5.44l.94 2.06.94-2.06 2.06-.94-2.06-.94-.94-2.06-.94 2.06-2.06.94zm-11 1L8.5 8.5l.94-2.06 2.06-.94-2.06-.94L8.5 2.5l-.94 2.06-2.06.94zm10 10l.94 2.06.94-2.06 2.06-.94-2.06-.94-.94-2.06-.94 2.06-2.06.94z\"/><path d=\"M17.41 7.96l-1.37-1.37c-.4-.4-.92-.59-1.43-.59-.52 0-1.04.2-1.43.59L10.3 9.45l-7.72 7.72c-.78.78-.78 2.05 0 2.83L4 21.41c.39.39.9.59 1.41.59.51 0 1.02-.2 1.41-.59l7.78-7.78 2.81-2.81c.8-.78.8-2.07 0-2.86zM5.41 20L4 18.59l7.72-7.72 1.47 1.35L5.41 20z\"/>\n",
              "  </svg>\n",
              "      </button>\n",
              "      \n",
              "  <style>\n",
              "    .colab-df-container {\n",
              "      display:flex;\n",
              "      flex-wrap:wrap;\n",
              "      gap: 12px;\n",
              "    }\n",
              "\n",
              "    .colab-df-convert {\n",
              "      background-color: #E8F0FE;\n",
              "      border: none;\n",
              "      border-radius: 50%;\n",
              "      cursor: pointer;\n",
              "      display: none;\n",
              "      fill: #1967D2;\n",
              "      height: 32px;\n",
              "      padding: 0 0 0 0;\n",
              "      width: 32px;\n",
              "    }\n",
              "\n",
              "    .colab-df-convert:hover {\n",
              "      background-color: #E2EBFA;\n",
              "      box-shadow: 0px 1px 2px rgba(60, 64, 67, 0.3), 0px 1px 3px 1px rgba(60, 64, 67, 0.15);\n",
              "      fill: #174EA6;\n",
              "    }\n",
              "\n",
              "    [theme=dark] .colab-df-convert {\n",
              "      background-color: #3B4455;\n",
              "      fill: #D2E3FC;\n",
              "    }\n",
              "\n",
              "    [theme=dark] .colab-df-convert:hover {\n",
              "      background-color: #434B5C;\n",
              "      box-shadow: 0px 1px 3px 1px rgba(0, 0, 0, 0.15);\n",
              "      filter: drop-shadow(0px 1px 2px rgba(0, 0, 0, 0.3));\n",
              "      fill: #FFFFFF;\n",
              "    }\n",
              "  </style>\n",
              "\n",
              "      <script>\n",
              "        const buttonEl =\n",
              "          document.querySelector('#df-644416f7-0c48-404a-9847-c578f665bcea button.colab-df-convert');\n",
              "        buttonEl.style.display =\n",
              "          google.colab.kernel.accessAllowed ? 'block' : 'none';\n",
              "\n",
              "        async function convertToInteractive(key) {\n",
              "          const element = document.querySelector('#df-644416f7-0c48-404a-9847-c578f665bcea');\n",
              "          const dataTable =\n",
              "            await google.colab.kernel.invokeFunction('convertToInteractive',\n",
              "                                                     [key], {});\n",
              "          if (!dataTable) return;\n",
              "\n",
              "          const docLinkHtml = 'Like what you see? Visit the ' +\n",
              "            '<a target=\"_blank\" href=https://colab.research.google.com/notebooks/data_table.ipynb>data table notebook</a>'\n",
              "            + ' to learn more about interactive tables.';\n",
              "          element.innerHTML = '';\n",
              "          dataTable['output_type'] = 'display_data';\n",
              "          await google.colab.output.renderOutput(dataTable, element);\n",
              "          const docLink = document.createElement('div');\n",
              "          docLink.innerHTML = docLinkHtml;\n",
              "          element.appendChild(docLink);\n",
              "        }\n",
              "      </script>\n",
              "    </div>\n",
              "  </div>\n",
              "  "
            ]
          },
          "metadata": {},
          "execution_count": 1
        }
      ],
      "source": [
        "from google.colab import drive\n",
        "drive.mount('/content/drive', force_remount=True)\n",
        "path_prefix = \"./drive/My Drive\"\n",
        "\n",
        "from os.path import join\n",
        "import pandas as pd\n",
        "import numpy as np\n",
        "import matplotlib.pyplot as plt\n",
        "%matplotlib inline\n",
        "\n",
        "filename = \"BTC-USD.csv\" #Our main dataset\n",
        "join(path_prefix, filename)\n",
        "df = pd.read_csv(join(path_prefix, filename))\n",
        "df.head()"
      ]
    },
    {
      "cell_type": "code",
      "execution_count": null,
      "metadata": {
        "colab": {
          "base_uri": "https://localhost:8080/",
          "height": 300
        },
        "id": "z2gUGbX469Jt",
        "outputId": "13f83fd6-c6db-43c7-d2bc-7f017f160ef6"
      },
      "outputs": [
        {
          "output_type": "execute_result",
          "data": {
            "text/plain": [
              "               Open          High           Low         Close     Adj Close  \\\n",
              "count   2755.000000   2755.000000   2755.000000   2755.000000   2755.000000   \n",
              "mean   11768.664114  12082.896368  11425.227294  11783.725409  11783.725409   \n",
              "std    16405.233671  16841.443821  15910.212812  16413.271203  16413.271203   \n",
              "min      176.897003    211.731003    171.509995    178.102997    178.102997   \n",
              "25%      609.777497    612.311005    606.981994    609.804504    609.804504   \n",
              "50%     6380.379883   6504.649902   6297.930176   6385.819824   6385.819824   \n",
              "75%    10795.780762  11047.681152  10485.476074  10788.915528  10788.915528   \n",
              "max    67549.734375  68789.625000  66382.062500  67566.828125  67566.828125   \n",
              "\n",
              "             Volume  \n",
              "count  2.755000e+03  \n",
              "mean   1.489443e+10  \n",
              "std    1.994140e+10  \n",
              "min    5.914570e+06  \n",
              "25%    8.172330e+07  \n",
              "50%    5.262698e+09  \n",
              "75%    2.512467e+10  \n",
              "max    3.509679e+11  "
            ],
            "text/html": [
              "\n",
              "  <div id=\"df-ea9e586e-1b05-408c-ba34-b1cb488ffb0a\">\n",
              "    <div class=\"colab-df-container\">\n",
              "      <div>\n",
              "<style scoped>\n",
              "    .dataframe tbody tr th:only-of-type {\n",
              "        vertical-align: middle;\n",
              "    }\n",
              "\n",
              "    .dataframe tbody tr th {\n",
              "        vertical-align: top;\n",
              "    }\n",
              "\n",
              "    .dataframe thead th {\n",
              "        text-align: right;\n",
              "    }\n",
              "</style>\n",
              "<table border=\"1\" class=\"dataframe\">\n",
              "  <thead>\n",
              "    <tr style=\"text-align: right;\">\n",
              "      <th></th>\n",
              "      <th>Open</th>\n",
              "      <th>High</th>\n",
              "      <th>Low</th>\n",
              "      <th>Close</th>\n",
              "      <th>Adj Close</th>\n",
              "      <th>Volume</th>\n",
              "    </tr>\n",
              "  </thead>\n",
              "  <tbody>\n",
              "    <tr>\n",
              "      <th>count</th>\n",
              "      <td>2755.000000</td>\n",
              "      <td>2755.000000</td>\n",
              "      <td>2755.000000</td>\n",
              "      <td>2755.000000</td>\n",
              "      <td>2755.000000</td>\n",
              "      <td>2.755000e+03</td>\n",
              "    </tr>\n",
              "    <tr>\n",
              "      <th>mean</th>\n",
              "      <td>11768.664114</td>\n",
              "      <td>12082.896368</td>\n",
              "      <td>11425.227294</td>\n",
              "      <td>11783.725409</td>\n",
              "      <td>11783.725409</td>\n",
              "      <td>1.489443e+10</td>\n",
              "    </tr>\n",
              "    <tr>\n",
              "      <th>std</th>\n",
              "      <td>16405.233671</td>\n",
              "      <td>16841.443821</td>\n",
              "      <td>15910.212812</td>\n",
              "      <td>16413.271203</td>\n",
              "      <td>16413.271203</td>\n",
              "      <td>1.994140e+10</td>\n",
              "    </tr>\n",
              "    <tr>\n",
              "      <th>min</th>\n",
              "      <td>176.897003</td>\n",
              "      <td>211.731003</td>\n",
              "      <td>171.509995</td>\n",
              "      <td>178.102997</td>\n",
              "      <td>178.102997</td>\n",
              "      <td>5.914570e+06</td>\n",
              "    </tr>\n",
              "    <tr>\n",
              "      <th>25%</th>\n",
              "      <td>609.777497</td>\n",
              "      <td>612.311005</td>\n",
              "      <td>606.981994</td>\n",
              "      <td>609.804504</td>\n",
              "      <td>609.804504</td>\n",
              "      <td>8.172330e+07</td>\n",
              "    </tr>\n",
              "    <tr>\n",
              "      <th>50%</th>\n",
              "      <td>6380.379883</td>\n",
              "      <td>6504.649902</td>\n",
              "      <td>6297.930176</td>\n",
              "      <td>6385.819824</td>\n",
              "      <td>6385.819824</td>\n",
              "      <td>5.262698e+09</td>\n",
              "    </tr>\n",
              "    <tr>\n",
              "      <th>75%</th>\n",
              "      <td>10795.780762</td>\n",
              "      <td>11047.681152</td>\n",
              "      <td>10485.476074</td>\n",
              "      <td>10788.915528</td>\n",
              "      <td>10788.915528</td>\n",
              "      <td>2.512467e+10</td>\n",
              "    </tr>\n",
              "    <tr>\n",
              "      <th>max</th>\n",
              "      <td>67549.734375</td>\n",
              "      <td>68789.625000</td>\n",
              "      <td>66382.062500</td>\n",
              "      <td>67566.828125</td>\n",
              "      <td>67566.828125</td>\n",
              "      <td>3.509679e+11</td>\n",
              "    </tr>\n",
              "  </tbody>\n",
              "</table>\n",
              "</div>\n",
              "      <button class=\"colab-df-convert\" onclick=\"convertToInteractive('df-ea9e586e-1b05-408c-ba34-b1cb488ffb0a')\"\n",
              "              title=\"Convert this dataframe to an interactive table.\"\n",
              "              style=\"display:none;\">\n",
              "        \n",
              "  <svg xmlns=\"http://www.w3.org/2000/svg\" height=\"24px\"viewBox=\"0 0 24 24\"\n",
              "       width=\"24px\">\n",
              "    <path d=\"M0 0h24v24H0V0z\" fill=\"none\"/>\n",
              "    <path d=\"M18.56 5.44l.94 2.06.94-2.06 2.06-.94-2.06-.94-.94-2.06-.94 2.06-2.06.94zm-11 1L8.5 8.5l.94-2.06 2.06-.94-2.06-.94L8.5 2.5l-.94 2.06-2.06.94zm10 10l.94 2.06.94-2.06 2.06-.94-2.06-.94-.94-2.06-.94 2.06-2.06.94z\"/><path d=\"M17.41 7.96l-1.37-1.37c-.4-.4-.92-.59-1.43-.59-.52 0-1.04.2-1.43.59L10.3 9.45l-7.72 7.72c-.78.78-.78 2.05 0 2.83L4 21.41c.39.39.9.59 1.41.59.51 0 1.02-.2 1.41-.59l7.78-7.78 2.81-2.81c.8-.78.8-2.07 0-2.86zM5.41 20L4 18.59l7.72-7.72 1.47 1.35L5.41 20z\"/>\n",
              "  </svg>\n",
              "      </button>\n",
              "      \n",
              "  <style>\n",
              "    .colab-df-container {\n",
              "      display:flex;\n",
              "      flex-wrap:wrap;\n",
              "      gap: 12px;\n",
              "    }\n",
              "\n",
              "    .colab-df-convert {\n",
              "      background-color: #E8F0FE;\n",
              "      border: none;\n",
              "      border-radius: 50%;\n",
              "      cursor: pointer;\n",
              "      display: none;\n",
              "      fill: #1967D2;\n",
              "      height: 32px;\n",
              "      padding: 0 0 0 0;\n",
              "      width: 32px;\n",
              "    }\n",
              "\n",
              "    .colab-df-convert:hover {\n",
              "      background-color: #E2EBFA;\n",
              "      box-shadow: 0px 1px 2px rgba(60, 64, 67, 0.3), 0px 1px 3px 1px rgba(60, 64, 67, 0.15);\n",
              "      fill: #174EA6;\n",
              "    }\n",
              "\n",
              "    [theme=dark] .colab-df-convert {\n",
              "      background-color: #3B4455;\n",
              "      fill: #D2E3FC;\n",
              "    }\n",
              "\n",
              "    [theme=dark] .colab-df-convert:hover {\n",
              "      background-color: #434B5C;\n",
              "      box-shadow: 0px 1px 3px 1px rgba(0, 0, 0, 0.15);\n",
              "      filter: drop-shadow(0px 1px 2px rgba(0, 0, 0, 0.3));\n",
              "      fill: #FFFFFF;\n",
              "    }\n",
              "  </style>\n",
              "\n",
              "      <script>\n",
              "        const buttonEl =\n",
              "          document.querySelector('#df-ea9e586e-1b05-408c-ba34-b1cb488ffb0a button.colab-df-convert');\n",
              "        buttonEl.style.display =\n",
              "          google.colab.kernel.accessAllowed ? 'block' : 'none';\n",
              "\n",
              "        async function convertToInteractive(key) {\n",
              "          const element = document.querySelector('#df-ea9e586e-1b05-408c-ba34-b1cb488ffb0a');\n",
              "          const dataTable =\n",
              "            await google.colab.kernel.invokeFunction('convertToInteractive',\n",
              "                                                     [key], {});\n",
              "          if (!dataTable) return;\n",
              "\n",
              "          const docLinkHtml = 'Like what you see? Visit the ' +\n",
              "            '<a target=\"_blank\" href=https://colab.research.google.com/notebooks/data_table.ipynb>data table notebook</a>'\n",
              "            + ' to learn more about interactive tables.';\n",
              "          element.innerHTML = '';\n",
              "          dataTable['output_type'] = 'display_data';\n",
              "          await google.colab.output.renderOutput(dataTable, element);\n",
              "          const docLink = document.createElement('div');\n",
              "          docLink.innerHTML = docLinkHtml;\n",
              "          element.appendChild(docLink);\n",
              "        }\n",
              "      </script>\n",
              "    </div>\n",
              "  </div>\n",
              "  "
            ]
          },
          "metadata": {},
          "execution_count": 2
        }
      ],
      "source": [
        "df.describe()"
      ]
    },
    {
      "cell_type": "code",
      "execution_count": null,
      "metadata": {
        "colab": {
          "base_uri": "https://localhost:8080/"
        },
        "id": "1Swdnuu854F8",
        "outputId": "806e04bc-4d55-4615-b40a-28efddc137a9"
      },
      "outputs": [
        {
          "output_type": "stream",
          "name": "stdout",
          "text": [
            "<class 'pandas.core.frame.DataFrame'>\n",
            "RangeIndex: 2755 entries, 0 to 2754\n",
            "Data columns (total 7 columns):\n",
            " #   Column     Non-Null Count  Dtype  \n",
            "---  ------     --------------  -----  \n",
            " 0   Date       2755 non-null   object \n",
            " 1   Open       2755 non-null   float64\n",
            " 2   High       2755 non-null   float64\n",
            " 3   Low        2755 non-null   float64\n",
            " 4   Close      2755 non-null   float64\n",
            " 5   Adj Close  2755 non-null   float64\n",
            " 6   Volume     2755 non-null   int64  \n",
            "dtypes: float64(5), int64(1), object(1)\n",
            "memory usage: 150.8+ KB\n"
          ]
        }
      ],
      "source": [
        "df.info()"
      ]
    },
    {
      "cell_type": "code",
      "execution_count": null,
      "metadata": {
        "colab": {
          "base_uri": "https://localhost:8080/"
        },
        "id": "QUvkvwgA7ZOc",
        "outputId": "ea8a756d-1c77-490a-82ea-b548594dd067"
      },
      "outputs": [
        {
          "output_type": "execute_result",
          "data": {
            "text/plain": [
              "Date          object\n",
              "Open         float64\n",
              "High         float64\n",
              "Low          float64\n",
              "Close        float64\n",
              "Adj Close    float64\n",
              "Volume         int64\n",
              "dtype: object"
            ]
          },
          "metadata": {},
          "execution_count": 4
        }
      ],
      "source": [
        "df.dtypes"
      ]
    },
    {
      "cell_type": "code",
      "execution_count": null,
      "metadata": {
        "colab": {
          "base_uri": "https://localhost:8080/"
        },
        "id": "1HrfdJSq7XJC",
        "outputId": "452897d2-481d-40bb-ea00-bac24081bd4d"
      },
      "outputs": [
        {
          "output_type": "execute_result",
          "data": {
            "text/plain": [
              "(2755, 7)"
            ]
          },
          "metadata": {},
          "execution_count": 5
        }
      ],
      "source": [
        "df.shape "
      ]
    },
    {
      "cell_type": "code",
      "execution_count": null,
      "metadata": {
        "colab": {
          "base_uri": "https://localhost:8080/"
        },
        "id": "ib-3Buwn1Ji6",
        "outputId": "de61d77d-cb19-4664-bfbe-d6fdeec5a481"
      },
      "outputs": [
        {
          "output_type": "execute_result",
          "data": {
            "text/plain": [
              "Date         0\n",
              "Open         0\n",
              "High         0\n",
              "Low          0\n",
              "Close        0\n",
              "Adj Close    0\n",
              "Volume       0\n",
              "dtype: int64"
            ]
          },
          "metadata": {},
          "execution_count": 6
        }
      ],
      "source": [
        "df.isna().sum()"
      ]
    },
    {
      "cell_type": "markdown",
      "metadata": {
        "id": "QekGzdcQ7-8A"
      },
      "source": [
        "### Utilized Datasets\n",
        "\n",
        "#### 2) Complementary Dataset -Information of Bitcoin by Market Capitalization\n",
        "\n",
        "The complimentary dataset that we will be using in this project is another Kaggle dataset named \"BTC-USD-MarketCap,\" which can be accessed from the following link: [Drive](https://drive.google.com/file/d/17wlrNQZ6H6JxpSHGGdtgdAaXyeeJcCCp/view?usp=sharing)\n",
        "\n",
        "This dataset is a time-series-based dataset consisting 2991 observations recorded daily and 10 variables upon which the price trend of Bitcoin is examined.\n",
        "\n",
        "In the complementary dataset, price history is available on a daily basis from April 28, 2013. This dataset has the historical price information of Bitcoin by market capitalization.\n",
        "\n",
        "Date : Date of observation\n",
        "\n",
        "Open : Opening price on the given day\n",
        "\n",
        "High : Highest price on the given day\n",
        "\n",
        "Low : Lowest price on the given day\n",
        "\n",
        "Close : Closing price on the given day\n",
        "\n",
        "Volume : Volume of transactions on the given day\n",
        "\n",
        "Market Cap : Market capitalization in USD\n"
      ]
    },
    {
      "cell_type": "markdown",
      "metadata": {
        "id": "IOM0gNV_7PCY"
      },
      "source": [
        "```\n",
        "# This cell imports our complementary dataset to the system which presents the historical price information of Bitcoin by market capitalization.\n",
        "\n",
        "```"
      ]
    },
    {
      "cell_type": "code",
      "execution_count": null,
      "metadata": {
        "colab": {
          "base_uri": "https://localhost:8080/",
          "height": 206
        },
        "id": "r-f8a6EC8kkC",
        "outputId": "a22534b3-3c9e-443d-a607-dbc0550b620b"
      },
      "outputs": [
        {
          "output_type": "execute_result",
          "data": {
            "text/plain": [
              "   SNo     Name Symbol                 Date        High         Low  \\\n",
              "0    1  Bitcoin    BTC  2013-04-29 23:59:59  147.488007  134.000000   \n",
              "1    2  Bitcoin    BTC  2013-04-30 23:59:59  146.929993  134.050003   \n",
              "2    3  Bitcoin    BTC  2013-05-01 23:59:59  139.889999  107.720001   \n",
              "3    4  Bitcoin    BTC  2013-05-02 23:59:59  125.599998   92.281898   \n",
              "4    5  Bitcoin    BTC  2013-05-03 23:59:59  108.127998   79.099998   \n",
              "\n",
              "         Open       Close  Volume     Marketcap  \n",
              "0  134.444000  144.539993     0.0  1.603769e+09  \n",
              "1  144.000000  139.000000     0.0  1.542813e+09  \n",
              "2  139.000000  116.989998     0.0  1.298955e+09  \n",
              "3  116.379997  105.209999     0.0  1.168517e+09  \n",
              "4  106.250000   97.750000     0.0  1.085995e+09  "
            ],
            "text/html": [
              "\n",
              "  <div id=\"df-1250a6ec-cf88-4ee8-8225-38f3ed32d3f8\">\n",
              "    <div class=\"colab-df-container\">\n",
              "      <div>\n",
              "<style scoped>\n",
              "    .dataframe tbody tr th:only-of-type {\n",
              "        vertical-align: middle;\n",
              "    }\n",
              "\n",
              "    .dataframe tbody tr th {\n",
              "        vertical-align: top;\n",
              "    }\n",
              "\n",
              "    .dataframe thead th {\n",
              "        text-align: right;\n",
              "    }\n",
              "</style>\n",
              "<table border=\"1\" class=\"dataframe\">\n",
              "  <thead>\n",
              "    <tr style=\"text-align: right;\">\n",
              "      <th></th>\n",
              "      <th>SNo</th>\n",
              "      <th>Name</th>\n",
              "      <th>Symbol</th>\n",
              "      <th>Date</th>\n",
              "      <th>High</th>\n",
              "      <th>Low</th>\n",
              "      <th>Open</th>\n",
              "      <th>Close</th>\n",
              "      <th>Volume</th>\n",
              "      <th>Marketcap</th>\n",
              "    </tr>\n",
              "  </thead>\n",
              "  <tbody>\n",
              "    <tr>\n",
              "      <th>0</th>\n",
              "      <td>1</td>\n",
              "      <td>Bitcoin</td>\n",
              "      <td>BTC</td>\n",
              "      <td>2013-04-29 23:59:59</td>\n",
              "      <td>147.488007</td>\n",
              "      <td>134.000000</td>\n",
              "      <td>134.444000</td>\n",
              "      <td>144.539993</td>\n",
              "      <td>0.0</td>\n",
              "      <td>1.603769e+09</td>\n",
              "    </tr>\n",
              "    <tr>\n",
              "      <th>1</th>\n",
              "      <td>2</td>\n",
              "      <td>Bitcoin</td>\n",
              "      <td>BTC</td>\n",
              "      <td>2013-04-30 23:59:59</td>\n",
              "      <td>146.929993</td>\n",
              "      <td>134.050003</td>\n",
              "      <td>144.000000</td>\n",
              "      <td>139.000000</td>\n",
              "      <td>0.0</td>\n",
              "      <td>1.542813e+09</td>\n",
              "    </tr>\n",
              "    <tr>\n",
              "      <th>2</th>\n",
              "      <td>3</td>\n",
              "      <td>Bitcoin</td>\n",
              "      <td>BTC</td>\n",
              "      <td>2013-05-01 23:59:59</td>\n",
              "      <td>139.889999</td>\n",
              "      <td>107.720001</td>\n",
              "      <td>139.000000</td>\n",
              "      <td>116.989998</td>\n",
              "      <td>0.0</td>\n",
              "      <td>1.298955e+09</td>\n",
              "    </tr>\n",
              "    <tr>\n",
              "      <th>3</th>\n",
              "      <td>4</td>\n",
              "      <td>Bitcoin</td>\n",
              "      <td>BTC</td>\n",
              "      <td>2013-05-02 23:59:59</td>\n",
              "      <td>125.599998</td>\n",
              "      <td>92.281898</td>\n",
              "      <td>116.379997</td>\n",
              "      <td>105.209999</td>\n",
              "      <td>0.0</td>\n",
              "      <td>1.168517e+09</td>\n",
              "    </tr>\n",
              "    <tr>\n",
              "      <th>4</th>\n",
              "      <td>5</td>\n",
              "      <td>Bitcoin</td>\n",
              "      <td>BTC</td>\n",
              "      <td>2013-05-03 23:59:59</td>\n",
              "      <td>108.127998</td>\n",
              "      <td>79.099998</td>\n",
              "      <td>106.250000</td>\n",
              "      <td>97.750000</td>\n",
              "      <td>0.0</td>\n",
              "      <td>1.085995e+09</td>\n",
              "    </tr>\n",
              "  </tbody>\n",
              "</table>\n",
              "</div>\n",
              "      <button class=\"colab-df-convert\" onclick=\"convertToInteractive('df-1250a6ec-cf88-4ee8-8225-38f3ed32d3f8')\"\n",
              "              title=\"Convert this dataframe to an interactive table.\"\n",
              "              style=\"display:none;\">\n",
              "        \n",
              "  <svg xmlns=\"http://www.w3.org/2000/svg\" height=\"24px\"viewBox=\"0 0 24 24\"\n",
              "       width=\"24px\">\n",
              "    <path d=\"M0 0h24v24H0V0z\" fill=\"none\"/>\n",
              "    <path d=\"M18.56 5.44l.94 2.06.94-2.06 2.06-.94-2.06-.94-.94-2.06-.94 2.06-2.06.94zm-11 1L8.5 8.5l.94-2.06 2.06-.94-2.06-.94L8.5 2.5l-.94 2.06-2.06.94zm10 10l.94 2.06.94-2.06 2.06-.94-2.06-.94-.94-2.06-.94 2.06-2.06.94z\"/><path d=\"M17.41 7.96l-1.37-1.37c-.4-.4-.92-.59-1.43-.59-.52 0-1.04.2-1.43.59L10.3 9.45l-7.72 7.72c-.78.78-.78 2.05 0 2.83L4 21.41c.39.39.9.59 1.41.59.51 0 1.02-.2 1.41-.59l7.78-7.78 2.81-2.81c.8-.78.8-2.07 0-2.86zM5.41 20L4 18.59l7.72-7.72 1.47 1.35L5.41 20z\"/>\n",
              "  </svg>\n",
              "      </button>\n",
              "      \n",
              "  <style>\n",
              "    .colab-df-container {\n",
              "      display:flex;\n",
              "      flex-wrap:wrap;\n",
              "      gap: 12px;\n",
              "    }\n",
              "\n",
              "    .colab-df-convert {\n",
              "      background-color: #E8F0FE;\n",
              "      border: none;\n",
              "      border-radius: 50%;\n",
              "      cursor: pointer;\n",
              "      display: none;\n",
              "      fill: #1967D2;\n",
              "      height: 32px;\n",
              "      padding: 0 0 0 0;\n",
              "      width: 32px;\n",
              "    }\n",
              "\n",
              "    .colab-df-convert:hover {\n",
              "      background-color: #E2EBFA;\n",
              "      box-shadow: 0px 1px 2px rgba(60, 64, 67, 0.3), 0px 1px 3px 1px rgba(60, 64, 67, 0.15);\n",
              "      fill: #174EA6;\n",
              "    }\n",
              "\n",
              "    [theme=dark] .colab-df-convert {\n",
              "      background-color: #3B4455;\n",
              "      fill: #D2E3FC;\n",
              "    }\n",
              "\n",
              "    [theme=dark] .colab-df-convert:hover {\n",
              "      background-color: #434B5C;\n",
              "      box-shadow: 0px 1px 3px 1px rgba(0, 0, 0, 0.15);\n",
              "      filter: drop-shadow(0px 1px 2px rgba(0, 0, 0, 0.3));\n",
              "      fill: #FFFFFF;\n",
              "    }\n",
              "  </style>\n",
              "\n",
              "      <script>\n",
              "        const buttonEl =\n",
              "          document.querySelector('#df-1250a6ec-cf88-4ee8-8225-38f3ed32d3f8 button.colab-df-convert');\n",
              "        buttonEl.style.display =\n",
              "          google.colab.kernel.accessAllowed ? 'block' : 'none';\n",
              "\n",
              "        async function convertToInteractive(key) {\n",
              "          const element = document.querySelector('#df-1250a6ec-cf88-4ee8-8225-38f3ed32d3f8');\n",
              "          const dataTable =\n",
              "            await google.colab.kernel.invokeFunction('convertToInteractive',\n",
              "                                                     [key], {});\n",
              "          if (!dataTable) return;\n",
              "\n",
              "          const docLinkHtml = 'Like what you see? Visit the ' +\n",
              "            '<a target=\"_blank\" href=https://colab.research.google.com/notebooks/data_table.ipynb>data table notebook</a>'\n",
              "            + ' to learn more about interactive tables.';\n",
              "          element.innerHTML = '';\n",
              "          dataTable['output_type'] = 'display_data';\n",
              "          await google.colab.output.renderOutput(dataTable, element);\n",
              "          const docLink = document.createElement('div');\n",
              "          docLink.innerHTML = docLinkHtml;\n",
              "          element.appendChild(docLink);\n",
              "        }\n",
              "      </script>\n",
              "    </div>\n",
              "  </div>\n",
              "  "
            ]
          },
          "metadata": {},
          "execution_count": 7
        }
      ],
      "source": [
        "filename2 = \"BTC-USD-MarketCap.csv\" #Our complementary dataset\n",
        "join(path_prefix, filename2)\n",
        "df_2 = pd.read_csv(join(path_prefix, filename2))\n",
        "df_2.head()"
      ]
    },
    {
      "cell_type": "code",
      "execution_count": null,
      "metadata": {
        "colab": {
          "base_uri": "https://localhost:8080/",
          "height": 300
        },
        "id": "tpbgec4z83Ex",
        "outputId": "f98238eb-5911-4730-f450-1c7f25b09f17"
      },
      "outputs": [
        {
          "output_type": "execute_result",
          "data": {
            "text/plain": [
              "               SNo          High           Low          Open         Close  \\\n",
              "count  2991.000000   2991.000000   2991.000000   2991.000000   2991.000000   \n",
              "mean   1496.000000   6893.326038   6486.009539   6700.146240   6711.290443   \n",
              "std     863.571653  11642.832456  10869.032130  11288.043736  11298.141921   \n",
              "min       1.000000     74.561096     65.526001     68.504997     68.431000   \n",
              "25%     748.500000    436.179001    422.879486    430.445496    430.569489   \n",
              "50%    1496.000000   2387.610107   2178.500000   2269.889893   2286.409912   \n",
              "75%    2243.500000   8733.926948   8289.800459   8569.656494   8576.238715   \n",
              "max    2991.000000  64863.098908  62208.964366  63523.754869  63503.457930   \n",
              "\n",
              "             Volume     Marketcap  \n",
              "count  2.991000e+03  2.991000e+03  \n",
              "mean   1.090633e+10  1.208761e+11  \n",
              "std    1.888895e+10  2.109438e+11  \n",
              "min    0.000000e+00  7.784112e+08  \n",
              "25%    3.036725e+07  6.305579e+09  \n",
              "50%    9.460360e+08  3.741503e+10  \n",
              "75%    1.592015e+10  1.499957e+11  \n",
              "max    3.509679e+11  1.186364e+12  "
            ],
            "text/html": [
              "\n",
              "  <div id=\"df-a42dc39d-162d-4dc7-a703-f6b57f98982b\">\n",
              "    <div class=\"colab-df-container\">\n",
              "      <div>\n",
              "<style scoped>\n",
              "    .dataframe tbody tr th:only-of-type {\n",
              "        vertical-align: middle;\n",
              "    }\n",
              "\n",
              "    .dataframe tbody tr th {\n",
              "        vertical-align: top;\n",
              "    }\n",
              "\n",
              "    .dataframe thead th {\n",
              "        text-align: right;\n",
              "    }\n",
              "</style>\n",
              "<table border=\"1\" class=\"dataframe\">\n",
              "  <thead>\n",
              "    <tr style=\"text-align: right;\">\n",
              "      <th></th>\n",
              "      <th>SNo</th>\n",
              "      <th>High</th>\n",
              "      <th>Low</th>\n",
              "      <th>Open</th>\n",
              "      <th>Close</th>\n",
              "      <th>Volume</th>\n",
              "      <th>Marketcap</th>\n",
              "    </tr>\n",
              "  </thead>\n",
              "  <tbody>\n",
              "    <tr>\n",
              "      <th>count</th>\n",
              "      <td>2991.000000</td>\n",
              "      <td>2991.000000</td>\n",
              "      <td>2991.000000</td>\n",
              "      <td>2991.000000</td>\n",
              "      <td>2991.000000</td>\n",
              "      <td>2.991000e+03</td>\n",
              "      <td>2.991000e+03</td>\n",
              "    </tr>\n",
              "    <tr>\n",
              "      <th>mean</th>\n",
              "      <td>1496.000000</td>\n",
              "      <td>6893.326038</td>\n",
              "      <td>6486.009539</td>\n",
              "      <td>6700.146240</td>\n",
              "      <td>6711.290443</td>\n",
              "      <td>1.090633e+10</td>\n",
              "      <td>1.208761e+11</td>\n",
              "    </tr>\n",
              "    <tr>\n",
              "      <th>std</th>\n",
              "      <td>863.571653</td>\n",
              "      <td>11642.832456</td>\n",
              "      <td>10869.032130</td>\n",
              "      <td>11288.043736</td>\n",
              "      <td>11298.141921</td>\n",
              "      <td>1.888895e+10</td>\n",
              "      <td>2.109438e+11</td>\n",
              "    </tr>\n",
              "    <tr>\n",
              "      <th>min</th>\n",
              "      <td>1.000000</td>\n",
              "      <td>74.561096</td>\n",
              "      <td>65.526001</td>\n",
              "      <td>68.504997</td>\n",
              "      <td>68.431000</td>\n",
              "      <td>0.000000e+00</td>\n",
              "      <td>7.784112e+08</td>\n",
              "    </tr>\n",
              "    <tr>\n",
              "      <th>25%</th>\n",
              "      <td>748.500000</td>\n",
              "      <td>436.179001</td>\n",
              "      <td>422.879486</td>\n",
              "      <td>430.445496</td>\n",
              "      <td>430.569489</td>\n",
              "      <td>3.036725e+07</td>\n",
              "      <td>6.305579e+09</td>\n",
              "    </tr>\n",
              "    <tr>\n",
              "      <th>50%</th>\n",
              "      <td>1496.000000</td>\n",
              "      <td>2387.610107</td>\n",
              "      <td>2178.500000</td>\n",
              "      <td>2269.889893</td>\n",
              "      <td>2286.409912</td>\n",
              "      <td>9.460360e+08</td>\n",
              "      <td>3.741503e+10</td>\n",
              "    </tr>\n",
              "    <tr>\n",
              "      <th>75%</th>\n",
              "      <td>2243.500000</td>\n",
              "      <td>8733.926948</td>\n",
              "      <td>8289.800459</td>\n",
              "      <td>8569.656494</td>\n",
              "      <td>8576.238715</td>\n",
              "      <td>1.592015e+10</td>\n",
              "      <td>1.499957e+11</td>\n",
              "    </tr>\n",
              "    <tr>\n",
              "      <th>max</th>\n",
              "      <td>2991.000000</td>\n",
              "      <td>64863.098908</td>\n",
              "      <td>62208.964366</td>\n",
              "      <td>63523.754869</td>\n",
              "      <td>63503.457930</td>\n",
              "      <td>3.509679e+11</td>\n",
              "      <td>1.186364e+12</td>\n",
              "    </tr>\n",
              "  </tbody>\n",
              "</table>\n",
              "</div>\n",
              "      <button class=\"colab-df-convert\" onclick=\"convertToInteractive('df-a42dc39d-162d-4dc7-a703-f6b57f98982b')\"\n",
              "              title=\"Convert this dataframe to an interactive table.\"\n",
              "              style=\"display:none;\">\n",
              "        \n",
              "  <svg xmlns=\"http://www.w3.org/2000/svg\" height=\"24px\"viewBox=\"0 0 24 24\"\n",
              "       width=\"24px\">\n",
              "    <path d=\"M0 0h24v24H0V0z\" fill=\"none\"/>\n",
              "    <path d=\"M18.56 5.44l.94 2.06.94-2.06 2.06-.94-2.06-.94-.94-2.06-.94 2.06-2.06.94zm-11 1L8.5 8.5l.94-2.06 2.06-.94-2.06-.94L8.5 2.5l-.94 2.06-2.06.94zm10 10l.94 2.06.94-2.06 2.06-.94-2.06-.94-.94-2.06-.94 2.06-2.06.94z\"/><path d=\"M17.41 7.96l-1.37-1.37c-.4-.4-.92-.59-1.43-.59-.52 0-1.04.2-1.43.59L10.3 9.45l-7.72 7.72c-.78.78-.78 2.05 0 2.83L4 21.41c.39.39.9.59 1.41.59.51 0 1.02-.2 1.41-.59l7.78-7.78 2.81-2.81c.8-.78.8-2.07 0-2.86zM5.41 20L4 18.59l7.72-7.72 1.47 1.35L5.41 20z\"/>\n",
              "  </svg>\n",
              "      </button>\n",
              "      \n",
              "  <style>\n",
              "    .colab-df-container {\n",
              "      display:flex;\n",
              "      flex-wrap:wrap;\n",
              "      gap: 12px;\n",
              "    }\n",
              "\n",
              "    .colab-df-convert {\n",
              "      background-color: #E8F0FE;\n",
              "      border: none;\n",
              "      border-radius: 50%;\n",
              "      cursor: pointer;\n",
              "      display: none;\n",
              "      fill: #1967D2;\n",
              "      height: 32px;\n",
              "      padding: 0 0 0 0;\n",
              "      width: 32px;\n",
              "    }\n",
              "\n",
              "    .colab-df-convert:hover {\n",
              "      background-color: #E2EBFA;\n",
              "      box-shadow: 0px 1px 2px rgba(60, 64, 67, 0.3), 0px 1px 3px 1px rgba(60, 64, 67, 0.15);\n",
              "      fill: #174EA6;\n",
              "    }\n",
              "\n",
              "    [theme=dark] .colab-df-convert {\n",
              "      background-color: #3B4455;\n",
              "      fill: #D2E3FC;\n",
              "    }\n",
              "\n",
              "    [theme=dark] .colab-df-convert:hover {\n",
              "      background-color: #434B5C;\n",
              "      box-shadow: 0px 1px 3px 1px rgba(0, 0, 0, 0.15);\n",
              "      filter: drop-shadow(0px 1px 2px rgba(0, 0, 0, 0.3));\n",
              "      fill: #FFFFFF;\n",
              "    }\n",
              "  </style>\n",
              "\n",
              "      <script>\n",
              "        const buttonEl =\n",
              "          document.querySelector('#df-a42dc39d-162d-4dc7-a703-f6b57f98982b button.colab-df-convert');\n",
              "        buttonEl.style.display =\n",
              "          google.colab.kernel.accessAllowed ? 'block' : 'none';\n",
              "\n",
              "        async function convertToInteractive(key) {\n",
              "          const element = document.querySelector('#df-a42dc39d-162d-4dc7-a703-f6b57f98982b');\n",
              "          const dataTable =\n",
              "            await google.colab.kernel.invokeFunction('convertToInteractive',\n",
              "                                                     [key], {});\n",
              "          if (!dataTable) return;\n",
              "\n",
              "          const docLinkHtml = 'Like what you see? Visit the ' +\n",
              "            '<a target=\"_blank\" href=https://colab.research.google.com/notebooks/data_table.ipynb>data table notebook</a>'\n",
              "            + ' to learn more about interactive tables.';\n",
              "          element.innerHTML = '';\n",
              "          dataTable['output_type'] = 'display_data';\n",
              "          await google.colab.output.renderOutput(dataTable, element);\n",
              "          const docLink = document.createElement('div');\n",
              "          docLink.innerHTML = docLinkHtml;\n",
              "          element.appendChild(docLink);\n",
              "        }\n",
              "      </script>\n",
              "    </div>\n",
              "  </div>\n",
              "  "
            ]
          },
          "metadata": {},
          "execution_count": 8
        }
      ],
      "source": [
        "df_2.describe()"
      ]
    },
    {
      "cell_type": "code",
      "execution_count": null,
      "metadata": {
        "colab": {
          "base_uri": "https://localhost:8080/"
        },
        "id": "QtuHSSzZ585q",
        "outputId": "652e633b-bd4e-407e-e5c6-103ea48c1d05"
      },
      "outputs": [
        {
          "output_type": "stream",
          "name": "stdout",
          "text": [
            "<class 'pandas.core.frame.DataFrame'>\n",
            "RangeIndex: 2991 entries, 0 to 2990\n",
            "Data columns (total 10 columns):\n",
            " #   Column     Non-Null Count  Dtype  \n",
            "---  ------     --------------  -----  \n",
            " 0   SNo        2991 non-null   int64  \n",
            " 1   Name       2991 non-null   object \n",
            " 2   Symbol     2991 non-null   object \n",
            " 3   Date       2991 non-null   object \n",
            " 4   High       2991 non-null   float64\n",
            " 5   Low        2991 non-null   float64\n",
            " 6   Open       2991 non-null   float64\n",
            " 7   Close      2991 non-null   float64\n",
            " 8   Volume     2991 non-null   float64\n",
            " 9   Marketcap  2991 non-null   float64\n",
            "dtypes: float64(6), int64(1), object(3)\n",
            "memory usage: 233.8+ KB\n"
          ]
        }
      ],
      "source": [
        "df_2.info()"
      ]
    },
    {
      "cell_type": "code",
      "execution_count": null,
      "metadata": {
        "colab": {
          "base_uri": "https://localhost:8080/"
        },
        "id": "aBBjujbQ877W",
        "outputId": "711a9e60-74a8-44a0-e917-1dd3fbfe43ec"
      },
      "outputs": [
        {
          "output_type": "execute_result",
          "data": {
            "text/plain": [
              "SNo            int64\n",
              "Name          object\n",
              "Symbol        object\n",
              "Date          object\n",
              "High         float64\n",
              "Low          float64\n",
              "Open         float64\n",
              "Close        float64\n",
              "Volume       float64\n",
              "Marketcap    float64\n",
              "dtype: object"
            ]
          },
          "metadata": {},
          "execution_count": 10
        }
      ],
      "source": [
        "df_2.dtypes"
      ]
    },
    {
      "cell_type": "code",
      "execution_count": null,
      "metadata": {
        "colab": {
          "base_uri": "https://localhost:8080/"
        },
        "id": "UxbXKAso9AmG",
        "outputId": "596dff2c-3396-44bb-9e1f-5db7608114ab"
      },
      "outputs": [
        {
          "output_type": "execute_result",
          "data": {
            "text/plain": [
              "(2991, 10)"
            ]
          },
          "metadata": {},
          "execution_count": 11
        }
      ],
      "source": [
        "df_2.shape"
      ]
    },
    {
      "cell_type": "code",
      "execution_count": null,
      "metadata": {
        "colab": {
          "base_uri": "https://localhost:8080/"
        },
        "id": "1U2owik61RKe",
        "outputId": "4ffb3344-a96a-40b8-bb0d-55f75ea1cb34"
      },
      "outputs": [
        {
          "output_type": "execute_result",
          "data": {
            "text/plain": [
              "SNo          0\n",
              "Name         0\n",
              "Symbol       0\n",
              "Date         0\n",
              "High         0\n",
              "Low          0\n",
              "Open         0\n",
              "Close        0\n",
              "Volume       0\n",
              "Marketcap    0\n",
              "dtype: int64"
            ]
          },
          "metadata": {},
          "execution_count": 12
        }
      ],
      "source": [
        "df_2.isna().sum() "
      ]
    },
    {
      "cell_type": "markdown",
      "metadata": {
        "id": "_FxCQAf7hTui"
      },
      "source": [
        "### Utilized Datasets\n",
        "\n",
        "#### 3) Third Dataset -Information of Bitcoin by Generated Coins and Block Size\n",
        "\n",
        "The third dataset that we will be using in this project is named \"bitcoin\", which can be accessed from the following link: [Drive](https://drive.google.com/file/d/1wv1RjFsgV1PXggQyjhAunZvYmCNUNeWV/view?usp=sharing)\n",
        "\n",
        "The extracted the dataset from Datahub. \n",
        "\n",
        "This dataset is a time-series-based dataset consisting 3605 observations recorded daily and 16 variables upon which the price trend of Bitcoin is examined. We will make use of the data on the price data for the selected time range and generated coins and block size, and analyze the price trends based on these relationships.\n",
        "\n",
        "In this third dataset, price history is available on a daily basis from January 9, 2009. This dataset has the historical price information of Bitcoin by generated coins, block size, block count, and payment count. Of these features, we are going to use generated coints and block size in our price analysis. \n",
        "\n",
        "The main dataset of our project has the historical price information of Bitcoin over the last 13 years, starting from 2009."
      ]
    },
    {
      "cell_type": "markdown",
      "metadata": {
        "id": "uXckn9twjNp6"
      },
      "source": [
        "```\n",
        "# This cell imports our third dataset to the system which presents the historical price information of Bitcoin by market capitalization.\n",
        "\n",
        "```\n"
      ]
    },
    {
      "cell_type": "code",
      "execution_count": null,
      "metadata": {
        "colab": {
          "base_uri": "https://localhost:8080/",
          "height": 357
        },
        "id": "5oI8v1MfjOMI",
        "outputId": "3ba5c3c3-fd45-4352-922b-bceb99b0f494"
      },
      "outputs": [
        {
          "output_type": "execute_result",
          "data": {
            "text/plain": [
              "         date  txVolume(USD)  adjustedTxVolume(USD)  txCount  marketcap(USD)  \\\n",
              "0  2009-01-09            NaN                    NaN        0             NaN   \n",
              "1  2009-01-10            NaN                    NaN        0             NaN   \n",
              "2  2009-01-11            NaN                    NaN        0             NaN   \n",
              "3  2009-01-12            NaN                    NaN        7             NaN   \n",
              "4  2009-01-13            NaN                    NaN        0             NaN   \n",
              "\n",
              "   price(USD)  exchangeVolume(USD)  generatedCoins  fees  activeAddresses  \\\n",
              "0         NaN                  NaN           700.0   0.0               14   \n",
              "1         NaN                  NaN          3050.0   0.0               61   \n",
              "2         NaN                  NaN          4650.0   0.0               93   \n",
              "3         NaN                  NaN          4700.0   0.0              102   \n",
              "4         NaN                  NaN          6150.0   0.0              123   \n",
              "\n",
              "   averageDifficulty  paymentCount  medianTxValue(USD)  medianFee  blockSize  \\\n",
              "0                1.0           NaN                 NaN        NaN       3010   \n",
              "1                1.0           NaN                 NaN        NaN      13129   \n",
              "2                1.0           NaN                 NaN        NaN      20033   \n",
              "3                1.0           5.0                 NaN        0.0      22031   \n",
              "4                1.0           NaN                 NaN        NaN      26527   \n",
              "\n",
              "   blockCount  \n",
              "0          14  \n",
              "1          61  \n",
              "2          93  \n",
              "3          94  \n",
              "4         123  "
            ],
            "text/html": [
              "\n",
              "  <div id=\"df-25e5f36d-55da-4033-b996-f3b39b935dba\">\n",
              "    <div class=\"colab-df-container\">\n",
              "      <div>\n",
              "<style scoped>\n",
              "    .dataframe tbody tr th:only-of-type {\n",
              "        vertical-align: middle;\n",
              "    }\n",
              "\n",
              "    .dataframe tbody tr th {\n",
              "        vertical-align: top;\n",
              "    }\n",
              "\n",
              "    .dataframe thead th {\n",
              "        text-align: right;\n",
              "    }\n",
              "</style>\n",
              "<table border=\"1\" class=\"dataframe\">\n",
              "  <thead>\n",
              "    <tr style=\"text-align: right;\">\n",
              "      <th></th>\n",
              "      <th>date</th>\n",
              "      <th>txVolume(USD)</th>\n",
              "      <th>adjustedTxVolume(USD)</th>\n",
              "      <th>txCount</th>\n",
              "      <th>marketcap(USD)</th>\n",
              "      <th>price(USD)</th>\n",
              "      <th>exchangeVolume(USD)</th>\n",
              "      <th>generatedCoins</th>\n",
              "      <th>fees</th>\n",
              "      <th>activeAddresses</th>\n",
              "      <th>averageDifficulty</th>\n",
              "      <th>paymentCount</th>\n",
              "      <th>medianTxValue(USD)</th>\n",
              "      <th>medianFee</th>\n",
              "      <th>blockSize</th>\n",
              "      <th>blockCount</th>\n",
              "    </tr>\n",
              "  </thead>\n",
              "  <tbody>\n",
              "    <tr>\n",
              "      <th>0</th>\n",
              "      <td>2009-01-09</td>\n",
              "      <td>NaN</td>\n",
              "      <td>NaN</td>\n",
              "      <td>0</td>\n",
              "      <td>NaN</td>\n",
              "      <td>NaN</td>\n",
              "      <td>NaN</td>\n",
              "      <td>700.0</td>\n",
              "      <td>0.0</td>\n",
              "      <td>14</td>\n",
              "      <td>1.0</td>\n",
              "      <td>NaN</td>\n",
              "      <td>NaN</td>\n",
              "      <td>NaN</td>\n",
              "      <td>3010</td>\n",
              "      <td>14</td>\n",
              "    </tr>\n",
              "    <tr>\n",
              "      <th>1</th>\n",
              "      <td>2009-01-10</td>\n",
              "      <td>NaN</td>\n",
              "      <td>NaN</td>\n",
              "      <td>0</td>\n",
              "      <td>NaN</td>\n",
              "      <td>NaN</td>\n",
              "      <td>NaN</td>\n",
              "      <td>3050.0</td>\n",
              "      <td>0.0</td>\n",
              "      <td>61</td>\n",
              "      <td>1.0</td>\n",
              "      <td>NaN</td>\n",
              "      <td>NaN</td>\n",
              "      <td>NaN</td>\n",
              "      <td>13129</td>\n",
              "      <td>61</td>\n",
              "    </tr>\n",
              "    <tr>\n",
              "      <th>2</th>\n",
              "      <td>2009-01-11</td>\n",
              "      <td>NaN</td>\n",
              "      <td>NaN</td>\n",
              "      <td>0</td>\n",
              "      <td>NaN</td>\n",
              "      <td>NaN</td>\n",
              "      <td>NaN</td>\n",
              "      <td>4650.0</td>\n",
              "      <td>0.0</td>\n",
              "      <td>93</td>\n",
              "      <td>1.0</td>\n",
              "      <td>NaN</td>\n",
              "      <td>NaN</td>\n",
              "      <td>NaN</td>\n",
              "      <td>20033</td>\n",
              "      <td>93</td>\n",
              "    </tr>\n",
              "    <tr>\n",
              "      <th>3</th>\n",
              "      <td>2009-01-12</td>\n",
              "      <td>NaN</td>\n",
              "      <td>NaN</td>\n",
              "      <td>7</td>\n",
              "      <td>NaN</td>\n",
              "      <td>NaN</td>\n",
              "      <td>NaN</td>\n",
              "      <td>4700.0</td>\n",
              "      <td>0.0</td>\n",
              "      <td>102</td>\n",
              "      <td>1.0</td>\n",
              "      <td>5.0</td>\n",
              "      <td>NaN</td>\n",
              "      <td>0.0</td>\n",
              "      <td>22031</td>\n",
              "      <td>94</td>\n",
              "    </tr>\n",
              "    <tr>\n",
              "      <th>4</th>\n",
              "      <td>2009-01-13</td>\n",
              "      <td>NaN</td>\n",
              "      <td>NaN</td>\n",
              "      <td>0</td>\n",
              "      <td>NaN</td>\n",
              "      <td>NaN</td>\n",
              "      <td>NaN</td>\n",
              "      <td>6150.0</td>\n",
              "      <td>0.0</td>\n",
              "      <td>123</td>\n",
              "      <td>1.0</td>\n",
              "      <td>NaN</td>\n",
              "      <td>NaN</td>\n",
              "      <td>NaN</td>\n",
              "      <td>26527</td>\n",
              "      <td>123</td>\n",
              "    </tr>\n",
              "  </tbody>\n",
              "</table>\n",
              "</div>\n",
              "      <button class=\"colab-df-convert\" onclick=\"convertToInteractive('df-25e5f36d-55da-4033-b996-f3b39b935dba')\"\n",
              "              title=\"Convert this dataframe to an interactive table.\"\n",
              "              style=\"display:none;\">\n",
              "        \n",
              "  <svg xmlns=\"http://www.w3.org/2000/svg\" height=\"24px\"viewBox=\"0 0 24 24\"\n",
              "       width=\"24px\">\n",
              "    <path d=\"M0 0h24v24H0V0z\" fill=\"none\"/>\n",
              "    <path d=\"M18.56 5.44l.94 2.06.94-2.06 2.06-.94-2.06-.94-.94-2.06-.94 2.06-2.06.94zm-11 1L8.5 8.5l.94-2.06 2.06-.94-2.06-.94L8.5 2.5l-.94 2.06-2.06.94zm10 10l.94 2.06.94-2.06 2.06-.94-2.06-.94-.94-2.06-.94 2.06-2.06.94z\"/><path d=\"M17.41 7.96l-1.37-1.37c-.4-.4-.92-.59-1.43-.59-.52 0-1.04.2-1.43.59L10.3 9.45l-7.72 7.72c-.78.78-.78 2.05 0 2.83L4 21.41c.39.39.9.59 1.41.59.51 0 1.02-.2 1.41-.59l7.78-7.78 2.81-2.81c.8-.78.8-2.07 0-2.86zM5.41 20L4 18.59l7.72-7.72 1.47 1.35L5.41 20z\"/>\n",
              "  </svg>\n",
              "      </button>\n",
              "      \n",
              "  <style>\n",
              "    .colab-df-container {\n",
              "      display:flex;\n",
              "      flex-wrap:wrap;\n",
              "      gap: 12px;\n",
              "    }\n",
              "\n",
              "    .colab-df-convert {\n",
              "      background-color: #E8F0FE;\n",
              "      border: none;\n",
              "      border-radius: 50%;\n",
              "      cursor: pointer;\n",
              "      display: none;\n",
              "      fill: #1967D2;\n",
              "      height: 32px;\n",
              "      padding: 0 0 0 0;\n",
              "      width: 32px;\n",
              "    }\n",
              "\n",
              "    .colab-df-convert:hover {\n",
              "      background-color: #E2EBFA;\n",
              "      box-shadow: 0px 1px 2px rgba(60, 64, 67, 0.3), 0px 1px 3px 1px rgba(60, 64, 67, 0.15);\n",
              "      fill: #174EA6;\n",
              "    }\n",
              "\n",
              "    [theme=dark] .colab-df-convert {\n",
              "      background-color: #3B4455;\n",
              "      fill: #D2E3FC;\n",
              "    }\n",
              "\n",
              "    [theme=dark] .colab-df-convert:hover {\n",
              "      background-color: #434B5C;\n",
              "      box-shadow: 0px 1px 3px 1px rgba(0, 0, 0, 0.15);\n",
              "      filter: drop-shadow(0px 1px 2px rgba(0, 0, 0, 0.3));\n",
              "      fill: #FFFFFF;\n",
              "    }\n",
              "  </style>\n",
              "\n",
              "      <script>\n",
              "        const buttonEl =\n",
              "          document.querySelector('#df-25e5f36d-55da-4033-b996-f3b39b935dba button.colab-df-convert');\n",
              "        buttonEl.style.display =\n",
              "          google.colab.kernel.accessAllowed ? 'block' : 'none';\n",
              "\n",
              "        async function convertToInteractive(key) {\n",
              "          const element = document.querySelector('#df-25e5f36d-55da-4033-b996-f3b39b935dba');\n",
              "          const dataTable =\n",
              "            await google.colab.kernel.invokeFunction('convertToInteractive',\n",
              "                                                     [key], {});\n",
              "          if (!dataTable) return;\n",
              "\n",
              "          const docLinkHtml = 'Like what you see? Visit the ' +\n",
              "            '<a target=\"_blank\" href=https://colab.research.google.com/notebooks/data_table.ipynb>data table notebook</a>'\n",
              "            + ' to learn more about interactive tables.';\n",
              "          element.innerHTML = '';\n",
              "          dataTable['output_type'] = 'display_data';\n",
              "          await google.colab.output.renderOutput(dataTable, element);\n",
              "          const docLink = document.createElement('div');\n",
              "          docLink.innerHTML = docLinkHtml;\n",
              "          element.appendChild(docLink);\n",
              "        }\n",
              "      </script>\n",
              "    </div>\n",
              "  </div>\n",
              "  "
            ]
          },
          "metadata": {},
          "execution_count": 13
        }
      ],
      "source": [
        "filename3 = \"bitcoin.csv\" #Our third dataset\n",
        "join(path_prefix, filename3)\n",
        "df_3 = pd.read_csv(join(path_prefix, filename3))\n",
        "df_3.head()"
      ]
    },
    {
      "cell_type": "code",
      "execution_count": null,
      "metadata": {
        "colab": {
          "base_uri": "https://localhost:8080/",
          "height": 364
        },
        "id": "tVfm9dlEjr_T",
        "outputId": "4ffb02fd-b773-4575-cf60-1f6f66e31be9"
      },
      "outputs": [
        {
          "output_type": "execute_result",
          "data": {
            "text/plain": [
              "       txVolume(USD)  adjustedTxVolume(USD)        txCount  marketcap(USD)  \\\n",
              "count   2.035000e+03           2.035000e+03    3605.000000    2.035000e+03   \n",
              "mean    2.735073e+09           1.139493e+09   99431.565326    3.771208e+10   \n",
              "std     5.160649e+09           1.970668e+09  104559.375595    5.861474e+10   \n",
              "min     3.287234e+07           2.053871e+07       0.000000    7.794864e+08   \n",
              "25%     2.523401e+08           1.027608e+08    5183.000000    4.380106e+09   \n",
              "50%     7.898199e+08           2.824168e+08   59615.000000    8.121197e+09   \n",
              "75%     3.428363e+09           1.557028e+09  194607.000000    4.237367e+10   \n",
              "max     4.835307e+10           1.624809e+10  490459.000000    3.261873e+11   \n",
              "\n",
              "         price(USD)  exchangeVolume(USD)  generatedCoins         fees  \\\n",
              "count   2035.000000         2.035000e+03     3605.000000  3605.000000   \n",
              "mean    2279.330865         1.434180e+09     4823.539125    51.504402   \n",
              "std     3442.946652         3.035095e+09     2817.834929   107.765355   \n",
              "min       68.500000         0.000000e+00      200.000000     0.000000   \n",
              "25%      320.220000         1.866320e+07     2412.500000     3.911432   \n",
              "50%      596.330000         5.785860e+07     4049.997500    17.442879   \n",
              "75%     2575.190000         1.180765e+09     6850.000000    43.215072   \n",
              "max    19475.800000         2.384090e+10    34600.000000  1495.946477   \n",
              "\n",
              "       activeAddresses  averageDifficulty  paymentCount  medianTxValue(USD)  \\\n",
              "count     3.605000e+03       3.605000e+03  3.351000e+03         2035.000000   \n",
              "mean      2.515554e+05       5.532081e+11  1.806366e+05          177.112048   \n",
              "std       2.855449e+05       1.485977e+12  1.806980e+05          342.486667   \n",
              "min       4.000000e+00       1.000000e+00  0.000000e+00            0.024145   \n",
              "25%       1.198300e+04       1.090716e+06  1.008550e+04           51.360193   \n",
              "50%       1.329290e+05       9.083509e+08  1.313040e+05           76.016323   \n",
              "75%       4.845470e+05       1.960614e+11  3.342495e+05          192.290392   \n",
              "max       1.283929e+06       7.454969e+12  1.883744e+06         4176.310572   \n",
              "\n",
              "         medianFee     blockSize   blockCount  \n",
              "count  3351.000000  3.605000e+03  3605.000000  \n",
              "mean      0.000489  5.346078e+07   152.877115  \n",
              "std       0.006475  5.583618e+07    37.558325  \n",
              "min       0.000000  8.600000e+02     4.000000  \n",
              "25%       0.000000  2.274111e+06   138.000000  \n",
              "50%       0.000100  3.072236e+07   153.000000  \n",
              "75%       0.000369  1.082456e+08   168.000000  \n",
              "max       0.220000  2.040237e+08   692.000000  "
            ],
            "text/html": [
              "\n",
              "  <div id=\"df-3b082d25-c59a-4005-8ce5-80c5d1caad43\">\n",
              "    <div class=\"colab-df-container\">\n",
              "      <div>\n",
              "<style scoped>\n",
              "    .dataframe tbody tr th:only-of-type {\n",
              "        vertical-align: middle;\n",
              "    }\n",
              "\n",
              "    .dataframe tbody tr th {\n",
              "        vertical-align: top;\n",
              "    }\n",
              "\n",
              "    .dataframe thead th {\n",
              "        text-align: right;\n",
              "    }\n",
              "</style>\n",
              "<table border=\"1\" class=\"dataframe\">\n",
              "  <thead>\n",
              "    <tr style=\"text-align: right;\">\n",
              "      <th></th>\n",
              "      <th>txVolume(USD)</th>\n",
              "      <th>adjustedTxVolume(USD)</th>\n",
              "      <th>txCount</th>\n",
              "      <th>marketcap(USD)</th>\n",
              "      <th>price(USD)</th>\n",
              "      <th>exchangeVolume(USD)</th>\n",
              "      <th>generatedCoins</th>\n",
              "      <th>fees</th>\n",
              "      <th>activeAddresses</th>\n",
              "      <th>averageDifficulty</th>\n",
              "      <th>paymentCount</th>\n",
              "      <th>medianTxValue(USD)</th>\n",
              "      <th>medianFee</th>\n",
              "      <th>blockSize</th>\n",
              "      <th>blockCount</th>\n",
              "    </tr>\n",
              "  </thead>\n",
              "  <tbody>\n",
              "    <tr>\n",
              "      <th>count</th>\n",
              "      <td>2.035000e+03</td>\n",
              "      <td>2.035000e+03</td>\n",
              "      <td>3605.000000</td>\n",
              "      <td>2.035000e+03</td>\n",
              "      <td>2035.000000</td>\n",
              "      <td>2.035000e+03</td>\n",
              "      <td>3605.000000</td>\n",
              "      <td>3605.000000</td>\n",
              "      <td>3.605000e+03</td>\n",
              "      <td>3.605000e+03</td>\n",
              "      <td>3.351000e+03</td>\n",
              "      <td>2035.000000</td>\n",
              "      <td>3351.000000</td>\n",
              "      <td>3.605000e+03</td>\n",
              "      <td>3605.000000</td>\n",
              "    </tr>\n",
              "    <tr>\n",
              "      <th>mean</th>\n",
              "      <td>2.735073e+09</td>\n",
              "      <td>1.139493e+09</td>\n",
              "      <td>99431.565326</td>\n",
              "      <td>3.771208e+10</td>\n",
              "      <td>2279.330865</td>\n",
              "      <td>1.434180e+09</td>\n",
              "      <td>4823.539125</td>\n",
              "      <td>51.504402</td>\n",
              "      <td>2.515554e+05</td>\n",
              "      <td>5.532081e+11</td>\n",
              "      <td>1.806366e+05</td>\n",
              "      <td>177.112048</td>\n",
              "      <td>0.000489</td>\n",
              "      <td>5.346078e+07</td>\n",
              "      <td>152.877115</td>\n",
              "    </tr>\n",
              "    <tr>\n",
              "      <th>std</th>\n",
              "      <td>5.160649e+09</td>\n",
              "      <td>1.970668e+09</td>\n",
              "      <td>104559.375595</td>\n",
              "      <td>5.861474e+10</td>\n",
              "      <td>3442.946652</td>\n",
              "      <td>3.035095e+09</td>\n",
              "      <td>2817.834929</td>\n",
              "      <td>107.765355</td>\n",
              "      <td>2.855449e+05</td>\n",
              "      <td>1.485977e+12</td>\n",
              "      <td>1.806980e+05</td>\n",
              "      <td>342.486667</td>\n",
              "      <td>0.006475</td>\n",
              "      <td>5.583618e+07</td>\n",
              "      <td>37.558325</td>\n",
              "    </tr>\n",
              "    <tr>\n",
              "      <th>min</th>\n",
              "      <td>3.287234e+07</td>\n",
              "      <td>2.053871e+07</td>\n",
              "      <td>0.000000</td>\n",
              "      <td>7.794864e+08</td>\n",
              "      <td>68.500000</td>\n",
              "      <td>0.000000e+00</td>\n",
              "      <td>200.000000</td>\n",
              "      <td>0.000000</td>\n",
              "      <td>4.000000e+00</td>\n",
              "      <td>1.000000e+00</td>\n",
              "      <td>0.000000e+00</td>\n",
              "      <td>0.024145</td>\n",
              "      <td>0.000000</td>\n",
              "      <td>8.600000e+02</td>\n",
              "      <td>4.000000</td>\n",
              "    </tr>\n",
              "    <tr>\n",
              "      <th>25%</th>\n",
              "      <td>2.523401e+08</td>\n",
              "      <td>1.027608e+08</td>\n",
              "      <td>5183.000000</td>\n",
              "      <td>4.380106e+09</td>\n",
              "      <td>320.220000</td>\n",
              "      <td>1.866320e+07</td>\n",
              "      <td>2412.500000</td>\n",
              "      <td>3.911432</td>\n",
              "      <td>1.198300e+04</td>\n",
              "      <td>1.090716e+06</td>\n",
              "      <td>1.008550e+04</td>\n",
              "      <td>51.360193</td>\n",
              "      <td>0.000000</td>\n",
              "      <td>2.274111e+06</td>\n",
              "      <td>138.000000</td>\n",
              "    </tr>\n",
              "    <tr>\n",
              "      <th>50%</th>\n",
              "      <td>7.898199e+08</td>\n",
              "      <td>2.824168e+08</td>\n",
              "      <td>59615.000000</td>\n",
              "      <td>8.121197e+09</td>\n",
              "      <td>596.330000</td>\n",
              "      <td>5.785860e+07</td>\n",
              "      <td>4049.997500</td>\n",
              "      <td>17.442879</td>\n",
              "      <td>1.329290e+05</td>\n",
              "      <td>9.083509e+08</td>\n",
              "      <td>1.313040e+05</td>\n",
              "      <td>76.016323</td>\n",
              "      <td>0.000100</td>\n",
              "      <td>3.072236e+07</td>\n",
              "      <td>153.000000</td>\n",
              "    </tr>\n",
              "    <tr>\n",
              "      <th>75%</th>\n",
              "      <td>3.428363e+09</td>\n",
              "      <td>1.557028e+09</td>\n",
              "      <td>194607.000000</td>\n",
              "      <td>4.237367e+10</td>\n",
              "      <td>2575.190000</td>\n",
              "      <td>1.180765e+09</td>\n",
              "      <td>6850.000000</td>\n",
              "      <td>43.215072</td>\n",
              "      <td>4.845470e+05</td>\n",
              "      <td>1.960614e+11</td>\n",
              "      <td>3.342495e+05</td>\n",
              "      <td>192.290392</td>\n",
              "      <td>0.000369</td>\n",
              "      <td>1.082456e+08</td>\n",
              "      <td>168.000000</td>\n",
              "    </tr>\n",
              "    <tr>\n",
              "      <th>max</th>\n",
              "      <td>4.835307e+10</td>\n",
              "      <td>1.624809e+10</td>\n",
              "      <td>490459.000000</td>\n",
              "      <td>3.261873e+11</td>\n",
              "      <td>19475.800000</td>\n",
              "      <td>2.384090e+10</td>\n",
              "      <td>34600.000000</td>\n",
              "      <td>1495.946477</td>\n",
              "      <td>1.283929e+06</td>\n",
              "      <td>7.454969e+12</td>\n",
              "      <td>1.883744e+06</td>\n",
              "      <td>4176.310572</td>\n",
              "      <td>0.220000</td>\n",
              "      <td>2.040237e+08</td>\n",
              "      <td>692.000000</td>\n",
              "    </tr>\n",
              "  </tbody>\n",
              "</table>\n",
              "</div>\n",
              "      <button class=\"colab-df-convert\" onclick=\"convertToInteractive('df-3b082d25-c59a-4005-8ce5-80c5d1caad43')\"\n",
              "              title=\"Convert this dataframe to an interactive table.\"\n",
              "              style=\"display:none;\">\n",
              "        \n",
              "  <svg xmlns=\"http://www.w3.org/2000/svg\" height=\"24px\"viewBox=\"0 0 24 24\"\n",
              "       width=\"24px\">\n",
              "    <path d=\"M0 0h24v24H0V0z\" fill=\"none\"/>\n",
              "    <path d=\"M18.56 5.44l.94 2.06.94-2.06 2.06-.94-2.06-.94-.94-2.06-.94 2.06-2.06.94zm-11 1L8.5 8.5l.94-2.06 2.06-.94-2.06-.94L8.5 2.5l-.94 2.06-2.06.94zm10 10l.94 2.06.94-2.06 2.06-.94-2.06-.94-.94-2.06-.94 2.06-2.06.94z\"/><path d=\"M17.41 7.96l-1.37-1.37c-.4-.4-.92-.59-1.43-.59-.52 0-1.04.2-1.43.59L10.3 9.45l-7.72 7.72c-.78.78-.78 2.05 0 2.83L4 21.41c.39.39.9.59 1.41.59.51 0 1.02-.2 1.41-.59l7.78-7.78 2.81-2.81c.8-.78.8-2.07 0-2.86zM5.41 20L4 18.59l7.72-7.72 1.47 1.35L5.41 20z\"/>\n",
              "  </svg>\n",
              "      </button>\n",
              "      \n",
              "  <style>\n",
              "    .colab-df-container {\n",
              "      display:flex;\n",
              "      flex-wrap:wrap;\n",
              "      gap: 12px;\n",
              "    }\n",
              "\n",
              "    .colab-df-convert {\n",
              "      background-color: #E8F0FE;\n",
              "      border: none;\n",
              "      border-radius: 50%;\n",
              "      cursor: pointer;\n",
              "      display: none;\n",
              "      fill: #1967D2;\n",
              "      height: 32px;\n",
              "      padding: 0 0 0 0;\n",
              "      width: 32px;\n",
              "    }\n",
              "\n",
              "    .colab-df-convert:hover {\n",
              "      background-color: #E2EBFA;\n",
              "      box-shadow: 0px 1px 2px rgba(60, 64, 67, 0.3), 0px 1px 3px 1px rgba(60, 64, 67, 0.15);\n",
              "      fill: #174EA6;\n",
              "    }\n",
              "\n",
              "    [theme=dark] .colab-df-convert {\n",
              "      background-color: #3B4455;\n",
              "      fill: #D2E3FC;\n",
              "    }\n",
              "\n",
              "    [theme=dark] .colab-df-convert:hover {\n",
              "      background-color: #434B5C;\n",
              "      box-shadow: 0px 1px 3px 1px rgba(0, 0, 0, 0.15);\n",
              "      filter: drop-shadow(0px 1px 2px rgba(0, 0, 0, 0.3));\n",
              "      fill: #FFFFFF;\n",
              "    }\n",
              "  </style>\n",
              "\n",
              "      <script>\n",
              "        const buttonEl =\n",
              "          document.querySelector('#df-3b082d25-c59a-4005-8ce5-80c5d1caad43 button.colab-df-convert');\n",
              "        buttonEl.style.display =\n",
              "          google.colab.kernel.accessAllowed ? 'block' : 'none';\n",
              "\n",
              "        async function convertToInteractive(key) {\n",
              "          const element = document.querySelector('#df-3b082d25-c59a-4005-8ce5-80c5d1caad43');\n",
              "          const dataTable =\n",
              "            await google.colab.kernel.invokeFunction('convertToInteractive',\n",
              "                                                     [key], {});\n",
              "          if (!dataTable) return;\n",
              "\n",
              "          const docLinkHtml = 'Like what you see? Visit the ' +\n",
              "            '<a target=\"_blank\" href=https://colab.research.google.com/notebooks/data_table.ipynb>data table notebook</a>'\n",
              "            + ' to learn more about interactive tables.';\n",
              "          element.innerHTML = '';\n",
              "          dataTable['output_type'] = 'display_data';\n",
              "          await google.colab.output.renderOutput(dataTable, element);\n",
              "          const docLink = document.createElement('div');\n",
              "          docLink.innerHTML = docLinkHtml;\n",
              "          element.appendChild(docLink);\n",
              "        }\n",
              "      </script>\n",
              "    </div>\n",
              "  </div>\n",
              "  "
            ]
          },
          "metadata": {},
          "execution_count": 14
        }
      ],
      "source": [
        "df_3.describe()"
      ]
    },
    {
      "cell_type": "code",
      "execution_count": null,
      "metadata": {
        "colab": {
          "base_uri": "https://localhost:8080/"
        },
        "id": "-acLWf_qjto0",
        "outputId": "20c44f0e-35bc-4e7e-971c-806803b8f588"
      },
      "outputs": [
        {
          "output_type": "stream",
          "name": "stdout",
          "text": [
            "<class 'pandas.core.frame.DataFrame'>\n",
            "RangeIndex: 3605 entries, 0 to 3604\n",
            "Data columns (total 16 columns):\n",
            " #   Column                 Non-Null Count  Dtype  \n",
            "---  ------                 --------------  -----  \n",
            " 0   date                   3605 non-null   object \n",
            " 1   txVolume(USD)          2035 non-null   float64\n",
            " 2   adjustedTxVolume(USD)  2035 non-null   float64\n",
            " 3   txCount                3605 non-null   int64  \n",
            " 4   marketcap(USD)         2035 non-null   float64\n",
            " 5   price(USD)             2035 non-null   float64\n",
            " 6   exchangeVolume(USD)    2035 non-null   float64\n",
            " 7   generatedCoins         3605 non-null   float64\n",
            " 8   fees                   3605 non-null   float64\n",
            " 9   activeAddresses        3605 non-null   int64  \n",
            " 10  averageDifficulty      3605 non-null   float64\n",
            " 11  paymentCount           3351 non-null   float64\n",
            " 12  medianTxValue(USD)     2035 non-null   float64\n",
            " 13  medianFee              3351 non-null   float64\n",
            " 14  blockSize              3605 non-null   int64  \n",
            " 15  blockCount             3605 non-null   int64  \n",
            "dtypes: float64(11), int64(4), object(1)\n",
            "memory usage: 450.8+ KB\n"
          ]
        }
      ],
      "source": [
        "df_3.info()"
      ]
    },
    {
      "cell_type": "code",
      "execution_count": null,
      "metadata": {
        "colab": {
          "base_uri": "https://localhost:8080/"
        },
        "id": "cw1gOYTqkAka",
        "outputId": "6f8409a9-4c1c-4dee-ae70-9ed2657ea156"
      },
      "outputs": [
        {
          "output_type": "execute_result",
          "data": {
            "text/plain": [
              "date                      object\n",
              "txVolume(USD)            float64\n",
              "adjustedTxVolume(USD)    float64\n",
              "txCount                    int64\n",
              "marketcap(USD)           float64\n",
              "price(USD)               float64\n",
              "exchangeVolume(USD)      float64\n",
              "generatedCoins           float64\n",
              "fees                     float64\n",
              "activeAddresses            int64\n",
              "averageDifficulty        float64\n",
              "paymentCount             float64\n",
              "medianTxValue(USD)       float64\n",
              "medianFee                float64\n",
              "blockSize                  int64\n",
              "blockCount                 int64\n",
              "dtype: object"
            ]
          },
          "metadata": {},
          "execution_count": 16
        }
      ],
      "source": [
        "df_3.dtypes"
      ]
    },
    {
      "cell_type": "code",
      "execution_count": null,
      "metadata": {
        "colab": {
          "base_uri": "https://localhost:8080/"
        },
        "id": "gIfitaNqkILP",
        "outputId": "599b58f4-6e3b-46db-c5bf-9ec56ad91720"
      },
      "outputs": [
        {
          "output_type": "execute_result",
          "data": {
            "text/plain": [
              "(3605, 16)"
            ]
          },
          "metadata": {},
          "execution_count": 17
        }
      ],
      "source": [
        "df_3.shape"
      ]
    },
    {
      "cell_type": "code",
      "execution_count": null,
      "metadata": {
        "colab": {
          "base_uri": "https://localhost:8080/"
        },
        "id": "H209rrYekLBg",
        "outputId": "ad06cd24-3c2b-48f5-90d0-30a7e22e620d"
      },
      "outputs": [
        {
          "output_type": "execute_result",
          "data": {
            "text/plain": [
              "date                        0\n",
              "txVolume(USD)            1570\n",
              "adjustedTxVolume(USD)    1570\n",
              "txCount                     0\n",
              "marketcap(USD)           1570\n",
              "price(USD)               1570\n",
              "exchangeVolume(USD)      1570\n",
              "generatedCoins              0\n",
              "fees                        0\n",
              "activeAddresses             0\n",
              "averageDifficulty           0\n",
              "paymentCount              254\n",
              "medianTxValue(USD)       1570\n",
              "medianFee                 254\n",
              "blockSize                   0\n",
              "blockCount                  0\n",
              "dtype: int64"
            ]
          },
          "metadata": {},
          "execution_count": 18
        }
      ],
      "source": [
        "df_3.isna().sum()"
      ]
    },
    {
      "cell_type": "code",
      "execution_count": null,
      "metadata": {
        "colab": {
          "base_uri": "https://localhost:8080/",
          "height": 661
        },
        "id": "u3KT5uh0mCtL",
        "outputId": "f0195d3a-ffda-4b9c-91ee-64657cba0c3f"
      },
      "outputs": [
        {
          "output_type": "execute_result",
          "data": {
            "text/plain": [
              "            date  txVolume(USD)  adjustedTxVolume(USD)  txCount  \\\n",
              "1570  2013-04-28   6.879868e+07           3.153714e+07    41702   \n",
              "1571  2013-04-29   1.138128e+08           4.821652e+07    51602   \n",
              "1572  2013-04-30   8.426632e+07           5.686790e+07    47450   \n",
              "1573  2013-05-01   1.206825e+08           8.208736e+07    55176   \n",
              "1574  2013-05-02   9.337533e+07           5.823736e+07    55295   \n",
              "...          ...            ...                    ...      ...   \n",
              "3600  2018-11-18   1.976557e+09           1.304067e+09   239680   \n",
              "3601  2018-11-19   4.480410e+09           2.620049e+09   267845   \n",
              "3602  2018-11-20   5.838062e+09           3.944652e+09   288318   \n",
              "3603  2018-11-21   3.406311e+09           2.220358e+09   254837   \n",
              "3604  2018-11-22   2.759416e+09           1.711484e+09   265994   \n",
              "\n",
              "      marketcap(USD)  price(USD)  exchangeVolume(USD)  generatedCoins  \\\n",
              "1570    1.500656e+09      135.30         0.000000e+00       4425.0000   \n",
              "1571    1.491703e+09      134.44         0.000000e+00       4349.9988   \n",
              "1572    1.598310e+09      144.00         0.000000e+00       3725.0000   \n",
              "1573    1.543334e+09      139.00         0.000000e+00       3775.0000   \n",
              "1574    1.292577e+09      116.38         0.000000e+00       3350.0000   \n",
              "...              ...         ...                  ...             ...   \n",
              "3600    9.664468e+10     5559.74         4.159680e+09       1537.5000   \n",
              "3601    9.771459e+10     5620.78         7.039560e+09       1575.0000   \n",
              "3602    8.456520e+10     4863.93         8.428290e+09       1650.0000   \n",
              "3603    7.764452e+10     4465.54         6.120120e+09       1312.5000   \n",
              "3604    8.019071e+10     4611.57         4.569370e+09       1525.0000   \n",
              "\n",
              "           fees  activeAddresses  averageDifficulty  paymentCount  \\\n",
              "1570  32.791942           117984       8.974296e+06      130171.0   \n",
              "1571  45.724114            86925       8.974296e+06      112426.0   \n",
              "1572  45.748651            76871       9.854414e+06       98258.0   \n",
              "1573  40.885938            83564       1.007629e+07       96129.0   \n",
              "1574  52.554004            81920       1.007629e+07      101721.0   \n",
              "...         ...              ...                ...           ...   \n",
              "3600  18.037467           549212       6.653303e+12      301260.0   \n",
              "3601  39.969486           674503       6.653303e+12      361918.0   \n",
              "3602  69.367650           768696       6.653303e+12      423180.0   \n",
              "3603  49.950160           628177       6.653303e+12      367256.0   \n",
              "3604  39.134218           656428       6.653303e+12      364559.0   \n",
              "\n",
              "      medianTxValue(USD)  medianFee  blockSize  blockCount  \n",
              "1570           49.980091   0.000500   21597536         177  \n",
              "1571           62.425891   0.000500   25676453         174  \n",
              "1572           26.942145   0.000500   27042465         149  \n",
              "1573           38.671980   0.000500   25727393         151  \n",
              "1574           35.382348   0.000500   26388234         134  \n",
              "...                  ...        ...        ...         ...  \n",
              "3600           78.226098   0.000031  117375788         123  \n",
              "3601          151.592437   0.000076  138689706         126  \n",
              "3602          260.945272   0.000117  158893720         132  \n",
              "3603          161.673715   0.000101  127422353         105  \n",
              "3604          104.883242   0.000076  148651548         122  \n",
              "\n",
              "[2035 rows x 16 columns]"
            ],
            "text/html": [
              "\n",
              "  <div id=\"df-5e4d3a86-b3d5-42d2-bb43-73084e7e3427\">\n",
              "    <div class=\"colab-df-container\">\n",
              "      <div>\n",
              "<style scoped>\n",
              "    .dataframe tbody tr th:only-of-type {\n",
              "        vertical-align: middle;\n",
              "    }\n",
              "\n",
              "    .dataframe tbody tr th {\n",
              "        vertical-align: top;\n",
              "    }\n",
              "\n",
              "    .dataframe thead th {\n",
              "        text-align: right;\n",
              "    }\n",
              "</style>\n",
              "<table border=\"1\" class=\"dataframe\">\n",
              "  <thead>\n",
              "    <tr style=\"text-align: right;\">\n",
              "      <th></th>\n",
              "      <th>date</th>\n",
              "      <th>txVolume(USD)</th>\n",
              "      <th>adjustedTxVolume(USD)</th>\n",
              "      <th>txCount</th>\n",
              "      <th>marketcap(USD)</th>\n",
              "      <th>price(USD)</th>\n",
              "      <th>exchangeVolume(USD)</th>\n",
              "      <th>generatedCoins</th>\n",
              "      <th>fees</th>\n",
              "      <th>activeAddresses</th>\n",
              "      <th>averageDifficulty</th>\n",
              "      <th>paymentCount</th>\n",
              "      <th>medianTxValue(USD)</th>\n",
              "      <th>medianFee</th>\n",
              "      <th>blockSize</th>\n",
              "      <th>blockCount</th>\n",
              "    </tr>\n",
              "  </thead>\n",
              "  <tbody>\n",
              "    <tr>\n",
              "      <th>1570</th>\n",
              "      <td>2013-04-28</td>\n",
              "      <td>6.879868e+07</td>\n",
              "      <td>3.153714e+07</td>\n",
              "      <td>41702</td>\n",
              "      <td>1.500656e+09</td>\n",
              "      <td>135.30</td>\n",
              "      <td>0.000000e+00</td>\n",
              "      <td>4425.0000</td>\n",
              "      <td>32.791942</td>\n",
              "      <td>117984</td>\n",
              "      <td>8.974296e+06</td>\n",
              "      <td>130171.0</td>\n",
              "      <td>49.980091</td>\n",
              "      <td>0.000500</td>\n",
              "      <td>21597536</td>\n",
              "      <td>177</td>\n",
              "    </tr>\n",
              "    <tr>\n",
              "      <th>1571</th>\n",
              "      <td>2013-04-29</td>\n",
              "      <td>1.138128e+08</td>\n",
              "      <td>4.821652e+07</td>\n",
              "      <td>51602</td>\n",
              "      <td>1.491703e+09</td>\n",
              "      <td>134.44</td>\n",
              "      <td>0.000000e+00</td>\n",
              "      <td>4349.9988</td>\n",
              "      <td>45.724114</td>\n",
              "      <td>86925</td>\n",
              "      <td>8.974296e+06</td>\n",
              "      <td>112426.0</td>\n",
              "      <td>62.425891</td>\n",
              "      <td>0.000500</td>\n",
              "      <td>25676453</td>\n",
              "      <td>174</td>\n",
              "    </tr>\n",
              "    <tr>\n",
              "      <th>1572</th>\n",
              "      <td>2013-04-30</td>\n",
              "      <td>8.426632e+07</td>\n",
              "      <td>5.686790e+07</td>\n",
              "      <td>47450</td>\n",
              "      <td>1.598310e+09</td>\n",
              "      <td>144.00</td>\n",
              "      <td>0.000000e+00</td>\n",
              "      <td>3725.0000</td>\n",
              "      <td>45.748651</td>\n",
              "      <td>76871</td>\n",
              "      <td>9.854414e+06</td>\n",
              "      <td>98258.0</td>\n",
              "      <td>26.942145</td>\n",
              "      <td>0.000500</td>\n",
              "      <td>27042465</td>\n",
              "      <td>149</td>\n",
              "    </tr>\n",
              "    <tr>\n",
              "      <th>1573</th>\n",
              "      <td>2013-05-01</td>\n",
              "      <td>1.206825e+08</td>\n",
              "      <td>8.208736e+07</td>\n",
              "      <td>55176</td>\n",
              "      <td>1.543334e+09</td>\n",
              "      <td>139.00</td>\n",
              "      <td>0.000000e+00</td>\n",
              "      <td>3775.0000</td>\n",
              "      <td>40.885938</td>\n",
              "      <td>83564</td>\n",
              "      <td>1.007629e+07</td>\n",
              "      <td>96129.0</td>\n",
              "      <td>38.671980</td>\n",
              "      <td>0.000500</td>\n",
              "      <td>25727393</td>\n",
              "      <td>151</td>\n",
              "    </tr>\n",
              "    <tr>\n",
              "      <th>1574</th>\n",
              "      <td>2013-05-02</td>\n",
              "      <td>9.337533e+07</td>\n",
              "      <td>5.823736e+07</td>\n",
              "      <td>55295</td>\n",
              "      <td>1.292577e+09</td>\n",
              "      <td>116.38</td>\n",
              "      <td>0.000000e+00</td>\n",
              "      <td>3350.0000</td>\n",
              "      <td>52.554004</td>\n",
              "      <td>81920</td>\n",
              "      <td>1.007629e+07</td>\n",
              "      <td>101721.0</td>\n",
              "      <td>35.382348</td>\n",
              "      <td>0.000500</td>\n",
              "      <td>26388234</td>\n",
              "      <td>134</td>\n",
              "    </tr>\n",
              "    <tr>\n",
              "      <th>...</th>\n",
              "      <td>...</td>\n",
              "      <td>...</td>\n",
              "      <td>...</td>\n",
              "      <td>...</td>\n",
              "      <td>...</td>\n",
              "      <td>...</td>\n",
              "      <td>...</td>\n",
              "      <td>...</td>\n",
              "      <td>...</td>\n",
              "      <td>...</td>\n",
              "      <td>...</td>\n",
              "      <td>...</td>\n",
              "      <td>...</td>\n",
              "      <td>...</td>\n",
              "      <td>...</td>\n",
              "      <td>...</td>\n",
              "    </tr>\n",
              "    <tr>\n",
              "      <th>3600</th>\n",
              "      <td>2018-11-18</td>\n",
              "      <td>1.976557e+09</td>\n",
              "      <td>1.304067e+09</td>\n",
              "      <td>239680</td>\n",
              "      <td>9.664468e+10</td>\n",
              "      <td>5559.74</td>\n",
              "      <td>4.159680e+09</td>\n",
              "      <td>1537.5000</td>\n",
              "      <td>18.037467</td>\n",
              "      <td>549212</td>\n",
              "      <td>6.653303e+12</td>\n",
              "      <td>301260.0</td>\n",
              "      <td>78.226098</td>\n",
              "      <td>0.000031</td>\n",
              "      <td>117375788</td>\n",
              "      <td>123</td>\n",
              "    </tr>\n",
              "    <tr>\n",
              "      <th>3601</th>\n",
              "      <td>2018-11-19</td>\n",
              "      <td>4.480410e+09</td>\n",
              "      <td>2.620049e+09</td>\n",
              "      <td>267845</td>\n",
              "      <td>9.771459e+10</td>\n",
              "      <td>5620.78</td>\n",
              "      <td>7.039560e+09</td>\n",
              "      <td>1575.0000</td>\n",
              "      <td>39.969486</td>\n",
              "      <td>674503</td>\n",
              "      <td>6.653303e+12</td>\n",
              "      <td>361918.0</td>\n",
              "      <td>151.592437</td>\n",
              "      <td>0.000076</td>\n",
              "      <td>138689706</td>\n",
              "      <td>126</td>\n",
              "    </tr>\n",
              "    <tr>\n",
              "      <th>3602</th>\n",
              "      <td>2018-11-20</td>\n",
              "      <td>5.838062e+09</td>\n",
              "      <td>3.944652e+09</td>\n",
              "      <td>288318</td>\n",
              "      <td>8.456520e+10</td>\n",
              "      <td>4863.93</td>\n",
              "      <td>8.428290e+09</td>\n",
              "      <td>1650.0000</td>\n",
              "      <td>69.367650</td>\n",
              "      <td>768696</td>\n",
              "      <td>6.653303e+12</td>\n",
              "      <td>423180.0</td>\n",
              "      <td>260.945272</td>\n",
              "      <td>0.000117</td>\n",
              "      <td>158893720</td>\n",
              "      <td>132</td>\n",
              "    </tr>\n",
              "    <tr>\n",
              "      <th>3603</th>\n",
              "      <td>2018-11-21</td>\n",
              "      <td>3.406311e+09</td>\n",
              "      <td>2.220358e+09</td>\n",
              "      <td>254837</td>\n",
              "      <td>7.764452e+10</td>\n",
              "      <td>4465.54</td>\n",
              "      <td>6.120120e+09</td>\n",
              "      <td>1312.5000</td>\n",
              "      <td>49.950160</td>\n",
              "      <td>628177</td>\n",
              "      <td>6.653303e+12</td>\n",
              "      <td>367256.0</td>\n",
              "      <td>161.673715</td>\n",
              "      <td>0.000101</td>\n",
              "      <td>127422353</td>\n",
              "      <td>105</td>\n",
              "    </tr>\n",
              "    <tr>\n",
              "      <th>3604</th>\n",
              "      <td>2018-11-22</td>\n",
              "      <td>2.759416e+09</td>\n",
              "      <td>1.711484e+09</td>\n",
              "      <td>265994</td>\n",
              "      <td>8.019071e+10</td>\n",
              "      <td>4611.57</td>\n",
              "      <td>4.569370e+09</td>\n",
              "      <td>1525.0000</td>\n",
              "      <td>39.134218</td>\n",
              "      <td>656428</td>\n",
              "      <td>6.653303e+12</td>\n",
              "      <td>364559.0</td>\n",
              "      <td>104.883242</td>\n",
              "      <td>0.000076</td>\n",
              "      <td>148651548</td>\n",
              "      <td>122</td>\n",
              "    </tr>\n",
              "  </tbody>\n",
              "</table>\n",
              "<p>2035 rows × 16 columns</p>\n",
              "</div>\n",
              "      <button class=\"colab-df-convert\" onclick=\"convertToInteractive('df-5e4d3a86-b3d5-42d2-bb43-73084e7e3427')\"\n",
              "              title=\"Convert this dataframe to an interactive table.\"\n",
              "              style=\"display:none;\">\n",
              "        \n",
              "  <svg xmlns=\"http://www.w3.org/2000/svg\" height=\"24px\"viewBox=\"0 0 24 24\"\n",
              "       width=\"24px\">\n",
              "    <path d=\"M0 0h24v24H0V0z\" fill=\"none\"/>\n",
              "    <path d=\"M18.56 5.44l.94 2.06.94-2.06 2.06-.94-2.06-.94-.94-2.06-.94 2.06-2.06.94zm-11 1L8.5 8.5l.94-2.06 2.06-.94-2.06-.94L8.5 2.5l-.94 2.06-2.06.94zm10 10l.94 2.06.94-2.06 2.06-.94-2.06-.94-.94-2.06-.94 2.06-2.06.94z\"/><path d=\"M17.41 7.96l-1.37-1.37c-.4-.4-.92-.59-1.43-.59-.52 0-1.04.2-1.43.59L10.3 9.45l-7.72 7.72c-.78.78-.78 2.05 0 2.83L4 21.41c.39.39.9.59 1.41.59.51 0 1.02-.2 1.41-.59l7.78-7.78 2.81-2.81c.8-.78.8-2.07 0-2.86zM5.41 20L4 18.59l7.72-7.72 1.47 1.35L5.41 20z\"/>\n",
              "  </svg>\n",
              "      </button>\n",
              "      \n",
              "  <style>\n",
              "    .colab-df-container {\n",
              "      display:flex;\n",
              "      flex-wrap:wrap;\n",
              "      gap: 12px;\n",
              "    }\n",
              "\n",
              "    .colab-df-convert {\n",
              "      background-color: #E8F0FE;\n",
              "      border: none;\n",
              "      border-radius: 50%;\n",
              "      cursor: pointer;\n",
              "      display: none;\n",
              "      fill: #1967D2;\n",
              "      height: 32px;\n",
              "      padding: 0 0 0 0;\n",
              "      width: 32px;\n",
              "    }\n",
              "\n",
              "    .colab-df-convert:hover {\n",
              "      background-color: #E2EBFA;\n",
              "      box-shadow: 0px 1px 2px rgba(60, 64, 67, 0.3), 0px 1px 3px 1px rgba(60, 64, 67, 0.15);\n",
              "      fill: #174EA6;\n",
              "    }\n",
              "\n",
              "    [theme=dark] .colab-df-convert {\n",
              "      background-color: #3B4455;\n",
              "      fill: #D2E3FC;\n",
              "    }\n",
              "\n",
              "    [theme=dark] .colab-df-convert:hover {\n",
              "      background-color: #434B5C;\n",
              "      box-shadow: 0px 1px 3px 1px rgba(0, 0, 0, 0.15);\n",
              "      filter: drop-shadow(0px 1px 2px rgba(0, 0, 0, 0.3));\n",
              "      fill: #FFFFFF;\n",
              "    }\n",
              "  </style>\n",
              "\n",
              "      <script>\n",
              "        const buttonEl =\n",
              "          document.querySelector('#df-5e4d3a86-b3d5-42d2-bb43-73084e7e3427 button.colab-df-convert');\n",
              "        buttonEl.style.display =\n",
              "          google.colab.kernel.accessAllowed ? 'block' : 'none';\n",
              "\n",
              "        async function convertToInteractive(key) {\n",
              "          const element = document.querySelector('#df-5e4d3a86-b3d5-42d2-bb43-73084e7e3427');\n",
              "          const dataTable =\n",
              "            await google.colab.kernel.invokeFunction('convertToInteractive',\n",
              "                                                     [key], {});\n",
              "          if (!dataTable) return;\n",
              "\n",
              "          const docLinkHtml = 'Like what you see? Visit the ' +\n",
              "            '<a target=\"_blank\" href=https://colab.research.google.com/notebooks/data_table.ipynb>data table notebook</a>'\n",
              "            + ' to learn more about interactive tables.';\n",
              "          element.innerHTML = '';\n",
              "          dataTable['output_type'] = 'display_data';\n",
              "          await google.colab.output.renderOutput(dataTable, element);\n",
              "          const docLink = document.createElement('div');\n",
              "          docLink.innerHTML = docLinkHtml;\n",
              "          element.appendChild(docLink);\n",
              "        }\n",
              "      </script>\n",
              "    </div>\n",
              "  </div>\n",
              "  "
            ]
          },
          "metadata": {},
          "execution_count": 19
        }
      ],
      "source": [
        "df_3.dropna()"
      ]
    },
    {
      "cell_type": "markdown",
      "metadata": {
        "id": "pmhXmi4V7Ai_"
      },
      "source": [
        "```\n",
        "# The histograms below indicate the frequency distributions of the four types of price variables (i.e. high, low, open, and close) taken from our main dataset \"BTC-USD.\"\n",
        "\n",
        "```"
      ]
    },
    {
      "cell_type": "code",
      "execution_count": null,
      "metadata": {
        "colab": {
          "base_uri": "https://localhost:8080/",
          "height": 554
        },
        "id": "365H5vBlzCIf",
        "outputId": "bf139e40-79de-488c-c486-39b7b7ab6a6d"
      },
      "outputs": [
        {
          "output_type": "display_data",
          "data": {
            "text/plain": [
              "<Figure size 1152x576 with 4 Axes>"
            ],
            "image/png": "[encoded data removed]"
          },
          "metadata": {
            "needs_background": "light"
          }
        }
      ],
      "source": [
        "highPrice = df[\"High\"]\n",
        "lowPrice = df[\"Low\"]\n",
        "openPrice = df[\"Open\"]\n",
        "closePrice = df[\"Close\"]\n",
        "\n",
        "n_bins = 200\n",
        "\n",
        "fig, ax = plt.subplots(2, 2, figsize=(16, 8))\n",
        "fig.suptitle('Frequency Distribution of the Features of Dataset', fontsize=15)\n",
        "\n",
        "ax[0][0].hist(highPrice, n_bins)\n",
        "ax[0][0].set_title(\"High Price\")\n",
        "ax[0][0].set_ylabel('Frequency')\n",
        "\n",
        "ax[0][1].hist(lowPrice, n_bins)\n",
        "ax[0][1].set_title(\"Low Price\")\n",
        "ax[0][1].set_ylabel('Frequency')\n",
        "\n",
        "ax[1][0].hist(openPrice, n_bins)\n",
        "ax[1][0].set_title(\"Open Price\")\n",
        "ax[1][0].set_ylabel('Frequency')\n",
        "ax[1][0].set_xlabel('Bins')\n",
        "\n",
        "ax[1][1].hist(closePrice, n_bins)\n",
        "ax[1][1].set_title(\"Close Price\")\n",
        "ax[1][1].set_ylabel('Frequency')\n",
        "ax[1][1].set_xlabel('Bins')\n",
        "\n",
        "plt.show()"
      ]
    },
    {
      "cell_type": "markdown",
      "metadata": {
        "id": "4WXCRG9L7WK_"
      },
      "source": [
        "```\n",
        "# The line graphs below are drawn for the comparison of the opening and closing prices of Bitcoin for the selected time range.\n",
        "# The data are taken from our main dataset \"BTC-USD.\"\n",
        "\n",
        "```"
      ]
    },
    {
      "cell_type": "code",
      "execution_count": null,
      "metadata": {
        "colab": {
          "base_uri": "https://localhost:8080/",
          "height": 573
        },
        "id": "Gzv_186LLVtz",
        "outputId": "bf828c6e-d72b-4a9a-ae13-50a1d9645eef"
      },
      "outputs": [
        {
          "output_type": "display_data",
          "data": {
            "text/plain": [
              "<Figure size 432x288 with 1 Axes>"
            ],
            "image/png": "[encoded data removed]"
          },
          "metadata": {
            "needs_background": "light"
          }
        },
        {
          "output_type": "display_data",
          "data": {
            "text/plain": [
              "<Figure size 432x288 with 1 Axes>"
            ],
            "image/png": "[encoded data removed]"
          },
          "metadata": {
            "needs_background": "light"
          }
        }
      ],
      "source": [
        "df.columns\n",
        "x = list(df[\"Date\"])\n",
        "y = list(df[\"Open\"])\n",
        "plt.plot(x, y)\n",
        "plt.title('Open values vs Time')\n",
        "plt.xlabel('Date')\n",
        "plt.ylabel('Open')\n",
        "plt.show()\n",
        "x = list(df[\"Date\"])\n",
        "y = list(df[\"Close\"])\n",
        "plt.plot(x, y)\n",
        "plt.title('Close values vs Time')\n",
        "plt.xlabel('Date')\n",
        "plt.ylabel('Close')\n",
        "plt.show()"
      ]
    },
    {
      "cell_type": "markdown",
      "metadata": {
        "id": "a9yWXBqx7iX2"
      },
      "source": [
        "```\n",
        "# The scatter plots below display the relationship between the price variables (i.e. open, close, high, and low) and volume. \n",
        "# The data are taken from our main dataset \"BTC-USD.\"\n",
        "```"
      ]
    },
    {
      "cell_type": "code",
      "execution_count": null,
      "metadata": {
        "colab": {
          "base_uri": "https://localhost:8080/",
          "height": 1000
        },
        "id": "v2NvNAknxdUT",
        "outputId": "57bf2186-1270-482c-b999-846b431279dd"
      },
      "outputs": [
        {
          "output_type": "display_data",
          "data": {
            "text/plain": [
              "<Figure size 432x288 with 1 Axes>"
            ],
            "image/png": "[encoded data removed]"
          },
          "metadata": {
            "needs_background": "light"
          }
        },
        {
          "output_type": "display_data",
          "data": {
            "text/plain": [
              "<Figure size 432x288 with 1 Axes>"
            ],
            "image/png": "[encoded data removed]"
          },
          "metadata": {
            "needs_background": "light"
          }
        },
        {
          "output_type": "display_data",
          "data": {
            "text/plain": [
              "<Figure size 432x288 with 1 Axes>"
            ],
            "image/png": "[encoded data removed]"
          },
          "metadata": {
            "needs_background": "light"
          }
        },
        {
          "output_type": "display_data",
          "data": {
            "text/plain": [
              "<Figure size 432x288 with 1 Axes>"
            ],
            "image/png": "[encoded data removed]"
          },
          "metadata": {
            "needs_background": "light"
          }
        }
      ],
      "source": [
        "volume_df = df[\"Volume\"]\n",
        "\n",
        "open_df = df[\"Open\"]\n",
        "close_df = df[\"Close\"]\n",
        "low_df = df[\"Low\"]\n",
        "high_df = df[\"High\"]\n",
        "\n",
        "plt.scatter(open_df, volume_df)\n",
        "plt.ylabel(\"Volume\")\n",
        "plt.xlabel(\"Open Price\")\n",
        "plt.title(\"Volume vs. Open Price\")\n",
        "plt.show()\n",
        "\n",
        "plt.scatter(close_df, volume_df)\n",
        "plt.ylabel(\"Volume\")\n",
        "plt.xlabel(\"Close Price\")\n",
        "plt.title(\"Volume vs. Close Price\")\n",
        "plt.show()\n",
        "\n",
        "plt.scatter(high_df, volume_df)\n",
        "plt.ylabel(\"Volume\")\n",
        "plt.xlabel(\"High Price\")\n",
        "plt.title(\"Volume vs. High Price\")\n",
        "plt.show()\n",
        "\n",
        "plt.scatter(low_df, volume_df)\n",
        "plt.ylabel(\"Volume\")\n",
        "plt.xlabel(\"Low Price\")\n",
        "plt.title(\"Volume vs. Low Price\")\n",
        "plt.show()"
      ]
    },
    {
      "cell_type": "markdown",
      "metadata": {
        "id": "7pWoMQ-N72av"
      },
      "source": [
        "```\n",
        "# The scatter plots below display the linear relationship between the price variables (i.e. open, close, high, and low) and marketcap. \n",
        "# The data are taken from our complementary dataset \"BTC-USD-MarketCap.\"\n",
        "```"
      ]
    },
    {
      "cell_type": "code",
      "execution_count": null,
      "metadata": {
        "colab": {
          "base_uri": "https://localhost:8080/",
          "height": 1000
        },
        "id": "za-TVgBWD0_E",
        "outputId": "99fb8196-c524-405b-9d16-96991d57daea"
      },
      "outputs": [
        {
          "output_type": "display_data",
          "data": {
            "text/plain": [
              "<Figure size 432x288 with 1 Axes>"
            ],
            "image/png": "[encoded data removed]"
          },
          "metadata": {
            "needs_background": "light"
          }
        },
        {
          "output_type": "display_data",
          "data": {
            "text/plain": [
              "<Figure size 432x288 with 1 Axes>"
            ],
            "image/png": "[encoded data removed]"
          },
          "metadata": {
            "needs_background": "light"
          }
        },
        {
          "output_type": "display_data",
          "data": {
            "text/plain": [
              "<Figure size 432x288 with 1 Axes>"
            ],
            "image/png": "[encoded data removed]"
          },
          "metadata": {
            "needs_background": "light"
          }
        },
        {
          "output_type": "display_data",
          "data": {
            "text/plain": [
              "<Figure size 432x288 with 1 Axes>"
            ],
            "image/png": "[encoded data removed]"
          },
          "metadata": {
            "needs_background": "light"
          }
        }
      ],
      "source": [
        "marketcap_df = df_2[\"Marketcap\"]\n",
        "\n",
        "open_df = df_2[\"Open\"]\n",
        "close_df = df_2[\"Close\"]\n",
        "low_df = df_2[\"Low\"]\n",
        "high_df = df_2[\"High\"]\n",
        "\n",
        "plt.scatter(open_df, marketcap_df)\n",
        "plt.ylabel(\"Marketcap\")\n",
        "plt.xlabel(\"Open Price\")\n",
        "plt.title(\"Marketcap vs. Open Price\")\n",
        "plt.show()\n",
        "\n",
        "plt.scatter(close_df, marketcap_df)\n",
        "plt.ylabel(\"Marketcap\")\n",
        "plt.xlabel(\"Close Price\")\n",
        "plt.title(\"Marketcap vs. Close Price\")\n",
        "plt.show()\n",
        "\n",
        "plt.scatter(low_df, marketcap_df)\n",
        "plt.ylabel(\"Marketcap\")\n",
        "plt.xlabel(\"Low Price\")\n",
        "plt.title(\"Marketcap vs. Low Price\")\n",
        "plt.show()\n",
        "\n",
        "plt.scatter(high_df, marketcap_df)\n",
        "plt.ylabel(\"Marketcap\")\n",
        "plt.xlabel(\"High Price\")\n",
        "plt.title(\"Marketcap vs. High Price\")\n",
        "plt.show()"
      ]
    },
    {
      "cell_type": "markdown",
      "metadata": {
        "id": "RiMbw8pB8GEN"
      },
      "source": [
        "```\n",
        "# The heat map represents the correlation between the prices and volume variables. \n",
        "# The positive values on the matrix below indicate a positive correlation and the magnitude of the values represents the strength of the correlation. \n",
        "```"
      ]
    },
    {
      "cell_type": "code",
      "execution_count": null,
      "metadata": {
        "colab": {
          "base_uri": "https://localhost:8080/",
          "height": 580
        },
        "id": "fC8mfzsB8HPP",
        "outputId": "30c747e7-de99-4100-dbdf-1d908095ffe6"
      },
      "outputs": [
        {
          "output_type": "display_data",
          "data": {
            "text/plain": [
              "<Figure size 720x720 with 2 Axes>"
            ],
            "image/png": "[encoded data removed]"
          },
          "metadata": {
            "needs_background": "light"
          }
        }
      ],
      "source": [
        "corr = df.drop([\"Date\",\"Adj Close\"],axis=1).corr()\n",
        "corr_vals = corr.values\n",
        "fig = plt.figure(figsize=(10, 10))\n",
        "plt.imshow(corr_vals,cmap=\"Reds\")\n",
        "\n",
        "corr2 = corr.select_dtypes(['number'])\n",
        "plt.yticks(range(len(corr2.columns)),corr2.columns)\n",
        "plt.xticks(range(len(corr2.columns)),corr2.columns,rotation=60)\n",
        "\n",
        "for i in range(len(corr_vals)):\n",
        "  for j in range(len(corr_vals)):\n",
        "    text = plt.text(j , i , round(corr_vals[i, j],1), horizontalalignment='center', verticalalignment='center', color = \"black\")\n",
        "\n",
        "cb = plt.colorbar()\n",
        "cb.ax.tick_params(labelsize=14)\n",
        "plt.title(\"Heat Map of the Prices and Volume\")\n",
        "plt.show()"
      ]
    },
    {
      "cell_type": "markdown",
      "metadata": {
        "id": "xf_JKGhgm7lc"
      },
      "source": [
        "```\n",
        "# The scatter plots below display the linear relationship between the price variable and block size. \n",
        "# The data are taken from our third dataset \"bitcoin.\"\n",
        "```"
      ]
    },
    {
      "cell_type": "code",
      "execution_count": null,
      "metadata": {
        "colab": {
          "base_uri": "https://localhost:8080/",
          "height": 295
        },
        "id": "wLnxWagplR--",
        "outputId": "d38751e4-aa74-4937-e6b4-d237ad9ef2c8"
      },
      "outputs": [
        {
          "output_type": "display_data",
          "data": {
            "text/plain": [
              "<Figure size 432x288 with 1 Axes>"
            ],
            "image/png": "[encoded data removed]"
          },
          "metadata": {
            "needs_background": "light"
          }
        }
      ],
      "source": [
        "price_df = df_3[\"price(USD)\"]\n",
        "\n",
        "blockSize_df = df_3[\"blockSize\"]\n",
        "\n",
        "plt.scatter(price_df, blockSize_df)\n",
        "plt.ylabel(\"Block Size\")\n",
        "plt.xlabel(\"Price\")\n",
        "plt.title(\"Block Size vs. Price\")\n",
        "plt.show()"
      ]
    },
    {
      "cell_type": "markdown",
      "metadata": {
        "id": "TaDKbWRhnKNN"
      },
      "source": [
        "```\n",
        "# The scatter plots below display the linear relationship between the price variable and generated coins. \n",
        "# The data are taken from our third dataset \"bitcoin.\"\n",
        "```"
      ]
    },
    {
      "cell_type": "code",
      "execution_count": null,
      "metadata": {
        "colab": {
          "base_uri": "https://localhost:8080/",
          "height": 295
        },
        "id": "ubluwljOnFyU",
        "outputId": "8415e7cc-bd48-485f-8ea0-35f537c03137"
      },
      "outputs": [
        {
          "output_type": "display_data",
          "data": {
            "text/plain": [
              "<Figure size 432x288 with 1 Axes>"
            ],
            "image/png": "[encoded data removed]"
          },
          "metadata": {
            "needs_background": "light"
          }
        }
      ],
      "source": [
        "price_df = df_3[\"price(USD)\"]\n",
        "\n",
        "generatedCoins_df = df_3[\"generatedCoins\"]\n",
        "\n",
        "plt.scatter(price_df, generatedCoins_df)\n",
        "plt.ylabel(\"Generated Coins\")\n",
        "plt.xlabel(\"Price\")\n",
        "plt.title(\"Generated Coins vs. Price\")\n",
        "plt.show()"
      ]
    },
    {
      "cell_type": "markdown",
      "metadata": {
        "id": "BvbIUzfC-vSe"
      },
      "source": [
        "## Hypothesis Testing\n"
      ]
    },
    {
      "cell_type": "markdown",
      "metadata": {
        "id": "VAB_-lyz-568"
      },
      "source": [
        "In this part of the project, we will investigate the difference between the means of high, low, open, and close prices of different samples with respect the mean values of volume and marketcap as found in the Exploratory Data Analysis section of this report. \n",
        "\n",
        "To put it more explicitly, we will compare the means of high, low, open, and close prices of the bitcoins with a volume greater than 1.489443e+10 and with a volume less than or equal to 1.489443e+10, which corresponds to the mean of the values in the marketcap column in the df_1 \"BTC-USD.csv\" data set.\n",
        "\n",
        "We will make the same comparison with respect to marketcap, selecting the comparison value as 1.208761e+11, which corresponds to the mean of the values in the marketcap column in the df_2 \"BTC-USD-MarketCap.csv\" data set."
      ]
    },
    {
      "cell_type": "markdown",
      "metadata": {
        "id": "Vvzxt7jXvdB7"
      },
      "source": [
        "Since we are investigating the difference between the means of high, low, open, and close prices with respect to means of two different features, i.e. volume and marketcap, we have formed two sets of null and alternative hypothesis. \n"
      ]
    },
    {
      "cell_type": "markdown",
      "metadata": {
        "id": "KkejbdByxMym"
      },
      "source": [
        "Hypotheses for the high price-low price analysis with respect to volume:\n",
        "\n",
        "Null Hypothesis ( 𝐻0 ): Means of the two samples which are the price values of the bitcoins with a volume greater than 1.489443e+10 and price values of the bitcoins with a volume less than or equal to 1.489443e+10 are equal. \n",
        "\n",
        "Alternative Hypothesis ( 𝐻𝐴 ): Means of the two samples which are the price values of the bitcoins with a volume greater than 1.489443e+10 and price values of the bitcoins with a volume less than or equal to 1.489443e+10 are not equal.\n"
      ]
    },
    {
      "cell_type": "markdown",
      "metadata": {
        "id": "MBkrCQHhyKpW"
      },
      "source": [
        "Hypotheses for the high price-low price analysis with respect to marketcap:\n",
        "\n",
        "Null Hypothesis ( 𝐻0 ): Means of the two samples which are the price values of the bitcoins with a marketcap greater than 1.208761e+11 and price values of the bitcoins with a marketcap less than or equal to 1.208761e+11 are equal. \n",
        "\n",
        "Alternative Hypothesis ( 𝐻𝐴 ): Means of the two samples which are the price values of the bitcoins with a marketcap greater than 1.208761e+11 and price values of the bitcoins with a marketcap less than or equal to 1.208761e+11 are not equal. "
      ]
    },
    {
      "cell_type": "markdown",
      "metadata": {
        "id": "F3r3o3kf-9gF"
      },
      "source": [
        "Now, let's check if there is any significant difference between the means of the bitcoins who have a volume greater than 1.489443e+10 and those who do not.\n",
        "For this exercise, our focus is on opening price of Bitcoin."
      ]
    },
    {
      "cell_type": "code",
      "execution_count": null,
      "metadata": {
        "id": "ZOgUvolUuwIV"
      },
      "outputs": [],
      "source": [
        "import seaborn as sns #For data visualization "
      ]
    },
    {
      "cell_type": "code",
      "execution_count": null,
      "metadata": {
        "id": "xUXqocNzHZOY"
      },
      "outputs": [],
      "source": [
        "filename = \"BTC-USD.csv\"\n",
        "\n",
        "df_mean = pd.read_csv(join(path_prefix, filename))"
      ]
    },
    {
      "cell_type": "code",
      "execution_count": null,
      "metadata": {
        "colab": {
          "base_uri": "https://localhost:8080/",
          "height": 206
        },
        "id": "84EXy8DiHhsp",
        "outputId": "6d6a9cad-4377-4d19-d160-7897dc048d61"
      },
      "outputs": [
        {
          "output_type": "execute_result",
          "data": {
            "text/plain": [
              "         Date        Open        High         Low       Close   Adj Close  \\\n",
              "0  2014-09-17  465.864014  468.174011  452.421997  457.334015  457.334015   \n",
              "1  2014-09-18  456.859985  456.859985  413.104004  424.440002  424.440002   \n",
              "2  2014-09-19  424.102997  427.834991  384.532013  394.795990  394.795990   \n",
              "3  2014-09-20  394.673004  423.295990  389.882996  408.903992  408.903992   \n",
              "4  2014-09-21  408.084991  412.425995  393.181000  398.821014  398.821014   \n",
              "\n",
              "     Volume  \n",
              "0  21056800  \n",
              "1  34483200  \n",
              "2  37919700  \n",
              "3  36863600  \n",
              "4  26580100  "
            ],
            "text/html": [
              "\n",
              "  <div id=\"df-a9d54972-a061-424d-abbe-0b469810c04b\">\n",
              "    <div class=\"colab-df-container\">\n",
              "      <div>\n",
              "<style scoped>\n",
              "    .dataframe tbody tr th:only-of-type {\n",
              "        vertical-align: middle;\n",
              "    }\n",
              "\n",
              "    .dataframe tbody tr th {\n",
              "        vertical-align: top;\n",
              "    }\n",
              "\n",
              "    .dataframe thead th {\n",
              "        text-align: right;\n",
              "    }\n",
              "</style>\n",
              "<table border=\"1\" class=\"dataframe\">\n",
              "  <thead>\n",
              "    <tr style=\"text-align: right;\">\n",
              "      <th></th>\n",
              "      <th>Date</th>\n",
              "      <th>Open</th>\n",
              "      <th>High</th>\n",
              "      <th>Low</th>\n",
              "      <th>Close</th>\n",
              "      <th>Adj Close</th>\n",
              "      <th>Volume</th>\n",
              "    </tr>\n",
              "  </thead>\n",
              "  <tbody>\n",
              "    <tr>\n",
              "      <th>0</th>\n",
              "      <td>2014-09-17</td>\n",
              "      <td>465.864014</td>\n",
              "      <td>468.174011</td>\n",
              "      <td>452.421997</td>\n",
              "      <td>457.334015</td>\n",
              "      <td>457.334015</td>\n",
              "      <td>21056800</td>\n",
              "    </tr>\n",
              "    <tr>\n",
              "      <th>1</th>\n",
              "      <td>2014-09-18</td>\n",
              "      <td>456.859985</td>\n",
              "      <td>456.859985</td>\n",
              "      <td>413.104004</td>\n",
              "      <td>424.440002</td>\n",
              "      <td>424.440002</td>\n",
              "      <td>34483200</td>\n",
              "    </tr>\n",
              "    <tr>\n",
              "      <th>2</th>\n",
              "      <td>2014-09-19</td>\n",
              "      <td>424.102997</td>\n",
              "      <td>427.834991</td>\n",
              "      <td>384.532013</td>\n",
              "      <td>394.795990</td>\n",
              "      <td>394.795990</td>\n",
              "      <td>37919700</td>\n",
              "    </tr>\n",
              "    <tr>\n",
              "      <th>3</th>\n",
              "      <td>2014-09-20</td>\n",
              "      <td>394.673004</td>\n",
              "      <td>423.295990</td>\n",
              "      <td>389.882996</td>\n",
              "      <td>408.903992</td>\n",
              "      <td>408.903992</td>\n",
              "      <td>36863600</td>\n",
              "    </tr>\n",
              "    <tr>\n",
              "      <th>4</th>\n",
              "      <td>2014-09-21</td>\n",
              "      <td>408.084991</td>\n",
              "      <td>412.425995</td>\n",
              "      <td>393.181000</td>\n",
              "      <td>398.821014</td>\n",
              "      <td>398.821014</td>\n",
              "      <td>26580100</td>\n",
              "    </tr>\n",
              "  </tbody>\n",
              "</table>\n",
              "</div>\n",
              "      <button class=\"colab-df-convert\" onclick=\"convertToInteractive('df-a9d54972-a061-424d-abbe-0b469810c04b')\"\n",
              "              title=\"Convert this dataframe to an interactive table.\"\n",
              "              style=\"display:none;\">\n",
              "        \n",
              "  <svg xmlns=\"http://www.w3.org/2000/svg\" height=\"24px\"viewBox=\"0 0 24 24\"\n",
              "       width=\"24px\">\n",
              "    <path d=\"M0 0h24v24H0V0z\" fill=\"none\"/>\n",
              "    <path d=\"M18.56 5.44l.94 2.06.94-2.06 2.06-.94-2.06-.94-.94-2.06-.94 2.06-2.06.94zm-11 1L8.5 8.5l.94-2.06 2.06-.94-2.06-.94L8.5 2.5l-.94 2.06-2.06.94zm10 10l.94 2.06.94-2.06 2.06-.94-2.06-.94-.94-2.06-.94 2.06-2.06.94z\"/><path d=\"M17.41 7.96l-1.37-1.37c-.4-.4-.92-.59-1.43-.59-.52 0-1.04.2-1.43.59L10.3 9.45l-7.72 7.72c-.78.78-.78 2.05 0 2.83L4 21.41c.39.39.9.59 1.41.59.51 0 1.02-.2 1.41-.59l7.78-7.78 2.81-2.81c.8-.78.8-2.07 0-2.86zM5.41 20L4 18.59l7.72-7.72 1.47 1.35L5.41 20z\"/>\n",
              "  </svg>\n",
              "      </button>\n",
              "      \n",
              "  <style>\n",
              "    .colab-df-container {\n",
              "      display:flex;\n",
              "      flex-wrap:wrap;\n",
              "      gap: 12px;\n",
              "    }\n",
              "\n",
              "    .colab-df-convert {\n",
              "      background-color: #E8F0FE;\n",
              "      border: none;\n",
              "      border-radius: 50%;\n",
              "      cursor: pointer;\n",
              "      display: none;\n",
              "      fill: #1967D2;\n",
              "      height: 32px;\n",
              "      padding: 0 0 0 0;\n",
              "      width: 32px;\n",
              "    }\n",
              "\n",
              "    .colab-df-convert:hover {\n",
              "      background-color: #E2EBFA;\n",
              "      box-shadow: 0px 1px 2px rgba(60, 64, 67, 0.3), 0px 1px 3px 1px rgba(60, 64, 67, 0.15);\n",
              "      fill: #174EA6;\n",
              "    }\n",
              "\n",
              "    [theme=dark] .colab-df-convert {\n",
              "      background-color: #3B4455;\n",
              "      fill: #D2E3FC;\n",
              "    }\n",
              "\n",
              "    [theme=dark] .colab-df-convert:hover {\n",
              "      background-color: #434B5C;\n",
              "      box-shadow: 0px 1px 3px 1px rgba(0, 0, 0, 0.15);\n",
              "      filter: drop-shadow(0px 1px 2px rgba(0, 0, 0, 0.3));\n",
              "      fill: #FFFFFF;\n",
              "    }\n",
              "  </style>\n",
              "\n",
              "      <script>\n",
              "        const buttonEl =\n",
              "          document.querySelector('#df-a9d54972-a061-424d-abbe-0b469810c04b button.colab-df-convert');\n",
              "        buttonEl.style.display =\n",
              "          google.colab.kernel.accessAllowed ? 'block' : 'none';\n",
              "\n",
              "        async function convertToInteractive(key) {\n",
              "          const element = document.querySelector('#df-a9d54972-a061-424d-abbe-0b469810c04b');\n",
              "          const dataTable =\n",
              "            await google.colab.kernel.invokeFunction('convertToInteractive',\n",
              "                                                     [key], {});\n",
              "          if (!dataTable) return;\n",
              "\n",
              "          const docLinkHtml = 'Like what you see? Visit the ' +\n",
              "            '<a target=\"_blank\" href=https://colab.research.google.com/notebooks/data_table.ipynb>data table notebook</a>'\n",
              "            + ' to learn more about interactive tables.';\n",
              "          element.innerHTML = '';\n",
              "          dataTable['output_type'] = 'display_data';\n",
              "          await google.colab.output.renderOutput(dataTable, element);\n",
              "          const docLink = document.createElement('div');\n",
              "          docLink.innerHTML = docLinkHtml;\n",
              "          element.appendChild(docLink);\n",
              "        }\n",
              "      </script>\n",
              "    </div>\n",
              "  </div>\n",
              "  "
            ]
          },
          "metadata": {},
          "execution_count": 29
        }
      ],
      "source": [
        "df_mean.head()"
      ]
    },
    {
      "cell_type": "code",
      "execution_count": null,
      "metadata": {
        "colab": {
          "base_uri": "https://localhost:8080/",
          "height": 483
        },
        "id": "5e9Tsci9KEtw",
        "outputId": "6f744a1b-287b-418a-b4c3-3057340b044e"
      },
      "outputs": [
        {
          "output_type": "stream",
          "name": "stdout",
          "text": [
            "mean score of bitcoin open prices while volume greater than 1.489443e+10: 25848.14\n",
            "mean score of bitcoin open prices while volume less than 1.489443e+10: 3098.02\n",
            " \n"
          ]
        },
        {
          "output_type": "display_data",
          "data": {
            "text/plain": [
              "<Figure size 1008x432 with 3 Axes>"
            ],
            "image/png": "[encoded data removed]"
          },
          "metadata": {
            "needs_background": "light"
          }
        }
      ],
      "source": [
        "test_type2 = \"Open\"\n",
        "Greater2 = df[df[\"Volume\"] >= 1.489443e+10][test_type2]\n",
        "Less2 = df[df[\"Volume\"] <= 1.489443e+10][test_type2] \n",
        "\n",
        "fig, ax = plt.subplots(1, 3, figsize=(14,6))  \n",
        "\n",
        "print(f\"mean score of bitcoin open prices while volume greater than 1.489443e+10: {Greater2.mean():.2f}\")\n",
        "print(f\"mean score of bitcoin open prices while volume less than 1.489443e+10: {Less2.mean():.2f}\")\n",
        "print(\" \")\n",
        "\n",
        "Greater2.plot(kind=\"hist\", ax=ax[0], bins=20, label=\"completed\", color=\"c\", density=True)\n",
        "ax[0].set_title(\"greater\")\n",
        "\n",
        "Less2.plot(kind=\"hist\", ax=ax[1], bins=20, label=\"none\", color=\"m\", density=True)\n",
        "ax[1].set_title(\"smaller\")\n",
        "\n",
        "sns.kdeplot(Greater2, shade=True, label=\"greater volume\", ax=ax[2], color=\"c\")\n",
        "sns.kdeplot(Less2, shade=True, label=\"less volume\", ax=ax[2], color=\"m\")\n",
        "ax[2].set_title(\"Comparison with Open Price\")\n",
        "\n",
        "plt.suptitle(\"Open Price Distribution with respect to Volume\")\n",
        "plt.show()"
      ]
    },
    {
      "cell_type": "markdown",
      "metadata": {
        "id": "BkCNx55p2Xib"
      },
      "source": [
        "By looking at the above graphs, we can conclude that the bitcoins with a volume greater than 1.489443e+10 have higher opening price values on average compared to the bitcoins with a lower volume but we should show this difference numerically by conducting hypothesis testing. \n",
        "\n",
        "\n"
      ]
    },
    {
      "cell_type": "markdown",
      "metadata": {
        "id": "NCk7qp0n6CP6"
      },
      "source": [
        "Now, let's show this difference statistically by applying a significance test. Since we have two different distributions for the opening price, we used the independence two-sample (unpaired) T-test.\n",
        "The significance level, α , is the probability of rejecting the null hypothesis when it is true. We took our significance values as 0.1 so at the end of our code, we can say that we can predict this printed code by 90% likelihood."
      ]
    },
    {
      "cell_type": "code",
      "execution_count": null,
      "metadata": {
        "colab": {
          "base_uri": "https://localhost:8080/"
        },
        "id": "gumDTBEWD4Ba",
        "outputId": "b7760d82-d0f5-4581-dcca-c7be02d77819"
      },
      "outputs": [
        {
          "output_type": "stream",
          "name": "stdout",
          "text": [
            "Hypothesis Testing for the Open Price:\n",
            "Null hypothesis is rejected.\n"
          ]
        }
      ],
      "source": [
        "print(\"Hypothesis Testing for the Open Price:\")\n",
        "\n",
        "from scipy import stats\n",
        "import scipy.stats as sp\n",
        "\n",
        "alpha = 0.1\n",
        "degree = len(Greater2)-1\n",
        "\n",
        "t_stat = stats.t.ppf(1-alpha, degree)\n",
        "#print(t_stat)\n",
        "value = stats.ttest_ind(Greater2, Less2, equal_var=False).statistic\n",
        "#print(value)\n",
        "if t_stat < value:\n",
        "  print(\"Null hypothesis is rejected.\")\n",
        "else:\n",
        "  print(\"We fail to reject null hypothesis. \")"
      ]
    },
    {
      "cell_type": "markdown",
      "metadata": {
        "id": "t1gSBPBsDiqi"
      },
      "source": [
        "The printed code is \"Null hypothesis is rejected.\" The null hypothesis is rejected with a probability of 90% and the difference in the means of our two samples taken from the dataset is significant. In other words, the means of the two samples which are the opening price values of the bitcoins with a volume greater than 1.489443e+10 and price values of the bitcoins with a volume less than or equal to 1.489443e+10 are not equal."
      ]
    },
    {
      "cell_type": "markdown",
      "metadata": {
        "id": "KVXgyK8WMc20"
      },
      "source": [
        "Now, let's check if there is any significant difference between the means of the bitcoins who have a marketcap greater than 1.208761e+11 and those who do not. For this exercise, our focus is on the opening prices of Bitcoin."
      ]
    },
    {
      "cell_type": "code",
      "execution_count": null,
      "metadata": {
        "id": "nbh9RD62MDPU"
      },
      "outputs": [],
      "source": [
        "filename2 = \"BTC-USD-MarketCap.csv\"\n",
        "\n",
        "df2_mean = pd.read_csv(join(path_prefix, filename2))"
      ]
    },
    {
      "cell_type": "code",
      "execution_count": null,
      "metadata": {
        "colab": {
          "base_uri": "https://localhost:8080/",
          "height": 206
        },
        "id": "eKFr3eUbMOxf",
        "outputId": "2721d937-e008-4cd7-eda9-afebc77b1237"
      },
      "outputs": [
        {
          "output_type": "execute_result",
          "data": {
            "text/plain": [
              "   SNo     Name Symbol                 Date        High         Low  \\\n",
              "0    1  Bitcoin    BTC  2013-04-29 23:59:59  147.488007  134.000000   \n",
              "1    2  Bitcoin    BTC  2013-04-30 23:59:59  146.929993  134.050003   \n",
              "2    3  Bitcoin    BTC  2013-05-01 23:59:59  139.889999  107.720001   \n",
              "3    4  Bitcoin    BTC  2013-05-02 23:59:59  125.599998   92.281898   \n",
              "4    5  Bitcoin    BTC  2013-05-03 23:59:59  108.127998   79.099998   \n",
              "\n",
              "         Open       Close  Volume     Marketcap  \n",
              "0  134.444000  144.539993     0.0  1.603769e+09  \n",
              "1  144.000000  139.000000     0.0  1.542813e+09  \n",
              "2  139.000000  116.989998     0.0  1.298955e+09  \n",
              "3  116.379997  105.209999     0.0  1.168517e+09  \n",
              "4  106.250000   97.750000     0.0  1.085995e+09  "
            ],
            "text/html": [
              "\n",
              "  <div id=\"df-a6773dcc-5462-45b9-9cf0-f625b22c15e7\">\n",
              "    <div class=\"colab-df-container\">\n",
              "      <div>\n",
              "<style scoped>\n",
              "    .dataframe tbody tr th:only-of-type {\n",
              "        vertical-align: middle;\n",
              "    }\n",
              "\n",
              "    .dataframe tbody tr th {\n",
              "        vertical-align: top;\n",
              "    }\n",
              "\n",
              "    .dataframe thead th {\n",
              "        text-align: right;\n",
              "    }\n",
              "</style>\n",
              "<table border=\"1\" class=\"dataframe\">\n",
              "  <thead>\n",
              "    <tr style=\"text-align: right;\">\n",
              "      <th></th>\n",
              "      <th>SNo</th>\n",
              "      <th>Name</th>\n",
              "      <th>Symbol</th>\n",
              "      <th>Date</th>\n",
              "      <th>High</th>\n",
              "      <th>Low</th>\n",
              "      <th>Open</th>\n",
              "      <th>Close</th>\n",
              "      <th>Volume</th>\n",
              "      <th>Marketcap</th>\n",
              "    </tr>\n",
              "  </thead>\n",
              "  <tbody>\n",
              "    <tr>\n",
              "      <th>0</th>\n",
              "      <td>1</td>\n",
              "      <td>Bitcoin</td>\n",
              "      <td>BTC</td>\n",
              "      <td>2013-04-29 23:59:59</td>\n",
              "      <td>147.488007</td>\n",
              "      <td>134.000000</td>\n",
              "      <td>134.444000</td>\n",
              "      <td>144.539993</td>\n",
              "      <td>0.0</td>\n",
              "      <td>1.603769e+09</td>\n",
              "    </tr>\n",
              "    <tr>\n",
              "      <th>1</th>\n",
              "      <td>2</td>\n",
              "      <td>Bitcoin</td>\n",
              "      <td>BTC</td>\n",
              "      <td>2013-04-30 23:59:59</td>\n",
              "      <td>146.929993</td>\n",
              "      <td>134.050003</td>\n",
              "      <td>144.000000</td>\n",
              "      <td>139.000000</td>\n",
              "      <td>0.0</td>\n",
              "      <td>1.542813e+09</td>\n",
              "    </tr>\n",
              "    <tr>\n",
              "      <th>2</th>\n",
              "      <td>3</td>\n",
              "      <td>Bitcoin</td>\n",
              "      <td>BTC</td>\n",
              "      <td>2013-05-01 23:59:59</td>\n",
              "      <td>139.889999</td>\n",
              "      <td>107.720001</td>\n",
              "      <td>139.000000</td>\n",
              "      <td>116.989998</td>\n",
              "      <td>0.0</td>\n",
              "      <td>1.298955e+09</td>\n",
              "    </tr>\n",
              "    <tr>\n",
              "      <th>3</th>\n",
              "      <td>4</td>\n",
              "      <td>Bitcoin</td>\n",
              "      <td>BTC</td>\n",
              "      <td>2013-05-02 23:59:59</td>\n",
              "      <td>125.599998</td>\n",
              "      <td>92.281898</td>\n",
              "      <td>116.379997</td>\n",
              "      <td>105.209999</td>\n",
              "      <td>0.0</td>\n",
              "      <td>1.168517e+09</td>\n",
              "    </tr>\n",
              "    <tr>\n",
              "      <th>4</th>\n",
              "      <td>5</td>\n",
              "      <td>Bitcoin</td>\n",
              "      <td>BTC</td>\n",
              "      <td>2013-05-03 23:59:59</td>\n",
              "      <td>108.127998</td>\n",
              "      <td>79.099998</td>\n",
              "      <td>106.250000</td>\n",
              "      <td>97.750000</td>\n",
              "      <td>0.0</td>\n",
              "      <td>1.085995e+09</td>\n",
              "    </tr>\n",
              "  </tbody>\n",
              "</table>\n",
              "</div>\n",
              "      <button class=\"colab-df-convert\" onclick=\"convertToInteractive('df-a6773dcc-5462-45b9-9cf0-f625b22c15e7')\"\n",
              "              title=\"Convert this dataframe to an interactive table.\"\n",
              "              style=\"display:none;\">\n",
              "        \n",
              "  <svg xmlns=\"http://www.w3.org/2000/svg\" height=\"24px\"viewBox=\"0 0 24 24\"\n",
              "       width=\"24px\">\n",
              "    <path d=\"M0 0h24v24H0V0z\" fill=\"none\"/>\n",
              "    <path d=\"M18.56 5.44l.94 2.06.94-2.06 2.06-.94-2.06-.94-.94-2.06-.94 2.06-2.06.94zm-11 1L8.5 8.5l.94-2.06 2.06-.94-2.06-.94L8.5 2.5l-.94 2.06-2.06.94zm10 10l.94 2.06.94-2.06 2.06-.94-2.06-.94-.94-2.06-.94 2.06-2.06.94z\"/><path d=\"M17.41 7.96l-1.37-1.37c-.4-.4-.92-.59-1.43-.59-.52 0-1.04.2-1.43.59L10.3 9.45l-7.72 7.72c-.78.78-.78 2.05 0 2.83L4 21.41c.39.39.9.59 1.41.59.51 0 1.02-.2 1.41-.59l7.78-7.78 2.81-2.81c.8-.78.8-2.07 0-2.86zM5.41 20L4 18.59l7.72-7.72 1.47 1.35L5.41 20z\"/>\n",
              "  </svg>\n",
              "      </button>\n",
              "      \n",
              "  <style>\n",
              "    .colab-df-container {\n",
              "      display:flex;\n",
              "      flex-wrap:wrap;\n",
              "      gap: 12px;\n",
              "    }\n",
              "\n",
              "    .colab-df-convert {\n",
              "      background-color: #E8F0FE;\n",
              "      border: none;\n",
              "      border-radius: 50%;\n",
              "      cursor: pointer;\n",
              "      display: none;\n",
              "      fill: #1967D2;\n",
              "      height: 32px;\n",
              "      padding: 0 0 0 0;\n",
              "      width: 32px;\n",
              "    }\n",
              "\n",
              "    .colab-df-convert:hover {\n",
              "      background-color: #E2EBFA;\n",
              "      box-shadow: 0px 1px 2px rgba(60, 64, 67, 0.3), 0px 1px 3px 1px rgba(60, 64, 67, 0.15);\n",
              "      fill: #174EA6;\n",
              "    }\n",
              "\n",
              "    [theme=dark] .colab-df-convert {\n",
              "      background-color: #3B4455;\n",
              "      fill: #D2E3FC;\n",
              "    }\n",
              "\n",
              "    [theme=dark] .colab-df-convert:hover {\n",
              "      background-color: #434B5C;\n",
              "      box-shadow: 0px 1px 3px 1px rgba(0, 0, 0, 0.15);\n",
              "      filter: drop-shadow(0px 1px 2px rgba(0, 0, 0, 0.3));\n",
              "      fill: #FFFFFF;\n",
              "    }\n",
              "  </style>\n",
              "\n",
              "      <script>\n",
              "        const buttonEl =\n",
              "          document.querySelector('#df-a6773dcc-5462-45b9-9cf0-f625b22c15e7 button.colab-df-convert');\n",
              "        buttonEl.style.display =\n",
              "          google.colab.kernel.accessAllowed ? 'block' : 'none';\n",
              "\n",
              "        async function convertToInteractive(key) {\n",
              "          const element = document.querySelector('#df-a6773dcc-5462-45b9-9cf0-f625b22c15e7');\n",
              "          const dataTable =\n",
              "            await google.colab.kernel.invokeFunction('convertToInteractive',\n",
              "                                                     [key], {});\n",
              "          if (!dataTable) return;\n",
              "\n",
              "          const docLinkHtml = 'Like what you see? Visit the ' +\n",
              "            '<a target=\"_blank\" href=https://colab.research.google.com/notebooks/data_table.ipynb>data table notebook</a>'\n",
              "            + ' to learn more about interactive tables.';\n",
              "          element.innerHTML = '';\n",
              "          dataTable['output_type'] = 'display_data';\n",
              "          await google.colab.output.renderOutput(dataTable, element);\n",
              "          const docLink = document.createElement('div');\n",
              "          docLink.innerHTML = docLinkHtml;\n",
              "          element.appendChild(docLink);\n",
              "        }\n",
              "      </script>\n",
              "    </div>\n",
              "  </div>\n",
              "  "
            ]
          },
          "metadata": {},
          "execution_count": 33
        }
      ],
      "source": [
        "df2_mean.head()"
      ]
    },
    {
      "cell_type": "code",
      "execution_count": null,
      "metadata": {
        "colab": {
          "base_uri": "https://localhost:8080/",
          "height": 300
        },
        "id": "4JyOpNWvLET-",
        "outputId": "9750200f-616d-4719-f270-f8ecae21c79f"
      },
      "outputs": [
        {
          "output_type": "execute_result",
          "data": {
            "text/plain": [
              "               SNo          High           Low          Open         Close  \\\n",
              "count  2991.000000   2991.000000   2991.000000   2991.000000   2991.000000   \n",
              "mean   1496.000000   6893.326038   6486.009539   6700.146240   6711.290443   \n",
              "std     863.571653  11642.832456  10869.032130  11288.043736  11298.141921   \n",
              "min       1.000000     74.561096     65.526001     68.504997     68.431000   \n",
              "25%     748.500000    436.179001    422.879486    430.445496    430.569489   \n",
              "50%    1496.000000   2387.610107   2178.500000   2269.889893   2286.409912   \n",
              "75%    2243.500000   8733.926948   8289.800459   8569.656494   8576.238715   \n",
              "max    2991.000000  64863.098908  62208.964366  63523.754869  63503.457930   \n",
              "\n",
              "             Volume     Marketcap  \n",
              "count  2.991000e+03  2.991000e+03  \n",
              "mean   1.090633e+10  1.208761e+11  \n",
              "std    1.888895e+10  2.109438e+11  \n",
              "min    0.000000e+00  7.784112e+08  \n",
              "25%    3.036725e+07  6.305579e+09  \n",
              "50%    9.460360e+08  3.741503e+10  \n",
              "75%    1.592015e+10  1.499957e+11  \n",
              "max    3.509679e+11  1.186364e+12  "
            ],
            "text/html": [
              "\n",
              "  <div id=\"df-da435302-07f4-4f61-b4d2-3de257600f47\">\n",
              "    <div class=\"colab-df-container\">\n",
              "      <div>\n",
              "<style scoped>\n",
              "    .dataframe tbody tr th:only-of-type {\n",
              "        vertical-align: middle;\n",
              "    }\n",
              "\n",
              "    .dataframe tbody tr th {\n",
              "        vertical-align: top;\n",
              "    }\n",
              "\n",
              "    .dataframe thead th {\n",
              "        text-align: right;\n",
              "    }\n",
              "</style>\n",
              "<table border=\"1\" class=\"dataframe\">\n",
              "  <thead>\n",
              "    <tr style=\"text-align: right;\">\n",
              "      <th></th>\n",
              "      <th>SNo</th>\n",
              "      <th>High</th>\n",
              "      <th>Low</th>\n",
              "      <th>Open</th>\n",
              "      <th>Close</th>\n",
              "      <th>Volume</th>\n",
              "      <th>Marketcap</th>\n",
              "    </tr>\n",
              "  </thead>\n",
              "  <tbody>\n",
              "    <tr>\n",
              "      <th>count</th>\n",
              "      <td>2991.000000</td>\n",
              "      <td>2991.000000</td>\n",
              "      <td>2991.000000</td>\n",
              "      <td>2991.000000</td>\n",
              "      <td>2991.000000</td>\n",
              "      <td>2.991000e+03</td>\n",
              "      <td>2.991000e+03</td>\n",
              "    </tr>\n",
              "    <tr>\n",
              "      <th>mean</th>\n",
              "      <td>1496.000000</td>\n",
              "      <td>6893.326038</td>\n",
              "      <td>6486.009539</td>\n",
              "      <td>6700.146240</td>\n",
              "      <td>6711.290443</td>\n",
              "      <td>1.090633e+10</td>\n",
              "      <td>1.208761e+11</td>\n",
              "    </tr>\n",
              "    <tr>\n",
              "      <th>std</th>\n",
              "      <td>863.571653</td>\n",
              "      <td>11642.832456</td>\n",
              "      <td>10869.032130</td>\n",
              "      <td>11288.043736</td>\n",
              "      <td>11298.141921</td>\n",
              "      <td>1.888895e+10</td>\n",
              "      <td>2.109438e+11</td>\n",
              "    </tr>\n",
              "    <tr>\n",
              "      <th>min</th>\n",
              "      <td>1.000000</td>\n",
              "      <td>74.561096</td>\n",
              "      <td>65.526001</td>\n",
              "      <td>68.504997</td>\n",
              "      <td>68.431000</td>\n",
              "      <td>0.000000e+00</td>\n",
              "      <td>7.784112e+08</td>\n",
              "    </tr>\n",
              "    <tr>\n",
              "      <th>25%</th>\n",
              "      <td>748.500000</td>\n",
              "      <td>436.179001</td>\n",
              "      <td>422.879486</td>\n",
              "      <td>430.445496</td>\n",
              "      <td>430.569489</td>\n",
              "      <td>3.036725e+07</td>\n",
              "      <td>6.305579e+09</td>\n",
              "    </tr>\n",
              "    <tr>\n",
              "      <th>50%</th>\n",
              "      <td>1496.000000</td>\n",
              "      <td>2387.610107</td>\n",
              "      <td>2178.500000</td>\n",
              "      <td>2269.889893</td>\n",
              "      <td>2286.409912</td>\n",
              "      <td>9.460360e+08</td>\n",
              "      <td>3.741503e+10</td>\n",
              "    </tr>\n",
              "    <tr>\n",
              "      <th>75%</th>\n",
              "      <td>2243.500000</td>\n",
              "      <td>8733.926948</td>\n",
              "      <td>8289.800459</td>\n",
              "      <td>8569.656494</td>\n",
              "      <td>8576.238715</td>\n",
              "      <td>1.592015e+10</td>\n",
              "      <td>1.499957e+11</td>\n",
              "    </tr>\n",
              "    <tr>\n",
              "      <th>max</th>\n",
              "      <td>2991.000000</td>\n",
              "      <td>64863.098908</td>\n",
              "      <td>62208.964366</td>\n",
              "      <td>63523.754869</td>\n",
              "      <td>63503.457930</td>\n",
              "      <td>3.509679e+11</td>\n",
              "      <td>1.186364e+12</td>\n",
              "    </tr>\n",
              "  </tbody>\n",
              "</table>\n",
              "</div>\n",
              "      <button class=\"colab-df-convert\" onclick=\"convertToInteractive('df-da435302-07f4-4f61-b4d2-3de257600f47')\"\n",
              "              title=\"Convert this dataframe to an interactive table.\"\n",
              "              style=\"display:none;\">\n",
              "        \n",
              "  <svg xmlns=\"http://www.w3.org/2000/svg\" height=\"24px\"viewBox=\"0 0 24 24\"\n",
              "       width=\"24px\">\n",
              "    <path d=\"M0 0h24v24H0V0z\" fill=\"none\"/>\n",
              "    <path d=\"M18.56 5.44l.94 2.06.94-2.06 2.06-.94-2.06-.94-.94-2.06-.94 2.06-2.06.94zm-11 1L8.5 8.5l.94-2.06 2.06-.94-2.06-.94L8.5 2.5l-.94 2.06-2.06.94zm10 10l.94 2.06.94-2.06 2.06-.94-2.06-.94-.94-2.06-.94 2.06-2.06.94z\"/><path d=\"M17.41 7.96l-1.37-1.37c-.4-.4-.92-.59-1.43-.59-.52 0-1.04.2-1.43.59L10.3 9.45l-7.72 7.72c-.78.78-.78 2.05 0 2.83L4 21.41c.39.39.9.59 1.41.59.51 0 1.02-.2 1.41-.59l7.78-7.78 2.81-2.81c.8-.78.8-2.07 0-2.86zM5.41 20L4 18.59l7.72-7.72 1.47 1.35L5.41 20z\"/>\n",
              "  </svg>\n",
              "      </button>\n",
              "      \n",
              "  <style>\n",
              "    .colab-df-container {\n",
              "      display:flex;\n",
              "      flex-wrap:wrap;\n",
              "      gap: 12px;\n",
              "    }\n",
              "\n",
              "    .colab-df-convert {\n",
              "      background-color: #E8F0FE;\n",
              "      border: none;\n",
              "      border-radius: 50%;\n",
              "      cursor: pointer;\n",
              "      display: none;\n",
              "      fill: #1967D2;\n",
              "      height: 32px;\n",
              "      padding: 0 0 0 0;\n",
              "      width: 32px;\n",
              "    }\n",
              "\n",
              "    .colab-df-convert:hover {\n",
              "      background-color: #E2EBFA;\n",
              "      box-shadow: 0px 1px 2px rgba(60, 64, 67, 0.3), 0px 1px 3px 1px rgba(60, 64, 67, 0.15);\n",
              "      fill: #174EA6;\n",
              "    }\n",
              "\n",
              "    [theme=dark] .colab-df-convert {\n",
              "      background-color: #3B4455;\n",
              "      fill: #D2E3FC;\n",
              "    }\n",
              "\n",
              "    [theme=dark] .colab-df-convert:hover {\n",
              "      background-color: #434B5C;\n",
              "      box-shadow: 0px 1px 3px 1px rgba(0, 0, 0, 0.15);\n",
              "      filter: drop-shadow(0px 1px 2px rgba(0, 0, 0, 0.3));\n",
              "      fill: #FFFFFF;\n",
              "    }\n",
              "  </style>\n",
              "\n",
              "      <script>\n",
              "        const buttonEl =\n",
              "          document.querySelector('#df-da435302-07f4-4f61-b4d2-3de257600f47 button.colab-df-convert');\n",
              "        buttonEl.style.display =\n",
              "          google.colab.kernel.accessAllowed ? 'block' : 'none';\n",
              "\n",
              "        async function convertToInteractive(key) {\n",
              "          const element = document.querySelector('#df-da435302-07f4-4f61-b4d2-3de257600f47');\n",
              "          const dataTable =\n",
              "            await google.colab.kernel.invokeFunction('convertToInteractive',\n",
              "                                                     [key], {});\n",
              "          if (!dataTable) return;\n",
              "\n",
              "          const docLinkHtml = 'Like what you see? Visit the ' +\n",
              "            '<a target=\"_blank\" href=https://colab.research.google.com/notebooks/data_table.ipynb>data table notebook</a>'\n",
              "            + ' to learn more about interactive tables.';\n",
              "          element.innerHTML = '';\n",
              "          dataTable['output_type'] = 'display_data';\n",
              "          await google.colab.output.renderOutput(dataTable, element);\n",
              "          const docLink = document.createElement('div');\n",
              "          docLink.innerHTML = docLinkHtml;\n",
              "          element.appendChild(docLink);\n",
              "        }\n",
              "      </script>\n",
              "    </div>\n",
              "  </div>\n",
              "  "
            ]
          },
          "metadata": {},
          "execution_count": 34
        }
      ],
      "source": [
        "df2_mean.describe()"
      ]
    },
    {
      "cell_type": "code",
      "execution_count": null,
      "metadata": {
        "colab": {
          "base_uri": "https://localhost:8080/",
          "height": 483
        },
        "id": "tYVUwnapOHT_",
        "outputId": "81701b2e-fea0-46ec-846f-05358d40da21"
      },
      "outputs": [
        {
          "output_type": "stream",
          "name": "stdout",
          "text": [
            "mean score of bitcoin open prices while Marketcap greater than 1.208761e+11: 16961.99\n",
            "mean score of bitcoin open prices while Marketcap less than 1.208761e+11: 1592.35\n",
            " \n"
          ]
        },
        {
          "output_type": "display_data",
          "data": {
            "text/plain": [
              "<Figure size 1008x432 with 3 Axes>"
            ],
            "image/png": "[encoded data removed]"
          },
          "metadata": {
            "needs_background": "light"
          }
        }
      ],
      "source": [
        "test_type2 = \"Open\"\n",
        "Greater2 = df_2[df_2[\"Marketcap\"] >= 1.208761e+11][test_type2]\n",
        "Less2 = df_2[df_2[\"Marketcap\"] <= 1.208761e+11][test_type2] \n",
        "\n",
        "fig, ax = plt.subplots(1, 3, figsize=(14,6))  \n",
        "\n",
        "print(f\"mean score of bitcoin open prices while Marketcap greater than 1.208761e+11: {Greater2.mean():.2f}\")\n",
        "print(f\"mean score of bitcoin open prices while Marketcap less than 1.208761e+11: {Less2.mean():.2f}\")\n",
        "print(\" \")\n",
        "\n",
        "Greater2.plot(kind=\"hist\", ax=ax[0], bins=20, label=\"completed\", color=\"c\", density=True)\n",
        "ax[0].set_title(\"greater\")\n",
        "\n",
        "Less2.plot(kind=\"hist\", ax=ax[1], bins=20, label=\"none\", color=\"m\", density=True)\n",
        "ax[1].set_title(\"smaller\")\n",
        "\n",
        "sns.kdeplot(Greater2, shade=True, label=\"greater Marketcap\", ax=ax[2], color=\"c\")\n",
        "sns.kdeplot(Less2, shade=True, label=\"less Marketcap\", ax=ax[2], color=\"m\")\n",
        "ax[2].set_title(\"Comparison with Open Price\")\n",
        "\n",
        "plt.suptitle(\"Open Price Distribution with respect to Marketcap\")\n",
        "plt.show()\n"
      ]
    },
    {
      "cell_type": "markdown",
      "metadata": {
        "id": "YRVldBipR6nO"
      },
      "source": [
        "By looking at the graphs above, we can conclude that the bitcoins with a MarketCap greater than 1.208761e+11 have higher openning price values on average compared to the bitcoins with a lower MarketCap. Again, we should conduct a second hypothesis testing for the Marketcap to support our observation with numerical values."
      ]
    },
    {
      "cell_type": "markdown",
      "metadata": {
        "id": "sWRK5XNtR_CT"
      },
      "source": [
        "\n",
        "Now, let's show this difference statistically by applying a significance test. Since we have two different distributions for openning price, we used the independence two-sample (unpaired) T-test. The significance level, α , is the probability of rejecting the null hypothesis when it is true. We took our significance values as 0.1 so at the end of our code, we can say that we can predict this printed code by 90% likelihood.\n"
      ]
    },
    {
      "cell_type": "code",
      "execution_count": null,
      "metadata": {
        "colab": {
          "base_uri": "https://localhost:8080/"
        },
        "id": "kx3GmfmHOWPa",
        "outputId": "64cd041e-8b4c-4995-859b-2c08964506c6"
      },
      "outputs": [
        {
          "output_type": "stream",
          "name": "stdout",
          "text": [
            "Hypothesis Testing for the Open Price:\n",
            "Null hypothesis is rejected.\n"
          ]
        }
      ],
      "source": [
        "print(\"Hypothesis Testing for the Open Price:\")\n",
        "\n",
        "from scipy import stats\n",
        "import scipy.stats as sp\n",
        "\n",
        "alpha = 0.1\n",
        "degree = len(Greater2)-1\n",
        "\n",
        "t_stat = stats.t.ppf(1-alpha, degree)\n",
        "#print(t_stat)\n",
        "value = stats.ttest_ind(Greater2, Less2, equal_var=False).statistic\n",
        "#print(value)\n",
        "if t_stat < value:\n",
        "  print(\"Null hypothesis is rejected.\")\n",
        "else:\n",
        "  print(\"We fail to reject null hypothesis. \")"
      ]
    },
    {
      "cell_type": "markdown",
      "metadata": {
        "id": "1RY5mTt3STE8"
      },
      "source": [
        "The printed code is \"Null hypothesis is rejected.\" The null hypothesis is rejected with a probability of 90% and the difference in the means of our two samples taken from the dataset is significant. In other words,the means of the two samples which are the price values of the bitcoins with a MarketCap greater than 1.208761e+11 and price values of the bitcoins with a MarketCap less than or equal to 1.208761e+11 are not equal."
      ]
    },
    {
      "cell_type": "markdown",
      "metadata": {
        "id": "UNt7tzGQv4mM"
      },
      "source": [
        "Now, we will investigate whether there is a significant statistical difference between high and low prices with respect to open and close prices of the same day. \n",
        "\n",
        "Hypotheses for the high price-low price analysis with respect to open price:\n",
        "\n",
        "Null Hypothesis ( 𝐻0 ): The difference between high and low prices of the bitcoins with respect to opening prices of the same day is equal to zero. \n",
        "\n",
        "Alternative Hypothesis ( 𝐻𝐴 ): There is a significant statistical difference between high and low prices with respect to opening prices of the same day. \n"
      ]
    },
    {
      "cell_type": "code",
      "execution_count": null,
      "metadata": {
        "colab": {
          "base_uri": "https://localhost:8080/",
          "height": 483
        },
        "id": "KjuFjdvyyo6D",
        "outputId": "3a9c5d86-ff5e-452e-cf7c-f0d1c1886f99"
      },
      "outputs": [
        {
          "output_type": "stream",
          "name": "stdout",
          "text": [
            "mean score of bitcoin high prices with respect to open prices: 12082.90\n",
            "mean score of bitcoin low prices with respect to open prices: 11425.23\n",
            " \n"
          ]
        },
        {
          "output_type": "display_data",
          "data": {
            "text/plain": [
              "<Figure size 1008x432 with 3 Axes>"
            ],
            "image/png": "[encoded data removed]"
          },
          "metadata": {
            "needs_background": "light"
          }
        }
      ],
      "source": [
        "HighPrice = df[df[\"Open\"] > 0][\"High\"]\n",
        "LowPrice = df[df[\"Open\"] > 0][\"Low\"] \n",
        "\n",
        "fig, ax = plt.subplots(1, 3, figsize=(14,6))  \n",
        "\n",
        "print(f\"mean score of bitcoin high prices with respect to open prices: {HighPrice.mean():.2f}\")\n",
        "print(f\"mean score of bitcoin low prices with respect to open prices: {LowPrice.mean():.2f}\")\n",
        "print(\" \")\n",
        "\n",
        "HighPrice.plot(kind=\"hist\", ax=ax[0], bins=20, label=\"completed\", color=\"c\", density=True)\n",
        "ax[0].set_title(\"high price\")\n",
        "\n",
        "LowPrice.plot(kind=\"hist\", ax=ax[1], bins=20, label=\"none\", color=\"m\", density=True)\n",
        "ax[1].set_title(\"low price\")\n",
        "\n",
        "sns.kdeplot(HighPrice, shade=True, label=\"high price\", ax=ax[2], color=\"c\")\n",
        "sns.kdeplot(LowPrice, shade=True, label=\"low price\", ax=ax[2], color=\"m\")\n",
        "ax[2].set_title(\"Comparison with Open Price\")\n",
        "\n",
        "plt.suptitle(\"Comparison of High Prices and Low Prices with respect to Open Prices\")\n",
        "plt.show()\n"
      ]
    },
    {
      "cell_type": "markdown",
      "metadata": {
        "id": "WrROTUmAPgLi"
      },
      "source": [
        "By looking at the graphs above, we cannot make a certain conclusion about the difference between the high and low prices with respect to the opening prices of the same day because even though there is a slight difference between the comparison curves in the third graph as well as in the mean scores of high and low prices, we cannot be sure of the statistical significance of the difference without conducting hypothesis testing. \n",
        "\n",
        "Therefore, we should conduct a second hypothesis testing to support our observation with numerical values."
      ]
    },
    {
      "cell_type": "code",
      "execution_count": null,
      "metadata": {
        "colab": {
          "base_uri": "https://localhost:8080/"
        },
        "id": "UqlzD9FrPAxO",
        "outputId": "a77c0643-1af3-4562-9dc0-70aff93e3ef4"
      },
      "outputs": [
        {
          "output_type": "stream",
          "name": "stdout",
          "text": [
            "Hypothesis Testing for the statistical difference between the high and low prices with respect to open price:\n",
            "Null hypothesis is rejected.\n"
          ]
        }
      ],
      "source": [
        "print(\"Hypothesis Testing for the statistical difference between the high and low prices with respect to open price:\")\n",
        "\n",
        "from scipy import stats\n",
        "import scipy.stats as sp\n",
        "\n",
        "alpha = 0.1\n",
        "degree = len(HighPrice)-1\n",
        "\n",
        "t_stat = stats.t.ppf(1-alpha, degree)\n",
        "#print(t_stat)\n",
        "value = stats.ttest_ind(HighPrice, LowPrice, equal_var=False).statistic\n",
        "#print(value)\n",
        "if t_stat < value:\n",
        "  print(\"Null hypothesis is rejected.\")\n",
        "else:\n",
        "  print(\"We fail to reject null hypothesis. \")"
      ]
    },
    {
      "cell_type": "markdown",
      "metadata": {
        "id": "0G21kpg0QO3n"
      },
      "source": [
        "The printed code is \"Null hypothesis is rejected.\" The null hypothesis is rejected with a probability of 90% and the difference between the high and low prices with respect to open prices is significant."
      ]
    },
    {
      "cell_type": "markdown",
      "metadata": {
        "id": "bJ5U_Xe1xhFS"
      },
      "source": [
        "Hypotheses for the high price-low price analysis with respect to close price:\n",
        "\n",
        "Null Hypothesis ( 𝐻0 ): The difference between high and low prices of the bitcoins with respect to closing prices of the same day is equal to zero. \n",
        "\n",
        "Alternative Hypothesis ( 𝐻𝐴 ): There is a significant statistical difference between high and low prices with respect to closing prices of the same day. "
      ]
    },
    {
      "cell_type": "code",
      "execution_count": null,
      "metadata": {
        "colab": {
          "base_uri": "https://localhost:8080/",
          "height": 483
        },
        "id": "NRmioYEJv336",
        "outputId": "96d27ae8-d971-4c7a-828c-f9a490fd442c"
      },
      "outputs": [
        {
          "output_type": "stream",
          "name": "stdout",
          "text": [
            "mean score of bitcoin high prices with respect to close prices: 12082.90\n",
            "mean score of bitcoin low prices with respect to close prices: 11425.23\n",
            " \n"
          ]
        },
        {
          "output_type": "display_data",
          "data": {
            "text/plain": [
              "<Figure size 1008x432 with 3 Axes>"
            ],
            "image/png": "[encoded data removed]"
          },
          "metadata": {
            "needs_background": "light"
          }
        }
      ],
      "source": [
        "HighPrice2 = df[df[\"Close\"] > 0][\"High\"]\n",
        "LowPrice2 = df[df[\"Close\"] > 0][\"Low\"] \n",
        "\n",
        "fig, ax = plt.subplots(1, 3, figsize=(14,6))  \n",
        "\n",
        "print(f\"mean score of bitcoin high prices with respect to close prices: {HighPrice2.mean():.2f}\")\n",
        "print(f\"mean score of bitcoin low prices with respect to close prices: {LowPrice2.mean():.2f}\")\n",
        "print(\" \")\n",
        "\n",
        "HighPrice2.plot(kind=\"hist\", ax=ax[0], bins=20, label=\"completed\", color=\"c\", density=True)\n",
        "ax[0].set_title(\"high price\")\n",
        "\n",
        "LowPrice2.plot(kind=\"hist\", ax=ax[1], bins=20, label=\"none\", color=\"m\", density=True)\n",
        "ax[1].set_title(\"low price\")\n",
        "\n",
        "sns.kdeplot(HighPrice, shade=True, label=\"high price\", ax=ax[2], color=\"c\")\n",
        "sns.kdeplot(LowPrice, shade=True, label=\"low price\", ax=ax[2], color=\"m\")\n",
        "ax[2].set_title(\"Comparison with Close Price\")\n",
        "\n",
        "plt.suptitle(\"Comparison of High Prices and Low Prices with respect to Close Prices\")\n",
        "plt.show()"
      ]
    },
    {
      "cell_type": "markdown",
      "metadata": {
        "id": "skCkbQvORHdJ"
      },
      "source": [
        "By looking at the graphs above, we cannot make a certain conclusion about the difference between the high and low prices with respect to the close prices of the same day because even though there is a slight difference between the comparison curves in the third graph as well as in the mean scores of high and low prices, we cannot be sure of the statistical significance of the difference without conducting hypothesis testing. \n",
        "\n",
        "Therefore, we should conduct a second hypothesis testing to support our observation with numerical values."
      ]
    },
    {
      "cell_type": "code",
      "execution_count": null,
      "metadata": {
        "colab": {
          "base_uri": "https://localhost:8080/"
        },
        "id": "zrhV7s7wRKXs",
        "outputId": "17ec80c8-0408-4429-e9e1-22ff2a610e1f"
      },
      "outputs": [
        {
          "output_type": "stream",
          "name": "stdout",
          "text": [
            "Hypothesis Testing for the statistical difference between the high and low prices with respect to close price:\n",
            "Null hypothesis is rejected.\n"
          ]
        }
      ],
      "source": [
        "print(\"Hypothesis Testing for the statistical difference between the high and low prices with respect to close price:\")\n",
        "\n",
        "from scipy import stats\n",
        "import scipy.stats as sp\n",
        "\n",
        "alpha = 0.1\n",
        "degree = len(HighPrice2)-1\n",
        "\n",
        "t_stat = stats.t.ppf(1-alpha, degree)\n",
        "#print(t_stat)\n",
        "value = stats.ttest_ind(HighPrice2, LowPrice2, equal_var=False).statistic\n",
        "#print(value)\n",
        "if t_stat < value:\n",
        "  print(\"Null hypothesis is rejected.\")\n",
        "else:\n",
        "  print(\"We fail to reject null hypothesis. \")"
      ]
    },
    {
      "cell_type": "markdown",
      "metadata": {
        "id": "fSPTi3VmRWaH"
      },
      "source": [
        "The printed code is \"Null hypothesis is rejected.\" The null hypothesis is rejected with a probability of 90% and the difference between the high and low prices with respect to close prices is significant."
      ]
    },
    {
      "cell_type": "markdown",
      "metadata": {
        "id": "GZbUG58FANlf"
      },
      "source": [
        "## Machine Learning Models "
      ]
    },
    {
      "cell_type": "markdown",
      "metadata": {
        "id": "mj39WuNTAQha"
      },
      "source": [
        "We aim to predict the price of Bitcoin by using various machine learning models. We will perform these machine learning algorithms on our main dataset, which is named as \"BTC-USD.CSV.\""
      ]
    },
    {
      "cell_type": "code",
      "execution_count": null,
      "metadata": {
        "id": "EAHiBUwGATe8"
      },
      "outputs": [],
      "source": [
        "import seaborn as sns #For data visualization \n",
        "%matplotlib inline\n",
        "sns.set_style(\"whitegrid\")\n",
        "\n",
        "import warnings \n",
        "warnings.filterwarnings(\"ignore\")"
      ]
    },
    {
      "cell_type": "code",
      "execution_count": null,
      "metadata": {
        "colab": {
          "base_uri": "https://localhost:8080/"
        },
        "id": "8725mvRVAWvm",
        "outputId": "bcf5c009-7c16-47f3-f49c-6eef5938777b"
      },
      "outputs": [
        {
          "output_type": "execute_result",
          "data": {
            "text/plain": [
              "Date         0\n",
              "Open         0\n",
              "High         0\n",
              "Low          0\n",
              "Close        0\n",
              "Adj Close    0\n",
              "Volume       0\n",
              "dtype: int64"
            ]
          },
          "metadata": {},
          "execution_count": 42
        }
      ],
      "source": [
        "pd.isnull(df).sum() #For cleaning null values"
      ]
    },
    {
      "cell_type": "markdown",
      "metadata": {
        "id": "UoJjnexrAfIx"
      },
      "source": [
        "Since we don't have any null values, as seen from above, we don't need to drop any values. "
      ]
    },
    {
      "cell_type": "markdown",
      "metadata": {
        "id": "LeI_kEd1Aktd"
      },
      "source": [
        "## Prediction of Bitcoin Price with Various Machine Learning Models\n",
        "\n",
        "\n",
        "In this part, we will check the correlations between \"volume\" and the four types of price variables (open, close, high, and low) in order to predict the future price of a bitcoin. "
      ]
    },
    {
      "cell_type": "code",
      "execution_count": null,
      "metadata": {
        "colab": {
          "base_uri": "https://localhost:8080/",
          "height": 237
        },
        "id": "rAROFPbqAriw",
        "outputId": "f767efc5-612b-4076-e595-6f236db291da"
      },
      "outputs": [
        {
          "output_type": "execute_result",
          "data": {
            "text/plain": [
              "               Open      High       Low     Close  Adj Close    Volume\n",
              "Open       1.000000  0.999526  0.999121  0.998834   0.998834  0.724416\n",
              "High       0.999526  1.000000  0.999051  0.999497   0.999497  0.728143\n",
              "Low        0.999121  0.999051  1.000000  0.999391   0.999391  0.716700\n",
              "Close      0.998834  0.999497  0.999391  1.000000   1.000000  0.723428\n",
              "Adj Close  0.998834  0.999497  0.999391  1.000000   1.000000  0.723428\n",
              "Volume     0.724416  0.728143  0.716700  0.723428   0.723428  1.000000"
            ],
            "text/html": [
              "\n",
              "  <div id=\"df-523d512e-2222-4b11-aa7f-d1a849843451\">\n",
              "    <div class=\"colab-df-container\">\n",
              "      <div>\n",
              "<style scoped>\n",
              "    .dataframe tbody tr th:only-of-type {\n",
              "        vertical-align: middle;\n",
              "    }\n",
              "\n",
              "    .dataframe tbody tr th {\n",
              "        vertical-align: top;\n",
              "    }\n",
              "\n",
              "    .dataframe thead th {\n",
              "        text-align: right;\n",
              "    }\n",
              "</style>\n",
              "<table border=\"1\" class=\"dataframe\">\n",
              "  <thead>\n",
              "    <tr style=\"text-align: right;\">\n",
              "      <th></th>\n",
              "      <th>Open</th>\n",
              "      <th>High</th>\n",
              "      <th>Low</th>\n",
              "      <th>Close</th>\n",
              "      <th>Adj Close</th>\n",
              "      <th>Volume</th>\n",
              "    </tr>\n",
              "  </thead>\n",
              "  <tbody>\n",
              "    <tr>\n",
              "      <th>Open</th>\n",
              "      <td>1.000000</td>\n",
              "      <td>0.999526</td>\n",
              "      <td>0.999121</td>\n",
              "      <td>0.998834</td>\n",
              "      <td>0.998834</td>\n",
              "      <td>0.724416</td>\n",
              "    </tr>\n",
              "    <tr>\n",
              "      <th>High</th>\n",
              "      <td>0.999526</td>\n",
              "      <td>1.000000</td>\n",
              "      <td>0.999051</td>\n",
              "      <td>0.999497</td>\n",
              "      <td>0.999497</td>\n",
              "      <td>0.728143</td>\n",
              "    </tr>\n",
              "    <tr>\n",
              "      <th>Low</th>\n",
              "      <td>0.999121</td>\n",
              "      <td>0.999051</td>\n",
              "      <td>1.000000</td>\n",
              "      <td>0.999391</td>\n",
              "      <td>0.999391</td>\n",
              "      <td>0.716700</td>\n",
              "    </tr>\n",
              "    <tr>\n",
              "      <th>Close</th>\n",
              "      <td>0.998834</td>\n",
              "      <td>0.999497</td>\n",
              "      <td>0.999391</td>\n",
              "      <td>1.000000</td>\n",
              "      <td>1.000000</td>\n",
              "      <td>0.723428</td>\n",
              "    </tr>\n",
              "    <tr>\n",
              "      <th>Adj Close</th>\n",
              "      <td>0.998834</td>\n",
              "      <td>0.999497</td>\n",
              "      <td>0.999391</td>\n",
              "      <td>1.000000</td>\n",
              "      <td>1.000000</td>\n",
              "      <td>0.723428</td>\n",
              "    </tr>\n",
              "    <tr>\n",
              "      <th>Volume</th>\n",
              "      <td>0.724416</td>\n",
              "      <td>0.728143</td>\n",
              "      <td>0.716700</td>\n",
              "      <td>0.723428</td>\n",
              "      <td>0.723428</td>\n",
              "      <td>1.000000</td>\n",
              "    </tr>\n",
              "  </tbody>\n",
              "</table>\n",
              "</div>\n",
              "      <button class=\"colab-df-convert\" onclick=\"convertToInteractive('df-523d512e-2222-4b11-aa7f-d1a849843451')\"\n",
              "              title=\"Convert this dataframe to an interactive table.\"\n",
              "              style=\"display:none;\">\n",
              "        \n",
              "  <svg xmlns=\"http://www.w3.org/2000/svg\" height=\"24px\"viewBox=\"0 0 24 24\"\n",
              "       width=\"24px\">\n",
              "    <path d=\"M0 0h24v24H0V0z\" fill=\"none\"/>\n",
              "    <path d=\"M18.56 5.44l.94 2.06.94-2.06 2.06-.94-2.06-.94-.94-2.06-.94 2.06-2.06.94zm-11 1L8.5 8.5l.94-2.06 2.06-.94-2.06-.94L8.5 2.5l-.94 2.06-2.06.94zm10 10l.94 2.06.94-2.06 2.06-.94-2.06-.94-.94-2.06-.94 2.06-2.06.94z\"/><path d=\"M17.41 7.96l-1.37-1.37c-.4-.4-.92-.59-1.43-.59-.52 0-1.04.2-1.43.59L10.3 9.45l-7.72 7.72c-.78.78-.78 2.05 0 2.83L4 21.41c.39.39.9.59 1.41.59.51 0 1.02-.2 1.41-.59l7.78-7.78 2.81-2.81c.8-.78.8-2.07 0-2.86zM5.41 20L4 18.59l7.72-7.72 1.47 1.35L5.41 20z\"/>\n",
              "  </svg>\n",
              "      </button>\n",
              "      \n",
              "  <style>\n",
              "    .colab-df-container {\n",
              "      display:flex;\n",
              "      flex-wrap:wrap;\n",
              "      gap: 12px;\n",
              "    }\n",
              "\n",
              "    .colab-df-convert {\n",
              "      background-color: #E8F0FE;\n",
              "      border: none;\n",
              "      border-radius: 50%;\n",
              "      cursor: pointer;\n",
              "      display: none;\n",
              "      fill: #1967D2;\n",
              "      height: 32px;\n",
              "      padding: 0 0 0 0;\n",
              "      width: 32px;\n",
              "    }\n",
              "\n",
              "    .colab-df-convert:hover {\n",
              "      background-color: #E2EBFA;\n",
              "      box-shadow: 0px 1px 2px rgba(60, 64, 67, 0.3), 0px 1px 3px 1px rgba(60, 64, 67, 0.15);\n",
              "      fill: #174EA6;\n",
              "    }\n",
              "\n",
              "    [theme=dark] .colab-df-convert {\n",
              "      background-color: #3B4455;\n",
              "      fill: #D2E3FC;\n",
              "    }\n",
              "\n",
              "    [theme=dark] .colab-df-convert:hover {\n",
              "      background-color: #434B5C;\n",
              "      box-shadow: 0px 1px 3px 1px rgba(0, 0, 0, 0.15);\n",
              "      filter: drop-shadow(0px 1px 2px rgba(0, 0, 0, 0.3));\n",
              "      fill: #FFFFFF;\n",
              "    }\n",
              "  </style>\n",
              "\n",
              "      <script>\n",
              "        const buttonEl =\n",
              "          document.querySelector('#df-523d512e-2222-4b11-aa7f-d1a849843451 button.colab-df-convert');\n",
              "        buttonEl.style.display =\n",
              "          google.colab.kernel.accessAllowed ? 'block' : 'none';\n",
              "\n",
              "        async function convertToInteractive(key) {\n",
              "          const element = document.querySelector('#df-523d512e-2222-4b11-aa7f-d1a849843451');\n",
              "          const dataTable =\n",
              "            await google.colab.kernel.invokeFunction('convertToInteractive',\n",
              "                                                     [key], {});\n",
              "          if (!dataTable) return;\n",
              "\n",
              "          const docLinkHtml = 'Like what you see? Visit the ' +\n",
              "            '<a target=\"_blank\" href=https://colab.research.google.com/notebooks/data_table.ipynb>data table notebook</a>'\n",
              "            + ' to learn more about interactive tables.';\n",
              "          element.innerHTML = '';\n",
              "          dataTable['output_type'] = 'display_data';\n",
              "          await google.colab.output.renderOutput(dataTable, element);\n",
              "          const docLink = document.createElement('div');\n",
              "          docLink.innerHTML = docLinkHtml;\n",
              "          element.appendChild(docLink);\n",
              "        }\n",
              "      </script>\n",
              "    </div>\n",
              "  </div>\n",
              "  "
            ]
          },
          "metadata": {},
          "execution_count": 43
        }
      ],
      "source": [
        "df.corr()"
      ]
    },
    {
      "cell_type": "markdown",
      "metadata": {
        "id": "PK7O18YYAt-B"
      },
      "source": [
        "With the below code, we convert the rating values into binary values."
      ]
    },
    {
      "cell_type": "code",
      "execution_count": null,
      "metadata": {
        "colab": {
          "base_uri": "https://localhost:8080/"
        },
        "id": "z8rjC9BCAwhc",
        "outputId": "3e67a864-7f37-40f8-c726-994db45ba282"
      },
      "outputs": [
        {
          "output_type": "execute_result",
          "data": {
            "text/plain": [
              "count     2755.000000\n",
              "mean     12082.896368\n",
              "std      16841.443821\n",
              "min        211.731003\n",
              "25%        612.311005\n",
              "50%       6504.649902\n",
              "75%      11047.681152\n",
              "max      68789.625000\n",
              "Name: High, dtype: float64"
            ]
          },
          "metadata": {},
          "execution_count": 44
        }
      ],
      "source": [
        "df.High.describe()"
      ]
    },
    {
      "cell_type": "markdown",
      "metadata": {
        "id": "vWoYJLATAykv"
      },
      "source": [
        "After observing these results, we decided to define ratings above 11047.681152 (corresponds to 75th percentile) as high price whereas ratings below 11047.681152 (corresponds to 25th percentile) will be considered as low price. Using this model, we will encode high price as \"1\" and low price as \"0\"."
      ]
    },
    {
      "cell_type": "code",
      "execution_count": null,
      "metadata": {
        "colab": {
          "base_uri": "https://localhost:8080/",
          "height": 424
        },
        "id": "8DVCTkCAA1Mf",
        "outputId": "442fc765-c3aa-463b-e454-cd6b5cc961e5"
      },
      "outputs": [
        {
          "output_type": "execute_result",
          "data": {
            "text/plain": [
              "            Date          Open  High           Low         Close  \\\n",
              "1169  2017-11-29  10077.400391   1.0   9601.030273   9888.610352   \n",
              "1172  2017-12-02  10978.299805   1.0  10905.099609  11074.599609   \n",
              "1173  2017-12-03  11082.700195   1.0  10862.000000  11323.200195   \n",
              "1174  2017-12-04  11315.400391   1.0  11081.799805  11657.200195   \n",
              "1175  2017-12-05  11685.700195   1.0  11604.599609  11916.700195   \n",
              "...          ...           ...   ...           ...           ...   \n",
              "2750  2022-03-29  47100.437500   1.0  47100.437500  47465.730469   \n",
              "2751  2022-03-30  47456.898438   1.0  46746.210938  47062.664063   \n",
              "2752  2022-03-31  47062.148438   1.0  45390.539063  45538.675781   \n",
              "2753  2022-04-01  45554.164063   1.0  44403.140625  46281.644531   \n",
              "2754  2022-04-02  46168.101563   1.0  46157.980469  46508.101563   \n",
              "\n",
              "         Adj Close       Volume  \n",
              "1169   9888.610352  11568799744  \n",
              "1172  11074.599609   5138500096  \n",
              "1173  11323.200195   6608309760  \n",
              "1174  11657.200195   6132409856  \n",
              "1175  11916.700195   6895260160  \n",
              "...            ...          ...  \n",
              "2750  47465.730469  31397059069  \n",
              "2751  47062.664063  29333883962  \n",
              "2752  45538.675781  33327427106  \n",
              "2753  46281.644531  38162644287  \n",
              "2754  46508.101563  35441143808  \n",
              "\n",
              "[689 rows x 7 columns]"
            ],
            "text/html": [
              "\n",
              "  <div id=\"df-79b573ec-9801-4c63-9a2b-6d8dad38d50f\">\n",
              "    <div class=\"colab-df-container\">\n",
              "      <div>\n",
              "<style scoped>\n",
              "    .dataframe tbody tr th:only-of-type {\n",
              "        vertical-align: middle;\n",
              "    }\n",
              "\n",
              "    .dataframe tbody tr th {\n",
              "        vertical-align: top;\n",
              "    }\n",
              "\n",
              "    .dataframe thead th {\n",
              "        text-align: right;\n",
              "    }\n",
              "</style>\n",
              "<table border=\"1\" class=\"dataframe\">\n",
              "  <thead>\n",
              "    <tr style=\"text-align: right;\">\n",
              "      <th></th>\n",
              "      <th>Date</th>\n",
              "      <th>Open</th>\n",
              "      <th>High</th>\n",
              "      <th>Low</th>\n",
              "      <th>Close</th>\n",
              "      <th>Adj Close</th>\n",
              "      <th>Volume</th>\n",
              "    </tr>\n",
              "  </thead>\n",
              "  <tbody>\n",
              "    <tr>\n",
              "      <th>1169</th>\n",
              "      <td>2017-11-29</td>\n",
              "      <td>10077.400391</td>\n",
              "      <td>1.0</td>\n",
              "      <td>9601.030273</td>\n",
              "      <td>9888.610352</td>\n",
              "      <td>9888.610352</td>\n",
              "      <td>11568799744</td>\n",
              "    </tr>\n",
              "    <tr>\n",
              "      <th>1172</th>\n",
              "      <td>2017-12-02</td>\n",
              "      <td>10978.299805</td>\n",
              "      <td>1.0</td>\n",
              "      <td>10905.099609</td>\n",
              "      <td>11074.599609</td>\n",
              "      <td>11074.599609</td>\n",
              "      <td>5138500096</td>\n",
              "    </tr>\n",
              "    <tr>\n",
              "      <th>1173</th>\n",
              "      <td>2017-12-03</td>\n",
              "      <td>11082.700195</td>\n",
              "      <td>1.0</td>\n",
              "      <td>10862.000000</td>\n",
              "      <td>11323.200195</td>\n",
              "      <td>11323.200195</td>\n",
              "      <td>6608309760</td>\n",
              "    </tr>\n",
              "    <tr>\n",
              "      <th>1174</th>\n",
              "      <td>2017-12-04</td>\n",
              "      <td>11315.400391</td>\n",
              "      <td>1.0</td>\n",
              "      <td>11081.799805</td>\n",
              "      <td>11657.200195</td>\n",
              "      <td>11657.200195</td>\n",
              "      <td>6132409856</td>\n",
              "    </tr>\n",
              "    <tr>\n",
              "      <th>1175</th>\n",
              "      <td>2017-12-05</td>\n",
              "      <td>11685.700195</td>\n",
              "      <td>1.0</td>\n",
              "      <td>11604.599609</td>\n",
              "      <td>11916.700195</td>\n",
              "      <td>11916.700195</td>\n",
              "      <td>6895260160</td>\n",
              "    </tr>\n",
              "    <tr>\n",
              "      <th>...</th>\n",
              "      <td>...</td>\n",
              "      <td>...</td>\n",
              "      <td>...</td>\n",
              "      <td>...</td>\n",
              "      <td>...</td>\n",
              "      <td>...</td>\n",
              "      <td>...</td>\n",
              "    </tr>\n",
              "    <tr>\n",
              "      <th>2750</th>\n",
              "      <td>2022-03-29</td>\n",
              "      <td>47100.437500</td>\n",
              "      <td>1.0</td>\n",
              "      <td>47100.437500</td>\n",
              "      <td>47465.730469</td>\n",
              "      <td>47465.730469</td>\n",
              "      <td>31397059069</td>\n",
              "    </tr>\n",
              "    <tr>\n",
              "      <th>2751</th>\n",
              "      <td>2022-03-30</td>\n",
              "      <td>47456.898438</td>\n",
              "      <td>1.0</td>\n",
              "      <td>46746.210938</td>\n",
              "      <td>47062.664063</td>\n",
              "      <td>47062.664063</td>\n",
              "      <td>29333883962</td>\n",
              "    </tr>\n",
              "    <tr>\n",
              "      <th>2752</th>\n",
              "      <td>2022-03-31</td>\n",
              "      <td>47062.148438</td>\n",
              "      <td>1.0</td>\n",
              "      <td>45390.539063</td>\n",
              "      <td>45538.675781</td>\n",
              "      <td>45538.675781</td>\n",
              "      <td>33327427106</td>\n",
              "    </tr>\n",
              "    <tr>\n",
              "      <th>2753</th>\n",
              "      <td>2022-04-01</td>\n",
              "      <td>45554.164063</td>\n",
              "      <td>1.0</td>\n",
              "      <td>44403.140625</td>\n",
              "      <td>46281.644531</td>\n",
              "      <td>46281.644531</td>\n",
              "      <td>38162644287</td>\n",
              "    </tr>\n",
              "    <tr>\n",
              "      <th>2754</th>\n",
              "      <td>2022-04-02</td>\n",
              "      <td>46168.101563</td>\n",
              "      <td>1.0</td>\n",
              "      <td>46157.980469</td>\n",
              "      <td>46508.101563</td>\n",
              "      <td>46508.101563</td>\n",
              "      <td>35441143808</td>\n",
              "    </tr>\n",
              "  </tbody>\n",
              "</table>\n",
              "<p>689 rows × 7 columns</p>\n",
              "</div>\n",
              "      <button class=\"colab-df-convert\" onclick=\"convertToInteractive('df-79b573ec-9801-4c63-9a2b-6d8dad38d50f')\"\n",
              "              title=\"Convert this dataframe to an interactive table.\"\n",
              "              style=\"display:none;\">\n",
              "        \n",
              "  <svg xmlns=\"http://www.w3.org/2000/svg\" height=\"24px\"viewBox=\"0 0 24 24\"\n",
              "       width=\"24px\">\n",
              "    <path d=\"M0 0h24v24H0V0z\" fill=\"none\"/>\n",
              "    <path d=\"M18.56 5.44l.94 2.06.94-2.06 2.06-.94-2.06-.94-.94-2.06-.94 2.06-2.06.94zm-11 1L8.5 8.5l.94-2.06 2.06-.94-2.06-.94L8.5 2.5l-.94 2.06-2.06.94zm10 10l.94 2.06.94-2.06 2.06-.94-2.06-.94-.94-2.06-.94 2.06-2.06.94z\"/><path d=\"M17.41 7.96l-1.37-1.37c-.4-.4-.92-.59-1.43-.59-.52 0-1.04.2-1.43.59L10.3 9.45l-7.72 7.72c-.78.78-.78 2.05 0 2.83L4 21.41c.39.39.9.59 1.41.59.51 0 1.02-.2 1.41-.59l7.78-7.78 2.81-2.81c.8-.78.8-2.07 0-2.86zM5.41 20L4 18.59l7.72-7.72 1.47 1.35L5.41 20z\"/>\n",
              "  </svg>\n",
              "      </button>\n",
              "      \n",
              "  <style>\n",
              "    .colab-df-container {\n",
              "      display:flex;\n",
              "      flex-wrap:wrap;\n",
              "      gap: 12px;\n",
              "    }\n",
              "\n",
              "    .colab-df-convert {\n",
              "      background-color: #E8F0FE;\n",
              "      border: none;\n",
              "      border-radius: 50%;\n",
              "      cursor: pointer;\n",
              "      display: none;\n",
              "      fill: #1967D2;\n",
              "      height: 32px;\n",
              "      padding: 0 0 0 0;\n",
              "      width: 32px;\n",
              "    }\n",
              "\n",
              "    .colab-df-convert:hover {\n",
              "      background-color: #E2EBFA;\n",
              "      box-shadow: 0px 1px 2px rgba(60, 64, 67, 0.3), 0px 1px 3px 1px rgba(60, 64, 67, 0.15);\n",
              "      fill: #174EA6;\n",
              "    }\n",
              "\n",
              "    [theme=dark] .colab-df-convert {\n",
              "      background-color: #3B4455;\n",
              "      fill: #D2E3FC;\n",
              "    }\n",
              "\n",
              "    [theme=dark] .colab-df-convert:hover {\n",
              "      background-color: #434B5C;\n",
              "      box-shadow: 0px 1px 3px 1px rgba(0, 0, 0, 0.15);\n",
              "      filter: drop-shadow(0px 1px 2px rgba(0, 0, 0, 0.3));\n",
              "      fill: #FFFFFF;\n",
              "    }\n",
              "  </style>\n",
              "\n",
              "      <script>\n",
              "        const buttonEl =\n",
              "          document.querySelector('#df-79b573ec-9801-4c63-9a2b-6d8dad38d50f button.colab-df-convert');\n",
              "        buttonEl.style.display =\n",
              "          google.colab.kernel.accessAllowed ? 'block' : 'none';\n",
              "\n",
              "        async function convertToInteractive(key) {\n",
              "          const element = document.querySelector('#df-79b573ec-9801-4c63-9a2b-6d8dad38d50f');\n",
              "          const dataTable =\n",
              "            await google.colab.kernel.invokeFunction('convertToInteractive',\n",
              "                                                     [key], {});\n",
              "          if (!dataTable) return;\n",
              "\n",
              "          const docLinkHtml = 'Like what you see? Visit the ' +\n",
              "            '<a target=\"_blank\" href=https://colab.research.google.com/notebooks/data_table.ipynb>data table notebook</a>'\n",
              "            + ' to learn more about interactive tables.';\n",
              "          element.innerHTML = '';\n",
              "          dataTable['output_type'] = 'display_data';\n",
              "          await google.colab.output.renderOutput(dataTable, element);\n",
              "          const docLink = document.createElement('div');\n",
              "          docLink.innerHTML = docLinkHtml;\n",
              "          element.appendChild(docLink);\n",
              "        }\n",
              "      </script>\n",
              "    </div>\n",
              "  </div>\n",
              "  "
            ]
          },
          "metadata": {},
          "execution_count": 45
        }
      ],
      "source": [
        "df.loc[df['High'] < 11047.681152, 'High'] = 0 \n",
        "df.loc[df['High'] >= 11047.681152, 'High'] = 1\n",
        "df.loc[df['High'] == 1 ]"
      ]
    },
    {
      "cell_type": "code",
      "execution_count": null,
      "metadata": {
        "colab": {
          "base_uri": "https://localhost:8080/"
        },
        "id": "sZUiIYZxXONR",
        "outputId": "2ff1680e-bd63-45d9-a38f-071c47fc0388"
      },
      "outputs": [
        {
          "output_type": "execute_result",
          "data": {
            "text/plain": [
              "count     2755.000000\n",
              "mean     11425.227294\n",
              "std      15910.212812\n",
              "min        171.509995\n",
              "25%        606.981994\n",
              "50%       6297.930176\n",
              "75%      10485.476074\n",
              "max      66382.062500\n",
              "Name: Low, dtype: float64"
            ]
          },
          "metadata": {},
          "execution_count": 46
        }
      ],
      "source": [
        "df.Low.describe()"
      ]
    },
    {
      "cell_type": "code",
      "execution_count": null,
      "metadata": {
        "colab": {
          "base_uri": "https://localhost:8080/",
          "height": 424
        },
        "id": "i_C_iX2rXRFA",
        "outputId": "f73d86ca-13d5-48f3-c67b-d0dce388e5c0"
      },
      "outputs": [
        {
          "output_type": "execute_result",
          "data": {
            "text/plain": [
              "            Date          Open  High  Low         Close     Adj Close  \\\n",
              "1172  2017-12-02  10978.299805   1.0  1.0  11074.599609  11074.599609   \n",
              "1173  2017-12-03  11082.700195   1.0  1.0  11323.200195  11323.200195   \n",
              "1174  2017-12-04  11315.400391   1.0  1.0  11657.200195  11657.200195   \n",
              "1175  2017-12-05  11685.700195   1.0  1.0  11916.700195  11916.700195   \n",
              "1176  2017-12-06  11923.400391   1.0  1.0  14291.500000  14291.500000   \n",
              "...          ...           ...   ...  ...           ...           ...   \n",
              "2750  2022-03-29  47100.437500   1.0  1.0  47465.730469  47465.730469   \n",
              "2751  2022-03-30  47456.898438   1.0  1.0  47062.664063  47062.664063   \n",
              "2752  2022-03-31  47062.148438   1.0  1.0  45538.675781  45538.675781   \n",
              "2753  2022-04-01  45554.164063   1.0  1.0  46281.644531  46281.644531   \n",
              "2754  2022-04-02  46168.101563   1.0  1.0  46508.101563  46508.101563   \n",
              "\n",
              "           Volume  \n",
              "1172   5138500096  \n",
              "1173   6608309760  \n",
              "1174   6132409856  \n",
              "1175   6895260160  \n",
              "1176  12656300032  \n",
              "...           ...  \n",
              "2750  31397059069  \n",
              "2751  29333883962  \n",
              "2752  33327427106  \n",
              "2753  38162644287  \n",
              "2754  35441143808  \n",
              "\n",
              "[689 rows x 7 columns]"
            ],
            "text/html": [
              "\n",
              "  <div id=\"df-c20120fd-8a44-49ba-98a1-6f5cda7508bf\">\n",
              "    <div class=\"colab-df-container\">\n",
              "      <div>\n",
              "<style scoped>\n",
              "    .dataframe tbody tr th:only-of-type {\n",
              "        vertical-align: middle;\n",
              "    }\n",
              "\n",
              "    .dataframe tbody tr th {\n",
              "        vertical-align: top;\n",
              "    }\n",
              "\n",
              "    .dataframe thead th {\n",
              "        text-align: right;\n",
              "    }\n",
              "</style>\n",
              "<table border=\"1\" class=\"dataframe\">\n",
              "  <thead>\n",
              "    <tr style=\"text-align: right;\">\n",
              "      <th></th>\n",
              "      <th>Date</th>\n",
              "      <th>Open</th>\n",
              "      <th>High</th>\n",
              "      <th>Low</th>\n",
              "      <th>Close</th>\n",
              "      <th>Adj Close</th>\n",
              "      <th>Volume</th>\n",
              "    </tr>\n",
              "  </thead>\n",
              "  <tbody>\n",
              "    <tr>\n",
              "      <th>1172</th>\n",
              "      <td>2017-12-02</td>\n",
              "      <td>10978.299805</td>\n",
              "      <td>1.0</td>\n",
              "      <td>1.0</td>\n",
              "      <td>11074.599609</td>\n",
              "      <td>11074.599609</td>\n",
              "      <td>5138500096</td>\n",
              "    </tr>\n",
              "    <tr>\n",
              "      <th>1173</th>\n",
              "      <td>2017-12-03</td>\n",
              "      <td>11082.700195</td>\n",
              "      <td>1.0</td>\n",
              "      <td>1.0</td>\n",
              "      <td>11323.200195</td>\n",
              "      <td>11323.200195</td>\n",
              "      <td>6608309760</td>\n",
              "    </tr>\n",
              "    <tr>\n",
              "      <th>1174</th>\n",
              "      <td>2017-12-04</td>\n",
              "      <td>11315.400391</td>\n",
              "      <td>1.0</td>\n",
              "      <td>1.0</td>\n",
              "      <td>11657.200195</td>\n",
              "      <td>11657.200195</td>\n",
              "      <td>6132409856</td>\n",
              "    </tr>\n",
              "    <tr>\n",
              "      <th>1175</th>\n",
              "      <td>2017-12-05</td>\n",
              "      <td>11685.700195</td>\n",
              "      <td>1.0</td>\n",
              "      <td>1.0</td>\n",
              "      <td>11916.700195</td>\n",
              "      <td>11916.700195</td>\n",
              "      <td>6895260160</td>\n",
              "    </tr>\n",
              "    <tr>\n",
              "      <th>1176</th>\n",
              "      <td>2017-12-06</td>\n",
              "      <td>11923.400391</td>\n",
              "      <td>1.0</td>\n",
              "      <td>1.0</td>\n",
              "      <td>14291.500000</td>\n",
              "      <td>14291.500000</td>\n",
              "      <td>12656300032</td>\n",
              "    </tr>\n",
              "    <tr>\n",
              "      <th>...</th>\n",
              "      <td>...</td>\n",
              "      <td>...</td>\n",
              "      <td>...</td>\n",
              "      <td>...</td>\n",
              "      <td>...</td>\n",
              "      <td>...</td>\n",
              "      <td>...</td>\n",
              "    </tr>\n",
              "    <tr>\n",
              "      <th>2750</th>\n",
              "      <td>2022-03-29</td>\n",
              "      <td>47100.437500</td>\n",
              "      <td>1.0</td>\n",
              "      <td>1.0</td>\n",
              "      <td>47465.730469</td>\n",
              "      <td>47465.730469</td>\n",
              "      <td>31397059069</td>\n",
              "    </tr>\n",
              "    <tr>\n",
              "      <th>2751</th>\n",
              "      <td>2022-03-30</td>\n",
              "      <td>47456.898438</td>\n",
              "      <td>1.0</td>\n",
              "      <td>1.0</td>\n",
              "      <td>47062.664063</td>\n",
              "      <td>47062.664063</td>\n",
              "      <td>29333883962</td>\n",
              "    </tr>\n",
              "    <tr>\n",
              "      <th>2752</th>\n",
              "      <td>2022-03-31</td>\n",
              "      <td>47062.148438</td>\n",
              "      <td>1.0</td>\n",
              "      <td>1.0</td>\n",
              "      <td>45538.675781</td>\n",
              "      <td>45538.675781</td>\n",
              "      <td>33327427106</td>\n",
              "    </tr>\n",
              "    <tr>\n",
              "      <th>2753</th>\n",
              "      <td>2022-04-01</td>\n",
              "      <td>45554.164063</td>\n",
              "      <td>1.0</td>\n",
              "      <td>1.0</td>\n",
              "      <td>46281.644531</td>\n",
              "      <td>46281.644531</td>\n",
              "      <td>38162644287</td>\n",
              "    </tr>\n",
              "    <tr>\n",
              "      <th>2754</th>\n",
              "      <td>2022-04-02</td>\n",
              "      <td>46168.101563</td>\n",
              "      <td>1.0</td>\n",
              "      <td>1.0</td>\n",
              "      <td>46508.101563</td>\n",
              "      <td>46508.101563</td>\n",
              "      <td>35441143808</td>\n",
              "    </tr>\n",
              "  </tbody>\n",
              "</table>\n",
              "<p>689 rows × 7 columns</p>\n",
              "</div>\n",
              "      <button class=\"colab-df-convert\" onclick=\"convertToInteractive('df-c20120fd-8a44-49ba-98a1-6f5cda7508bf')\"\n",
              "              title=\"Convert this dataframe to an interactive table.\"\n",
              "              style=\"display:none;\">\n",
              "        \n",
              "  <svg xmlns=\"http://www.w3.org/2000/svg\" height=\"24px\"viewBox=\"0 0 24 24\"\n",
              "       width=\"24px\">\n",
              "    <path d=\"M0 0h24v24H0V0z\" fill=\"none\"/>\n",
              "    <path d=\"M18.56 5.44l.94 2.06.94-2.06 2.06-.94-2.06-.94-.94-2.06-.94 2.06-2.06.94zm-11 1L8.5 8.5l.94-2.06 2.06-.94-2.06-.94L8.5 2.5l-.94 2.06-2.06.94zm10 10l.94 2.06.94-2.06 2.06-.94-2.06-.94-.94-2.06-.94 2.06-2.06.94z\"/><path d=\"M17.41 7.96l-1.37-1.37c-.4-.4-.92-.59-1.43-.59-.52 0-1.04.2-1.43.59L10.3 9.45l-7.72 7.72c-.78.78-.78 2.05 0 2.83L4 21.41c.39.39.9.59 1.41.59.51 0 1.02-.2 1.41-.59l7.78-7.78 2.81-2.81c.8-.78.8-2.07 0-2.86zM5.41 20L4 18.59l7.72-7.72 1.47 1.35L5.41 20z\"/>\n",
              "  </svg>\n",
              "      </button>\n",
              "      \n",
              "  <style>\n",
              "    .colab-df-container {\n",
              "      display:flex;\n",
              "      flex-wrap:wrap;\n",
              "      gap: 12px;\n",
              "    }\n",
              "\n",
              "    .colab-df-convert {\n",
              "      background-color: #E8F0FE;\n",
              "      border: none;\n",
              "      border-radius: 50%;\n",
              "      cursor: pointer;\n",
              "      display: none;\n",
              "      fill: #1967D2;\n",
              "      height: 32px;\n",
              "      padding: 0 0 0 0;\n",
              "      width: 32px;\n",
              "    }\n",
              "\n",
              "    .colab-df-convert:hover {\n",
              "      background-color: #E2EBFA;\n",
              "      box-shadow: 0px 1px 2px rgba(60, 64, 67, 0.3), 0px 1px 3px 1px rgba(60, 64, 67, 0.15);\n",
              "      fill: #174EA6;\n",
              "    }\n",
              "\n",
              "    [theme=dark] .colab-df-convert {\n",
              "      background-color: #3B4455;\n",
              "      fill: #D2E3FC;\n",
              "    }\n",
              "\n",
              "    [theme=dark] .colab-df-convert:hover {\n",
              "      background-color: #434B5C;\n",
              "      box-shadow: 0px 1px 3px 1px rgba(0, 0, 0, 0.15);\n",
              "      filter: drop-shadow(0px 1px 2px rgba(0, 0, 0, 0.3));\n",
              "      fill: #FFFFFF;\n",
              "    }\n",
              "  </style>\n",
              "\n",
              "      <script>\n",
              "        const buttonEl =\n",
              "          document.querySelector('#df-c20120fd-8a44-49ba-98a1-6f5cda7508bf button.colab-df-convert');\n",
              "        buttonEl.style.display =\n",
              "          google.colab.kernel.accessAllowed ? 'block' : 'none';\n",
              "\n",
              "        async function convertToInteractive(key) {\n",
              "          const element = document.querySelector('#df-c20120fd-8a44-49ba-98a1-6f5cda7508bf');\n",
              "          const dataTable =\n",
              "            await google.colab.kernel.invokeFunction('convertToInteractive',\n",
              "                                                     [key], {});\n",
              "          if (!dataTable) return;\n",
              "\n",
              "          const docLinkHtml = 'Like what you see? Visit the ' +\n",
              "            '<a target=\"_blank\" href=https://colab.research.google.com/notebooks/data_table.ipynb>data table notebook</a>'\n",
              "            + ' to learn more about interactive tables.';\n",
              "          element.innerHTML = '';\n",
              "          dataTable['output_type'] = 'display_data';\n",
              "          await google.colab.output.renderOutput(dataTable, element);\n",
              "          const docLink = document.createElement('div');\n",
              "          docLink.innerHTML = docLinkHtml;\n",
              "          element.appendChild(docLink);\n",
              "        }\n",
              "      </script>\n",
              "    </div>\n",
              "  </div>\n",
              "  "
            ]
          },
          "metadata": {},
          "execution_count": 47
        }
      ],
      "source": [
        "df.loc[df['Low'] < 10485.476074, 'Low'] = 0 \n",
        "df.loc[df['Low'] >= 10485.476074, 'Low'] = 1\n",
        "df.loc[df['Low'] == 1 ]"
      ]
    },
    {
      "cell_type": "code",
      "execution_count": null,
      "metadata": {
        "colab": {
          "base_uri": "https://localhost:8080/"
        },
        "id": "lM2KRyc_XZ1c",
        "outputId": "e4a8f20b-503a-4523-b5c2-90c6b3175391"
      },
      "outputs": [
        {
          "output_type": "execute_result",
          "data": {
            "text/plain": [
              "count     2755.000000\n",
              "mean     11768.664114\n",
              "std      16405.233671\n",
              "min        176.897003\n",
              "25%        609.777497\n",
              "50%       6380.379883\n",
              "75%      10795.780762\n",
              "max      67549.734375\n",
              "Name: Open, dtype: float64"
            ]
          },
          "metadata": {},
          "execution_count": 48
        }
      ],
      "source": [
        "df.Open.describe()"
      ]
    },
    {
      "cell_type": "code",
      "execution_count": null,
      "metadata": {
        "colab": {
          "base_uri": "https://localhost:8080/",
          "height": 424
        },
        "id": "JiVs773tXdGs",
        "outputId": "2c1bd2c8-4683-4191-a49b-fe49829dae0c"
      },
      "outputs": [
        {
          "output_type": "execute_result",
          "data": {
            "text/plain": [
              "            Date  Open  High  Low         Close     Adj Close       Volume\n",
              "1172  2017-12-02   1.0   1.0  1.0  11074.599609  11074.599609   5138500096\n",
              "1173  2017-12-03   1.0   1.0  1.0  11323.200195  11323.200195   6608309760\n",
              "1174  2017-12-04   1.0   1.0  1.0  11657.200195  11657.200195   6132409856\n",
              "1175  2017-12-05   1.0   1.0  1.0  11916.700195  11916.700195   6895260160\n",
              "1176  2017-12-06   1.0   1.0  1.0  14291.500000  14291.500000  12656300032\n",
              "...          ...   ...   ...  ...           ...           ...          ...\n",
              "2750  2022-03-29   1.0   1.0  1.0  47465.730469  47465.730469  31397059069\n",
              "2751  2022-03-30   1.0   1.0  1.0  47062.664063  47062.664063  29333883962\n",
              "2752  2022-03-31   1.0   1.0  1.0  45538.675781  45538.675781  33327427106\n",
              "2753  2022-04-01   1.0   1.0  1.0  46281.644531  46281.644531  38162644287\n",
              "2754  2022-04-02   1.0   1.0  1.0  46508.101563  46508.101563  35441143808\n",
              "\n",
              "[689 rows x 7 columns]"
            ],
            "text/html": [
              "\n",
              "  <div id=\"df-4e3bf150-c522-4621-958c-d0a3cf048045\">\n",
              "    <div class=\"colab-df-container\">\n",
              "      <div>\n",
              "<style scoped>\n",
              "    .dataframe tbody tr th:only-of-type {\n",
              "        vertical-align: middle;\n",
              "    }\n",
              "\n",
              "    .dataframe tbody tr th {\n",
              "        vertical-align: top;\n",
              "    }\n",
              "\n",
              "    .dataframe thead th {\n",
              "        text-align: right;\n",
              "    }\n",
              "</style>\n",
              "<table border=\"1\" class=\"dataframe\">\n",
              "  <thead>\n",
              "    <tr style=\"text-align: right;\">\n",
              "      <th></th>\n",
              "      <th>Date</th>\n",
              "      <th>Open</th>\n",
              "      <th>High</th>\n",
              "      <th>Low</th>\n",
              "      <th>Close</th>\n",
              "      <th>Adj Close</th>\n",
              "      <th>Volume</th>\n",
              "    </tr>\n",
              "  </thead>\n",
              "  <tbody>\n",
              "    <tr>\n",
              "      <th>1172</th>\n",
              "      <td>2017-12-02</td>\n",
              "      <td>1.0</td>\n",
              "      <td>1.0</td>\n",
              "      <td>1.0</td>\n",
              "      <td>11074.599609</td>\n",
              "      <td>11074.599609</td>\n",
              "      <td>5138500096</td>\n",
              "    </tr>\n",
              "    <tr>\n",
              "      <th>1173</th>\n",
              "      <td>2017-12-03</td>\n",
              "      <td>1.0</td>\n",
              "      <td>1.0</td>\n",
              "      <td>1.0</td>\n",
              "      <td>11323.200195</td>\n",
              "      <td>11323.200195</td>\n",
              "      <td>6608309760</td>\n",
              "    </tr>\n",
              "    <tr>\n",
              "      <th>1174</th>\n",
              "      <td>2017-12-04</td>\n",
              "      <td>1.0</td>\n",
              "      <td>1.0</td>\n",
              "      <td>1.0</td>\n",
              "      <td>11657.200195</td>\n",
              "      <td>11657.200195</td>\n",
              "      <td>6132409856</td>\n",
              "    </tr>\n",
              "    <tr>\n",
              "      <th>1175</th>\n",
              "      <td>2017-12-05</td>\n",
              "      <td>1.0</td>\n",
              "      <td>1.0</td>\n",
              "      <td>1.0</td>\n",
              "      <td>11916.700195</td>\n",
              "      <td>11916.700195</td>\n",
              "      <td>6895260160</td>\n",
              "    </tr>\n",
              "    <tr>\n",
              "      <th>1176</th>\n",
              "      <td>2017-12-06</td>\n",
              "      <td>1.0</td>\n",
              "      <td>1.0</td>\n",
              "      <td>1.0</td>\n",
              "      <td>14291.500000</td>\n",
              "      <td>14291.500000</td>\n",
              "      <td>12656300032</td>\n",
              "    </tr>\n",
              "    <tr>\n",
              "      <th>...</th>\n",
              "      <td>...</td>\n",
              "      <td>...</td>\n",
              "      <td>...</td>\n",
              "      <td>...</td>\n",
              "      <td>...</td>\n",
              "      <td>...</td>\n",
              "      <td>...</td>\n",
              "    </tr>\n",
              "    <tr>\n",
              "      <th>2750</th>\n",
              "      <td>2022-03-29</td>\n",
              "      <td>1.0</td>\n",
              "      <td>1.0</td>\n",
              "      <td>1.0</td>\n",
              "      <td>47465.730469</td>\n",
              "      <td>47465.730469</td>\n",
              "      <td>31397059069</td>\n",
              "    </tr>\n",
              "    <tr>\n",
              "      <th>2751</th>\n",
              "      <td>2022-03-30</td>\n",
              "      <td>1.0</td>\n",
              "      <td>1.0</td>\n",
              "      <td>1.0</td>\n",
              "      <td>47062.664063</td>\n",
              "      <td>47062.664063</td>\n",
              "      <td>29333883962</td>\n",
              "    </tr>\n",
              "    <tr>\n",
              "      <th>2752</th>\n",
              "      <td>2022-03-31</td>\n",
              "      <td>1.0</td>\n",
              "      <td>1.0</td>\n",
              "      <td>1.0</td>\n",
              "      <td>45538.675781</td>\n",
              "      <td>45538.675781</td>\n",
              "      <td>33327427106</td>\n",
              "    </tr>\n",
              "    <tr>\n",
              "      <th>2753</th>\n",
              "      <td>2022-04-01</td>\n",
              "      <td>1.0</td>\n",
              "      <td>1.0</td>\n",
              "      <td>1.0</td>\n",
              "      <td>46281.644531</td>\n",
              "      <td>46281.644531</td>\n",
              "      <td>38162644287</td>\n",
              "    </tr>\n",
              "    <tr>\n",
              "      <th>2754</th>\n",
              "      <td>2022-04-02</td>\n",
              "      <td>1.0</td>\n",
              "      <td>1.0</td>\n",
              "      <td>1.0</td>\n",
              "      <td>46508.101563</td>\n",
              "      <td>46508.101563</td>\n",
              "      <td>35441143808</td>\n",
              "    </tr>\n",
              "  </tbody>\n",
              "</table>\n",
              "<p>689 rows × 7 columns</p>\n",
              "</div>\n",
              "      <button class=\"colab-df-convert\" onclick=\"convertToInteractive('df-4e3bf150-c522-4621-958c-d0a3cf048045')\"\n",
              "              title=\"Convert this dataframe to an interactive table.\"\n",
              "              style=\"display:none;\">\n",
              "        \n",
              "  <svg xmlns=\"http://www.w3.org/2000/svg\" height=\"24px\"viewBox=\"0 0 24 24\"\n",
              "       width=\"24px\">\n",
              "    <path d=\"M0 0h24v24H0V0z\" fill=\"none\"/>\n",
              "    <path d=\"M18.56 5.44l.94 2.06.94-2.06 2.06-.94-2.06-.94-.94-2.06-.94 2.06-2.06.94zm-11 1L8.5 8.5l.94-2.06 2.06-.94-2.06-.94L8.5 2.5l-.94 2.06-2.06.94zm10 10l.94 2.06.94-2.06 2.06-.94-2.06-.94-.94-2.06-.94 2.06-2.06.94z\"/><path d=\"M17.41 7.96l-1.37-1.37c-.4-.4-.92-.59-1.43-.59-.52 0-1.04.2-1.43.59L10.3 9.45l-7.72 7.72c-.78.78-.78 2.05 0 2.83L4 21.41c.39.39.9.59 1.41.59.51 0 1.02-.2 1.41-.59l7.78-7.78 2.81-2.81c.8-.78.8-2.07 0-2.86zM5.41 20L4 18.59l7.72-7.72 1.47 1.35L5.41 20z\"/>\n",
              "  </svg>\n",
              "      </button>\n",
              "      \n",
              "  <style>\n",
              "    .colab-df-container {\n",
              "      display:flex;\n",
              "      flex-wrap:wrap;\n",
              "      gap: 12px;\n",
              "    }\n",
              "\n",
              "    .colab-df-convert {\n",
              "      background-color: #E8F0FE;\n",
              "      border: none;\n",
              "      border-radius: 50%;\n",
              "      cursor: pointer;\n",
              "      display: none;\n",
              "      fill: #1967D2;\n",
              "      height: 32px;\n",
              "      padding: 0 0 0 0;\n",
              "      width: 32px;\n",
              "    }\n",
              "\n",
              "    .colab-df-convert:hover {\n",
              "      background-color: #E2EBFA;\n",
              "      box-shadow: 0px 1px 2px rgba(60, 64, 67, 0.3), 0px 1px 3px 1px rgba(60, 64, 67, 0.15);\n",
              "      fill: #174EA6;\n",
              "    }\n",
              "\n",
              "    [theme=dark] .colab-df-convert {\n",
              "      background-color: #3B4455;\n",
              "      fill: #D2E3FC;\n",
              "    }\n",
              "\n",
              "    [theme=dark] .colab-df-convert:hover {\n",
              "      background-color: #434B5C;\n",
              "      box-shadow: 0px 1px 3px 1px rgba(0, 0, 0, 0.15);\n",
              "      filter: drop-shadow(0px 1px 2px rgba(0, 0, 0, 0.3));\n",
              "      fill: #FFFFFF;\n",
              "    }\n",
              "  </style>\n",
              "\n",
              "      <script>\n",
              "        const buttonEl =\n",
              "          document.querySelector('#df-4e3bf150-c522-4621-958c-d0a3cf048045 button.colab-df-convert');\n",
              "        buttonEl.style.display =\n",
              "          google.colab.kernel.accessAllowed ? 'block' : 'none';\n",
              "\n",
              "        async function convertToInteractive(key) {\n",
              "          const element = document.querySelector('#df-4e3bf150-c522-4621-958c-d0a3cf048045');\n",
              "          const dataTable =\n",
              "            await google.colab.kernel.invokeFunction('convertToInteractive',\n",
              "                                                     [key], {});\n",
              "          if (!dataTable) return;\n",
              "\n",
              "          const docLinkHtml = 'Like what you see? Visit the ' +\n",
              "            '<a target=\"_blank\" href=https://colab.research.google.com/notebooks/data_table.ipynb>data table notebook</a>'\n",
              "            + ' to learn more about interactive tables.';\n",
              "          element.innerHTML = '';\n",
              "          dataTable['output_type'] = 'display_data';\n",
              "          await google.colab.output.renderOutput(dataTable, element);\n",
              "          const docLink = document.createElement('div');\n",
              "          docLink.innerHTML = docLinkHtml;\n",
              "          element.appendChild(docLink);\n",
              "        }\n",
              "      </script>\n",
              "    </div>\n",
              "  </div>\n",
              "  "
            ]
          },
          "metadata": {},
          "execution_count": 49
        }
      ],
      "source": [
        "df.loc[df['Open'] < 10795.780762, 'Open'] = 0 \n",
        "df.loc[df['Open'] >= 10795.780762, 'Open'] = 1\n",
        "df.loc[df['Open'] == 1 ]"
      ]
    },
    {
      "cell_type": "code",
      "execution_count": null,
      "metadata": {
        "colab": {
          "base_uri": "https://localhost:8080/"
        },
        "id": "dpSBa9J_XkfE",
        "outputId": "5b9d6265-1b09-4867-edcb-efeccb40d791"
      },
      "outputs": [
        {
          "output_type": "execute_result",
          "data": {
            "text/plain": [
              "count     2755.000000\n",
              "mean     11783.725409\n",
              "std      16413.271203\n",
              "min        178.102997\n",
              "25%        609.804504\n",
              "50%       6385.819824\n",
              "75%      10788.915528\n",
              "max      67566.828125\n",
              "Name: Close, dtype: float64"
            ]
          },
          "metadata": {},
          "execution_count": 50
        }
      ],
      "source": [
        "df.Close.describe()"
      ]
    },
    {
      "cell_type": "code",
      "execution_count": null,
      "metadata": {
        "colab": {
          "base_uri": "https://localhost:8080/",
          "height": 424
        },
        "id": "735phjiGXp-H",
        "outputId": "bc9901f4-d656-4e92-a078-d856e153e81e"
      },
      "outputs": [
        {
          "output_type": "execute_result",
          "data": {
            "text/plain": [
              "            Date  Open  High  Low  Close     Adj Close       Volume\n",
              "1171  2017-12-01   0.0   0.0  0.0    1.0  10975.599609   6783119872\n",
              "1172  2017-12-02   1.0   1.0  1.0    1.0  11074.599609   5138500096\n",
              "1173  2017-12-03   1.0   1.0  1.0    1.0  11323.200195   6608309760\n",
              "1174  2017-12-04   1.0   1.0  1.0    1.0  11657.200195   6132409856\n",
              "1175  2017-12-05   1.0   1.0  1.0    1.0  11916.700195   6895260160\n",
              "...          ...   ...   ...  ...    ...           ...          ...\n",
              "2750  2022-03-29   1.0   1.0  1.0    1.0  47465.730469  31397059069\n",
              "2751  2022-03-30   1.0   1.0  1.0    1.0  47062.664063  29333883962\n",
              "2752  2022-03-31   1.0   1.0  1.0    1.0  45538.675781  33327427106\n",
              "2753  2022-04-01   1.0   1.0  1.0    1.0  46281.644531  38162644287\n",
              "2754  2022-04-02   1.0   1.0  1.0    1.0  46508.101563  35441143808\n",
              "\n",
              "[689 rows x 7 columns]"
            ],
            "text/html": [
              "\n",
              "  <div id=\"df-d9469031-3b57-45b0-9460-e2699fc922ec\">\n",
              "    <div class=\"colab-df-container\">\n",
              "      <div>\n",
              "<style scoped>\n",
              "    .dataframe tbody tr th:only-of-type {\n",
              "        vertical-align: middle;\n",
              "    }\n",
              "\n",
              "    .dataframe tbody tr th {\n",
              "        vertical-align: top;\n",
              "    }\n",
              "\n",
              "    .dataframe thead th {\n",
              "        text-align: right;\n",
              "    }\n",
              "</style>\n",
              "<table border=\"1\" class=\"dataframe\">\n",
              "  <thead>\n",
              "    <tr style=\"text-align: right;\">\n",
              "      <th></th>\n",
              "      <th>Date</th>\n",
              "      <th>Open</th>\n",
              "      <th>High</th>\n",
              "      <th>Low</th>\n",
              "      <th>Close</th>\n",
              "      <th>Adj Close</th>\n",
              "      <th>Volume</th>\n",
              "    </tr>\n",
              "  </thead>\n",
              "  <tbody>\n",
              "    <tr>\n",
              "      <th>1171</th>\n",
              "      <td>2017-12-01</td>\n",
              "      <td>0.0</td>\n",
              "      <td>0.0</td>\n",
              "      <td>0.0</td>\n",
              "      <td>1.0</td>\n",
              "      <td>10975.599609</td>\n",
              "      <td>6783119872</td>\n",
              "    </tr>\n",
              "    <tr>\n",
              "      <th>1172</th>\n",
              "      <td>2017-12-02</td>\n",
              "      <td>1.0</td>\n",
              "      <td>1.0</td>\n",
              "      <td>1.0</td>\n",
              "      <td>1.0</td>\n",
              "      <td>11074.599609</td>\n",
              "      <td>5138500096</td>\n",
              "    </tr>\n",
              "    <tr>\n",
              "      <th>1173</th>\n",
              "      <td>2017-12-03</td>\n",
              "      <td>1.0</td>\n",
              "      <td>1.0</td>\n",
              "      <td>1.0</td>\n",
              "      <td>1.0</td>\n",
              "      <td>11323.200195</td>\n",
              "      <td>6608309760</td>\n",
              "    </tr>\n",
              "    <tr>\n",
              "      <th>1174</th>\n",
              "      <td>2017-12-04</td>\n",
              "      <td>1.0</td>\n",
              "      <td>1.0</td>\n",
              "      <td>1.0</td>\n",
              "      <td>1.0</td>\n",
              "      <td>11657.200195</td>\n",
              "      <td>6132409856</td>\n",
              "    </tr>\n",
              "    <tr>\n",
              "      <th>1175</th>\n",
              "      <td>2017-12-05</td>\n",
              "      <td>1.0</td>\n",
              "      <td>1.0</td>\n",
              "      <td>1.0</td>\n",
              "      <td>1.0</td>\n",
              "      <td>11916.700195</td>\n",
              "      <td>6895260160</td>\n",
              "    </tr>\n",
              "    <tr>\n",
              "      <th>...</th>\n",
              "      <td>...</td>\n",
              "      <td>...</td>\n",
              "      <td>...</td>\n",
              "      <td>...</td>\n",
              "      <td>...</td>\n",
              "      <td>...</td>\n",
              "      <td>...</td>\n",
              "    </tr>\n",
              "    <tr>\n",
              "      <th>2750</th>\n",
              "      <td>2022-03-29</td>\n",
              "      <td>1.0</td>\n",
              "      <td>1.0</td>\n",
              "      <td>1.0</td>\n",
              "      <td>1.0</td>\n",
              "      <td>47465.730469</td>\n",
              "      <td>31397059069</td>\n",
              "    </tr>\n",
              "    <tr>\n",
              "      <th>2751</th>\n",
              "      <td>2022-03-30</td>\n",
              "      <td>1.0</td>\n",
              "      <td>1.0</td>\n",
              "      <td>1.0</td>\n",
              "      <td>1.0</td>\n",
              "      <td>47062.664063</td>\n",
              "      <td>29333883962</td>\n",
              "    </tr>\n",
              "    <tr>\n",
              "      <th>2752</th>\n",
              "      <td>2022-03-31</td>\n",
              "      <td>1.0</td>\n",
              "      <td>1.0</td>\n",
              "      <td>1.0</td>\n",
              "      <td>1.0</td>\n",
              "      <td>45538.675781</td>\n",
              "      <td>33327427106</td>\n",
              "    </tr>\n",
              "    <tr>\n",
              "      <th>2753</th>\n",
              "      <td>2022-04-01</td>\n",
              "      <td>1.0</td>\n",
              "      <td>1.0</td>\n",
              "      <td>1.0</td>\n",
              "      <td>1.0</td>\n",
              "      <td>46281.644531</td>\n",
              "      <td>38162644287</td>\n",
              "    </tr>\n",
              "    <tr>\n",
              "      <th>2754</th>\n",
              "      <td>2022-04-02</td>\n",
              "      <td>1.0</td>\n",
              "      <td>1.0</td>\n",
              "      <td>1.0</td>\n",
              "      <td>1.0</td>\n",
              "      <td>46508.101563</td>\n",
              "      <td>35441143808</td>\n",
              "    </tr>\n",
              "  </tbody>\n",
              "</table>\n",
              "<p>689 rows × 7 columns</p>\n",
              "</div>\n",
              "      <button class=\"colab-df-convert\" onclick=\"convertToInteractive('df-d9469031-3b57-45b0-9460-e2699fc922ec')\"\n",
              "              title=\"Convert this dataframe to an interactive table.\"\n",
              "              style=\"display:none;\">\n",
              "        \n",
              "  <svg xmlns=\"http://www.w3.org/2000/svg\" height=\"24px\"viewBox=\"0 0 24 24\"\n",
              "       width=\"24px\">\n",
              "    <path d=\"M0 0h24v24H0V0z\" fill=\"none\"/>\n",
              "    <path d=\"M18.56 5.44l.94 2.06.94-2.06 2.06-.94-2.06-.94-.94-2.06-.94 2.06-2.06.94zm-11 1L8.5 8.5l.94-2.06 2.06-.94-2.06-.94L8.5 2.5l-.94 2.06-2.06.94zm10 10l.94 2.06.94-2.06 2.06-.94-2.06-.94-.94-2.06-.94 2.06-2.06.94z\"/><path d=\"M17.41 7.96l-1.37-1.37c-.4-.4-.92-.59-1.43-.59-.52 0-1.04.2-1.43.59L10.3 9.45l-7.72 7.72c-.78.78-.78 2.05 0 2.83L4 21.41c.39.39.9.59 1.41.59.51 0 1.02-.2 1.41-.59l7.78-7.78 2.81-2.81c.8-.78.8-2.07 0-2.86zM5.41 20L4 18.59l7.72-7.72 1.47 1.35L5.41 20z\"/>\n",
              "  </svg>\n",
              "      </button>\n",
              "      \n",
              "  <style>\n",
              "    .colab-df-container {\n",
              "      display:flex;\n",
              "      flex-wrap:wrap;\n",
              "      gap: 12px;\n",
              "    }\n",
              "\n",
              "    .colab-df-convert {\n",
              "      background-color: #E8F0FE;\n",
              "      border: none;\n",
              "      border-radius: 50%;\n",
              "      cursor: pointer;\n",
              "      display: none;\n",
              "      fill: #1967D2;\n",
              "      height: 32px;\n",
              "      padding: 0 0 0 0;\n",
              "      width: 32px;\n",
              "    }\n",
              "\n",
              "    .colab-df-convert:hover {\n",
              "      background-color: #E2EBFA;\n",
              "      box-shadow: 0px 1px 2px rgba(60, 64, 67, 0.3), 0px 1px 3px 1px rgba(60, 64, 67, 0.15);\n",
              "      fill: #174EA6;\n",
              "    }\n",
              "\n",
              "    [theme=dark] .colab-df-convert {\n",
              "      background-color: #3B4455;\n",
              "      fill: #D2E3FC;\n",
              "    }\n",
              "\n",
              "    [theme=dark] .colab-df-convert:hover {\n",
              "      background-color: #434B5C;\n",
              "      box-shadow: 0px 1px 3px 1px rgba(0, 0, 0, 0.15);\n",
              "      filter: drop-shadow(0px 1px 2px rgba(0, 0, 0, 0.3));\n",
              "      fill: #FFFFFF;\n",
              "    }\n",
              "  </style>\n",
              "\n",
              "      <script>\n",
              "        const buttonEl =\n",
              "          document.querySelector('#df-d9469031-3b57-45b0-9460-e2699fc922ec button.colab-df-convert');\n",
              "        buttonEl.style.display =\n",
              "          google.colab.kernel.accessAllowed ? 'block' : 'none';\n",
              "\n",
              "        async function convertToInteractive(key) {\n",
              "          const element = document.querySelector('#df-d9469031-3b57-45b0-9460-e2699fc922ec');\n",
              "          const dataTable =\n",
              "            await google.colab.kernel.invokeFunction('convertToInteractive',\n",
              "                                                     [key], {});\n",
              "          if (!dataTable) return;\n",
              "\n",
              "          const docLinkHtml = 'Like what you see? Visit the ' +\n",
              "            '<a target=\"_blank\" href=https://colab.research.google.com/notebooks/data_table.ipynb>data table notebook</a>'\n",
              "            + ' to learn more about interactive tables.';\n",
              "          element.innerHTML = '';\n",
              "          dataTable['output_type'] = 'display_data';\n",
              "          await google.colab.output.renderOutput(dataTable, element);\n",
              "          const docLink = document.createElement('div');\n",
              "          docLink.innerHTML = docLinkHtml;\n",
              "          element.appendChild(docLink);\n",
              "        }\n",
              "      </script>\n",
              "    </div>\n",
              "  </div>\n",
              "  "
            ]
          },
          "metadata": {},
          "execution_count": 51
        }
      ],
      "source": [
        "df.loc[df['Close'] < 10788.915528, 'Close'] = 0 \n",
        "df.loc[df['Close'] >= 10788.915528, 'Close'] = 1\n",
        "df.loc[df['Close'] == 1 ]"
      ]
    },
    {
      "cell_type": "code",
      "execution_count": null,
      "metadata": {
        "colab": {
          "base_uri": "https://localhost:8080/"
        },
        "id": "sVBAPQGyYfo7",
        "outputId": "17f2c2af-e89f-4b53-af9b-e74d22203791"
      },
      "outputs": [
        {
          "output_type": "execute_result",
          "data": {
            "text/plain": [
              "count     2991.000000\n",
              "mean      6893.326038\n",
              "std      11642.832456\n",
              "min         74.561096\n",
              "25%        436.179001\n",
              "50%       2387.610107\n",
              "75%       8733.926948\n",
              "max      64863.098908\n",
              "Name: High, dtype: float64"
            ]
          },
          "metadata": {},
          "execution_count": 52
        }
      ],
      "source": [
        "df_2.High.describe()"
      ]
    },
    {
      "cell_type": "markdown",
      "metadata": {
        "id": "eSykX9rOA5yq"
      },
      "source": [
        "Ratio Between High Ratings and Low Ratings"
      ]
    },
    {
      "cell_type": "code",
      "execution_count": null,
      "metadata": {
        "colab": {
          "base_uri": "https://localhost:8080/",
          "height": 316
        },
        "id": "4wPibcRyA6cA",
        "outputId": "bd244e1c-2dfe-44f5-8fe0-de4d7c34c823"
      },
      "outputs": [
        {
          "output_type": "execute_result",
          "data": {
            "text/plain": [
              "0.0    2066\n",
              "1.0     689\n",
              "Name: Open, dtype: int64"
            ]
          },
          "metadata": {},
          "execution_count": 53
        },
        {
          "output_type": "display_data",
          "data": {
            "text/plain": [
              "<Figure size 432x288 with 1 Axes>"
            ],
            "image/png": "[encoded data removed]"
          },
          "metadata": {}
        }
      ],
      "source": [
        "df1 = df.copy()\n",
        "ab = df1['Open'].value_counts()\n",
        "my_label=['Low \"Open Price\"','High \"Open Price\"'] \n",
        "my_colors=['red','blue']\n",
        "ax = ab.plot(kind='pie', labels=my_label, autopct='%1.1f%%', colors=my_colors)\n",
        "ax.set_title('Ratio of Open Price')\n",
        "ax.plot()\n",
        "df.Open.value_counts()"
      ]
    },
    {
      "cell_type": "code",
      "execution_count": null,
      "metadata": {
        "colab": {
          "base_uri": "https://localhost:8080/",
          "height": 316
        },
        "id": "PYroHER9NKal",
        "outputId": "777a9c35-d784-4297-9060-7624e69a06a0"
      },
      "outputs": [
        {
          "output_type": "execute_result",
          "data": {
            "text/plain": [
              "0.0    2066\n",
              "1.0     689\n",
              "Name: Open, dtype: int64"
            ]
          },
          "metadata": {},
          "execution_count": 54
        },
        {
          "output_type": "display_data",
          "data": {
            "text/plain": [
              "<Figure size 432x288 with 1 Axes>"
            ],
            "image/png": "[encoded data removed]"
          },
          "metadata": {}
        }
      ],
      "source": [
        "df1 = df.copy()\n",
        "ab = df1['Close'].value_counts()\n",
        "my_label=['Low \"Close Price\"','High \"Close Price\"'] \n",
        "my_colors=['red','blue']\n",
        "ax = ab.plot(kind='pie', labels=my_label, autopct='%1.1f%%', colors=my_colors)\n",
        "ax.set_title('Ratio of Close Price')\n",
        "ax.plot()\n",
        "df.Open.value_counts()"
      ]
    },
    {
      "cell_type": "code",
      "execution_count": null,
      "metadata": {
        "colab": {
          "base_uri": "https://localhost:8080/",
          "height": 316
        },
        "id": "4arY2yqsNL_u",
        "outputId": "d943a248-e655-4e11-b712-e00bdaf2fec4"
      },
      "outputs": [
        {
          "output_type": "execute_result",
          "data": {
            "text/plain": [
              "0.0    2066\n",
              "1.0     689\n",
              "Name: Open, dtype: int64"
            ]
          },
          "metadata": {},
          "execution_count": 55
        },
        {
          "output_type": "display_data",
          "data": {
            "text/plain": [
              "<Figure size 432x288 with 1 Axes>"
            ],
            "image/png": "[encoded data removed]"
          },
          "metadata": {}
        }
      ],
      "source": [
        "df1 = df.copy()\n",
        "ab = df1['High'].value_counts()\n",
        "my_label=['Low \"High Price\"','High \"High Price\"'] \n",
        "my_colors=['red','blue']\n",
        "ax = ab.plot(kind='pie', labels=my_label, autopct='%1.1f%%', colors=my_colors)\n",
        "ax.set_title('Ratio of High Price')\n",
        "ax.plot()\n",
        "df.Open.value_counts()"
      ]
    },
    {
      "cell_type": "code",
      "execution_count": null,
      "metadata": {
        "colab": {
          "base_uri": "https://localhost:8080/",
          "height": 316
        },
        "id": "0LSe0F6jNLvr",
        "outputId": "0dec555e-5ded-4b7c-9211-ab9a95514b05"
      },
      "outputs": [
        {
          "output_type": "execute_result",
          "data": {
            "text/plain": [
              "0.0    2066\n",
              "1.0     689\n",
              "Name: Open, dtype: int64"
            ]
          },
          "metadata": {},
          "execution_count": 56
        },
        {
          "output_type": "display_data",
          "data": {
            "text/plain": [
              "<Figure size 432x288 with 1 Axes>"
            ],
            "image/png": "[encoded data removed]"
          },
          "metadata": {}
        }
      ],
      "source": [
        "df1 = df.copy()\n",
        "ab = df1['Low'].value_counts()\n",
        "my_label=['Low \"Low Price\"','High \"Low Price\"'] \n",
        "my_colors=['red','blue']\n",
        "ax = ab.plot(kind='pie', labels=my_label, autopct='%1.1f%%', colors=my_colors)\n",
        "ax.set_title('Ratio of Low Price')\n",
        "ax.plot()\n",
        "df.Open.value_counts()"
      ]
    },
    {
      "cell_type": "markdown",
      "metadata": {
        "id": "9vfRjg36dg4F"
      },
      "source": [
        "As we can see from the pie chart, all four price types have exactly the same distribution of high and low prices.\n",
        "Moreover, looking at the percentages, we can see that we have an imbalanced dataset. "
      ]
    },
    {
      "cell_type": "markdown",
      "metadata": {
        "id": "eix18-bjA0nu"
      },
      "source": [
        "# Model Fitting and Predicting\n",
        "For the model fitting and predicting part of our project, we will use 4 different models:\n",
        " \n",
        "1. Logistic Regression\n",
        "\n",
        "2. Random Forest Classifier\n",
        "\n",
        "3. K-Nearest Neighbors Classifier\n",
        "\n",
        "\n",
        "\n"
      ]
    },
    {
      "cell_type": "code",
      "execution_count": null,
      "metadata": {
        "id": "Crc-8tbKBQcf"
      },
      "outputs": [],
      "source": [
        "from sklearn.ensemble import RandomForestClassifier\n",
        "from sklearn.neighbors import KNeighborsClassifier\n",
        "from xgboost import XGBClassifier\n",
        "from sklearn.linear_model import LogisticRegression\n",
        "from sklearn.naive_bayes import GaussianNB\n",
        "from sklearn.svm import SVC, LinearSVC\n",
        "from sklearn.tree import DecisionTreeClassifier\n",
        "from sklearn.model_selection import GridSearchCV\n",
        "from sklearn.metrics import make_scorer, accuracy_score, roc_auc_score \n",
        "from sklearn.model_selection import train_test_split"
      ]
    },
    {
      "cell_type": "markdown",
      "metadata": {
        "id": "hPlx8CkwKtdD"
      },
      "source": [
        "We split the data we extracted from our main data set (\"BTC-USD.csv\") into train (60%), validation (20%) and test (20%). We will use train_test_split with random_state parameter set to 0. \n",
        "\n",
        "Before running the algorithms, we will drop the non-numeric columns. "
      ]
    },
    {
      "cell_type": "code",
      "execution_count": null,
      "metadata": {
        "id": "dEuPNYN0CN-Q"
      },
      "outputs": [],
      "source": [
        "X = df.drop([\"Date\",\"Open\"],axis=1)\n",
        "y = df[\"Open\"]\n",
        "X_train, X_remaining, y_train, y_remaining = train_test_split(X, y, random_state=0, test_size=0.40, stratify = y)\n",
        "X_val, X_test, y_val, y_test = train_test_split(X_remaining, y_remaining, random_state=0, test_size=0.50, stratify = y_remaining)"
      ]
    },
    {
      "cell_type": "markdown",
      "metadata": {
        "id": "48MrfntdIE_n"
      },
      "source": [
        "# 1. Logistic Regression\n",
        "Logistic regression is a statistical analysis method to predict a binary outcome, such as yes or no, based on prior observations of a data set."
      ]
    },
    {
      "cell_type": "code",
      "execution_count": null,
      "metadata": {
        "colab": {
          "base_uri": "https://localhost:8080/"
        },
        "id": "2MWuomq_Hjtz",
        "outputId": "326d65d6-db34-46c2-d768-7fd581e7628a"
      },
      "outputs": [
        {
          "output_type": "stream",
          "name": "stdout",
          "text": [
            "Accuracy: 0.25045372050816694\n",
            "AUC: 0.5\n"
          ]
        }
      ],
      "source": [
        "LR_Model = LogisticRegression()\n",
        "LR_Model.fit(X_train, y_train)\n",
        "LR_Predict = LR_Model.predict(X_val)\n",
        "LR_Accuracy = accuracy_score(y_val, LR_Predict)\n",
        "print(\"Accuracy: \" + str(LR_Accuracy))\n",
        "\n",
        "LR_AUC = roc_auc_score(y_val, LR_Predict) \n",
        "print(\"AUC: \" + str(LR_AUC))"
      ]
    },
    {
      "cell_type": "markdown",
      "metadata": {
        "id": "iFf5zvJXHtMw"
      },
      "source": [
        "# 2. Random Forest Classifier\n",
        "Random forests classifier is an ensemble learning method for classification, regression, and other tasks that operates by constructing a multitude of decision trees at training time."
      ]
    },
    {
      "cell_type": "code",
      "execution_count": null,
      "metadata": {
        "colab": {
          "base_uri": "https://localhost:8080/"
        },
        "id": "NopDjRcuG3Zq",
        "outputId": "d70fb94d-a26c-4aae-8274-940e7e189b16"
      },
      "outputs": [
        {
          "output_type": "stream",
          "name": "stdout",
          "text": [
            "Accuracy: 0.985480943738657\n",
            "AUC: 0.9734270274063936\n"
          ]
        }
      ],
      "source": [
        "RFC_Model = RandomForestClassifier()\n",
        "RFC_Model.fit(X_train, y_train)\n",
        "RFC_Predict = RFC_Model.predict(X_val)\n",
        "RFC_Accuracy = accuracy_score(y_val, RFC_Predict)\n",
        "print(\"Accuracy: \" + str(RFC_Accuracy))\n",
        "\n",
        "RFC_AUC = roc_auc_score(y_val, RFC_Predict) \n",
        "print(\"AUC: \" + str(RFC_AUC))"
      ]
    },
    {
      "cell_type": "markdown",
      "metadata": {
        "id": "Dgg4AXGEKPAZ"
      },
      "source": [
        "# 3. K-Nearest Neighbors Classifier\n",
        "K-nearest neighbors classifier is a data classification algorithm that attempts to determine what group a data point is in by looking at the data points around it."
      ]
    },
    {
      "cell_type": "code",
      "execution_count": null,
      "metadata": {
        "colab": {
          "base_uri": "https://localhost:8080/"
        },
        "id": "IkuzyR9OJjG5",
        "outputId": "ed8b58ab-c76a-4b46-fb66-6b8cff0d6406"
      },
      "outputs": [
        {
          "output_type": "stream",
          "name": "stdout",
          "text": [
            "Accuracy: 0.8421052631578947\n",
            "AUC: 0.771633856195389\n"
          ]
        }
      ],
      "source": [
        "KNN_Model = KNeighborsClassifier()\n",
        "KNN_Model.fit(X_train, y_train)\n",
        "KNN_Predict = KNN_Model.predict(X_val)\n",
        "KNN_Accuracy = accuracy_score(y_val, KNN_Predict)\n",
        "print(\"Accuracy: \" + str(KNN_Accuracy))\n",
        "\n",
        "KNN_AUC = roc_auc_score(y_val, KNN_Predict) \n",
        "print(\"AUC: \" + str(KNN_AUC))"
      ]
    },
    {
      "cell_type": "markdown",
      "source": [
        "# Results and Discussion\n",
        "\n",
        "In this part, we will summarize the methods we used and compare their accuracy and AUC values to determine the best machine learning algorithm for predicting Bitcoin price:"
      ],
      "metadata": {
        "id": "gdtmiHs859_p"
      }
    },
    {
      "cell_type": "code",
      "source": [
        "model_performance_accuracy = pd.DataFrame({'Model': ['KNeighborsClassifier', 'RandomForestClassifier', 'LogisticRegression'],\n",
        "                                           'Accuracy': [KNN_Accuracy,RFC_Accuracy,LR_Accuracy]})\n",
        "\n",
        "model_performance_AUC = pd.DataFrame({'Model': ['KNeighborsClassifier', 'RandomForestClassifier', 'LogisticRegression'],\n",
        "                                      'AUC': [KNN_AUC,RFC_AUC,LR_AUC]})"
      ],
      "metadata": {
        "id": "Yfi-nYog6NWC"
      },
      "execution_count": null,
      "outputs": []
    },
    {
      "cell_type": "code",
      "source": [
        "model_performance_accuracy.sort_values(by = \"Accuracy\", ascending = False)"
      ],
      "metadata": {
        "id": "MqlZKIuk8L7c",
        "colab": {
          "base_uri": "https://localhost:8080/",
          "height": 143
        },
        "outputId": "cfdb4e30-b500-43a8-9de4-2d2ba36ea1b6"
      },
      "execution_count": null,
      "outputs": [
        {
          "output_type": "execute_result",
          "data": {
            "text/plain": [
              "                    Model  Accuracy\n",
              "1  RandomForestClassifier  0.985481\n",
              "0    KNeighborsClassifier  0.842105\n",
              "2      LogisticRegression  0.250454"
            ],
            "text/html": [
              "\n",
              "  <div id=\"df-0d05682f-6229-43d3-9a57-0813b3b23b81\">\n",
              "    <div class=\"colab-df-container\">\n",
              "      <div>\n",
              "<style scoped>\n",
              "    .dataframe tbody tr th:only-of-type {\n",
              "        vertical-align: middle;\n",
              "    }\n",
              "\n",
              "    .dataframe tbody tr th {\n",
              "        vertical-align: top;\n",
              "    }\n",
              "\n",
              "    .dataframe thead th {\n",
              "        text-align: right;\n",
              "    }\n",
              "</style>\n",
              "<table border=\"1\" class=\"dataframe\">\n",
              "  <thead>\n",
              "    <tr style=\"text-align: right;\">\n",
              "      <th></th>\n",
              "      <th>Model</th>\n",
              "      <th>Accuracy</th>\n",
              "    </tr>\n",
              "  </thead>\n",
              "  <tbody>\n",
              "    <tr>\n",
              "      <th>1</th>\n",
              "      <td>RandomForestClassifier</td>\n",
              "      <td>0.985481</td>\n",
              "    </tr>\n",
              "    <tr>\n",
              "      <th>0</th>\n",
              "      <td>KNeighborsClassifier</td>\n",
              "      <td>0.842105</td>\n",
              "    </tr>\n",
              "    <tr>\n",
              "      <th>2</th>\n",
              "      <td>LogisticRegression</td>\n",
              "      <td>0.250454</td>\n",
              "    </tr>\n",
              "  </tbody>\n",
              "</table>\n",
              "</div>\n",
              "      <button class=\"colab-df-convert\" onclick=\"convertToInteractive('df-0d05682f-6229-43d3-9a57-0813b3b23b81')\"\n",
              "              title=\"Convert this dataframe to an interactive table.\"\n",
              "              style=\"display:none;\">\n",
              "        \n",
              "  <svg xmlns=\"http://www.w3.org/2000/svg\" height=\"24px\"viewBox=\"0 0 24 24\"\n",
              "       width=\"24px\">\n",
              "    <path d=\"M0 0h24v24H0V0z\" fill=\"none\"/>\n",
              "    <path d=\"M18.56 5.44l.94 2.06.94-2.06 2.06-.94-2.06-.94-.94-2.06-.94 2.06-2.06.94zm-11 1L8.5 8.5l.94-2.06 2.06-.94-2.06-.94L8.5 2.5l-.94 2.06-2.06.94zm10 10l.94 2.06.94-2.06 2.06-.94-2.06-.94-.94-2.06-.94 2.06-2.06.94z\"/><path d=\"M17.41 7.96l-1.37-1.37c-.4-.4-.92-.59-1.43-.59-.52 0-1.04.2-1.43.59L10.3 9.45l-7.72 7.72c-.78.78-.78 2.05 0 2.83L4 21.41c.39.39.9.59 1.41.59.51 0 1.02-.2 1.41-.59l7.78-7.78 2.81-2.81c.8-.78.8-2.07 0-2.86zM5.41 20L4 18.59l7.72-7.72 1.47 1.35L5.41 20z\"/>\n",
              "  </svg>\n",
              "      </button>\n",
              "      \n",
              "  <style>\n",
              "    .colab-df-container {\n",
              "      display:flex;\n",
              "      flex-wrap:wrap;\n",
              "      gap: 12px;\n",
              "    }\n",
              "\n",
              "    .colab-df-convert {\n",
              "      background-color: #E8F0FE;\n",
              "      border: none;\n",
              "      border-radius: 50%;\n",
              "      cursor: pointer;\n",
              "      display: none;\n",
              "      fill: #1967D2;\n",
              "      height: 32px;\n",
              "      padding: 0 0 0 0;\n",
              "      width: 32px;\n",
              "    }\n",
              "\n",
              "    .colab-df-convert:hover {\n",
              "      background-color: #E2EBFA;\n",
              "      box-shadow: 0px 1px 2px rgba(60, 64, 67, 0.3), 0px 1px 3px 1px rgba(60, 64, 67, 0.15);\n",
              "      fill: #174EA6;\n",
              "    }\n",
              "\n",
              "    [theme=dark] .colab-df-convert {\n",
              "      background-color: #3B4455;\n",
              "      fill: #D2E3FC;\n",
              "    }\n",
              "\n",
              "    [theme=dark] .colab-df-convert:hover {\n",
              "      background-color: #434B5C;\n",
              "      box-shadow: 0px 1px 3px 1px rgba(0, 0, 0, 0.15);\n",
              "      filter: drop-shadow(0px 1px 2px rgba(0, 0, 0, 0.3));\n",
              "      fill: #FFFFFF;\n",
              "    }\n",
              "  </style>\n",
              "\n",
              "      <script>\n",
              "        const buttonEl =\n",
              "          document.querySelector('#df-0d05682f-6229-43d3-9a57-0813b3b23b81 button.colab-df-convert');\n",
              "        buttonEl.style.display =\n",
              "          google.colab.kernel.accessAllowed ? 'block' : 'none';\n",
              "\n",
              "        async function convertToInteractive(key) {\n",
              "          const element = document.querySelector('#df-0d05682f-6229-43d3-9a57-0813b3b23b81');\n",
              "          const dataTable =\n",
              "            await google.colab.kernel.invokeFunction('convertToInteractive',\n",
              "                                                     [key], {});\n",
              "          if (!dataTable) return;\n",
              "\n",
              "          const docLinkHtml = 'Like what you see? Visit the ' +\n",
              "            '<a target=\"_blank\" href=https://colab.research.google.com/notebooks/data_table.ipynb>data table notebook</a>'\n",
              "            + ' to learn more about interactive tables.';\n",
              "          element.innerHTML = '';\n",
              "          dataTable['output_type'] = 'display_data';\n",
              "          await google.colab.output.renderOutput(dataTable, element);\n",
              "          const docLink = document.createElement('div');\n",
              "          docLink.innerHTML = docLinkHtml;\n",
              "          element.appendChild(docLink);\n",
              "        }\n",
              "      </script>\n",
              "    </div>\n",
              "  </div>\n",
              "  "
            ]
          },
          "metadata": {},
          "execution_count": 63
        }
      ]
    },
    {
      "cell_type": "markdown",
      "source": [
        "As we can understand from the table above, Random Forest Classifier gives us the most accurate solution."
      ],
      "metadata": {
        "id": "IUqTJw768PsD"
      }
    },
    {
      "cell_type": "code",
      "source": [
        "model_performance_AUC.sort_values(by = \"AUC\", ascending = False)"
      ],
      "metadata": {
        "id": "1DpnFBLj8Vqo",
        "colab": {
          "base_uri": "https://localhost:8080/",
          "height": 143
        },
        "outputId": "eba4f8f3-bbfa-49cc-9798-6a7e2f2b3e63"
      },
      "execution_count": null,
      "outputs": [
        {
          "output_type": "execute_result",
          "data": {
            "text/plain": [
              "                    Model       AUC\n",
              "1  RandomForestClassifier  0.973427\n",
              "0    KNeighborsClassifier  0.771634\n",
              "2      LogisticRegression  0.500000"
            ],
            "text/html": [
              "\n",
              "  <div id=\"df-ed42af6b-0ab7-471f-8394-095c11af3cdf\">\n",
              "    <div class=\"colab-df-container\">\n",
              "      <div>\n",
              "<style scoped>\n",
              "    .dataframe tbody tr th:only-of-type {\n",
              "        vertical-align: middle;\n",
              "    }\n",
              "\n",
              "    .dataframe tbody tr th {\n",
              "        vertical-align: top;\n",
              "    }\n",
              "\n",
              "    .dataframe thead th {\n",
              "        text-align: right;\n",
              "    }\n",
              "</style>\n",
              "<table border=\"1\" class=\"dataframe\">\n",
              "  <thead>\n",
              "    <tr style=\"text-align: right;\">\n",
              "      <th></th>\n",
              "      <th>Model</th>\n",
              "      <th>AUC</th>\n",
              "    </tr>\n",
              "  </thead>\n",
              "  <tbody>\n",
              "    <tr>\n",
              "      <th>1</th>\n",
              "      <td>RandomForestClassifier</td>\n",
              "      <td>0.973427</td>\n",
              "    </tr>\n",
              "    <tr>\n",
              "      <th>0</th>\n",
              "      <td>KNeighborsClassifier</td>\n",
              "      <td>0.771634</td>\n",
              "    </tr>\n",
              "    <tr>\n",
              "      <th>2</th>\n",
              "      <td>LogisticRegression</td>\n",
              "      <td>0.500000</td>\n",
              "    </tr>\n",
              "  </tbody>\n",
              "</table>\n",
              "</div>\n",
              "      <button class=\"colab-df-convert\" onclick=\"convertToInteractive('df-ed42af6b-0ab7-471f-8394-095c11af3cdf')\"\n",
              "              title=\"Convert this dataframe to an interactive table.\"\n",
              "              style=\"display:none;\">\n",
              "        \n",
              "  <svg xmlns=\"http://www.w3.org/2000/svg\" height=\"24px\"viewBox=\"0 0 24 24\"\n",
              "       width=\"24px\">\n",
              "    <path d=\"M0 0h24v24H0V0z\" fill=\"none\"/>\n",
              "    <path d=\"M18.56 5.44l.94 2.06.94-2.06 2.06-.94-2.06-.94-.94-2.06-.94 2.06-2.06.94zm-11 1L8.5 8.5l.94-2.06 2.06-.94-2.06-.94L8.5 2.5l-.94 2.06-2.06.94zm10 10l.94 2.06.94-2.06 2.06-.94-2.06-.94-.94-2.06-.94 2.06-2.06.94z\"/><path d=\"M17.41 7.96l-1.37-1.37c-.4-.4-.92-.59-1.43-.59-.52 0-1.04.2-1.43.59L10.3 9.45l-7.72 7.72c-.78.78-.78 2.05 0 2.83L4 21.41c.39.39.9.59 1.41.59.51 0 1.02-.2 1.41-.59l7.78-7.78 2.81-2.81c.8-.78.8-2.07 0-2.86zM5.41 20L4 18.59l7.72-7.72 1.47 1.35L5.41 20z\"/>\n",
              "  </svg>\n",
              "      </button>\n",
              "      \n",
              "  <style>\n",
              "    .colab-df-container {\n",
              "      display:flex;\n",
              "      flex-wrap:wrap;\n",
              "      gap: 12px;\n",
              "    }\n",
              "\n",
              "    .colab-df-convert {\n",
              "      background-color: #E8F0FE;\n",
              "      border: none;\n",
              "      border-radius: 50%;\n",
              "      cursor: pointer;\n",
              "      display: none;\n",
              "      fill: #1967D2;\n",
              "      height: 32px;\n",
              "      padding: 0 0 0 0;\n",
              "      width: 32px;\n",
              "    }\n",
              "\n",
              "    .colab-df-convert:hover {\n",
              "      background-color: #E2EBFA;\n",
              "      box-shadow: 0px 1px 2px rgba(60, 64, 67, 0.3), 0px 1px 3px 1px rgba(60, 64, 67, 0.15);\n",
              "      fill: #174EA6;\n",
              "    }\n",
              "\n",
              "    [theme=dark] .colab-df-convert {\n",
              "      background-color: #3B4455;\n",
              "      fill: #D2E3FC;\n",
              "    }\n",
              "\n",
              "    [theme=dark] .colab-df-convert:hover {\n",
              "      background-color: #434B5C;\n",
              "      box-shadow: 0px 1px 3px 1px rgba(0, 0, 0, 0.15);\n",
              "      filter: drop-shadow(0px 1px 2px rgba(0, 0, 0, 0.3));\n",
              "      fill: #FFFFFF;\n",
              "    }\n",
              "  </style>\n",
              "\n",
              "      <script>\n",
              "        const buttonEl =\n",
              "          document.querySelector('#df-ed42af6b-0ab7-471f-8394-095c11af3cdf button.colab-df-convert');\n",
              "        buttonEl.style.display =\n",
              "          google.colab.kernel.accessAllowed ? 'block' : 'none';\n",
              "\n",
              "        async function convertToInteractive(key) {\n",
              "          const element = document.querySelector('#df-ed42af6b-0ab7-471f-8394-095c11af3cdf');\n",
              "          const dataTable =\n",
              "            await google.colab.kernel.invokeFunction('convertToInteractive',\n",
              "                                                     [key], {});\n",
              "          if (!dataTable) return;\n",
              "\n",
              "          const docLinkHtml = 'Like what you see? Visit the ' +\n",
              "            '<a target=\"_blank\" href=https://colab.research.google.com/notebooks/data_table.ipynb>data table notebook</a>'\n",
              "            + ' to learn more about interactive tables.';\n",
              "          element.innerHTML = '';\n",
              "          dataTable['output_type'] = 'display_data';\n",
              "          await google.colab.output.renderOutput(dataTable, element);\n",
              "          const docLink = document.createElement('div');\n",
              "          docLink.innerHTML = docLinkHtml;\n",
              "          element.appendChild(docLink);\n",
              "        }\n",
              "      </script>\n",
              "    </div>\n",
              "  </div>\n",
              "  "
            ]
          },
          "metadata": {},
          "execution_count": 64
        }
      ]
    },
    {
      "cell_type": "markdown",
      "source": [
        "The table above shows us that the Random Forest Classifier has the highest AUC score."
      ],
      "metadata": {
        "id": "xA4v7KLG8ZpN"
      }
    },
    {
      "cell_type": "markdown",
      "source": [
        "# Train a Default Random Forest Model\n",
        "\n",
        "Since we found out the Random Forest Classifier yields the most accurate results, we will continue with it. \n",
        "\n",
        "In the hypothesis testing part, we have concluded that our data is imbalanced by looking at the pie charts. So here, we will handle the imbalance issue by giving more weight to the minority class"
      ],
      "metadata": {
        "id": "CGYPk9ss8y-7"
      }
    },
    {
      "cell_type": "code",
      "source": [
        "X = df.drop([\"Date\",\"Open\",\"Adj Close\"],axis=1)\n",
        "y = df[\"Open\"]\n",
        "X_train, X_remaining, y_train, y_remaining = train_test_split(X, y, random_state=0, test_size=0.40, stratify = y)\n",
        "X_val, X_test, y_val, y_test = train_test_split(X_remaining, y_remaining, random_state=0, test_size=0.50, stratify = y_remaining)\n",
        "\n",
        "model = RandomForestClassifier(class_weight='balanced')\n",
        "model.fit(X_train, y_train)\n",
        "y_pred = model.predict(X_val)"
      ],
      "metadata": {
        "id": "aB-BJUAZ85YQ"
      },
      "execution_count": null,
      "outputs": []
    },
    {
      "cell_type": "markdown",
      "source": [
        "#Plot Confusion Matrix\n",
        "\n",
        "A confusion matrix is a summary of prediction results on a classification problem. The number of correct and incorrect predictions are summarized with count values and broken down by each class. The confusion matrix shows the ways in which your classification model is confused when it makes predictions."
      ],
      "metadata": {
        "id": "VPlcpCNx9L9o"
      }
    },
    {
      "cell_type": "code",
      "source": [
        "from sklearn.metrics import plot_confusion_matrix \n",
        "from sklearn.metrics import confusion_matrix\n",
        "plot_confusion_matrix(model, X_val, y_val)  \n",
        "plt.xlabel('Predicted Label', fontsize=15)\n",
        "plt.ylabel('True Label', fontsize=15)\n",
        "plt.title('Confusion Matrix Evaluated on Validation Data', fontsize=15)\n",
        "plt.show()"
      ],
      "metadata": {
        "id": "PpyaK3xj9Ovi",
        "colab": {
          "base_uri": "https://localhost:8080/",
          "height": 302
        },
        "outputId": "725f36bb-c802-45bd-cd72-0d3fafafdf1c"
      },
      "execution_count": null,
      "outputs": [
        {
          "output_type": "display_data",
          "data": {
            "text/plain": [
              "<Figure size 432x288 with 2 Axes>"
            ],
            "image/png": "[encoded data removed]"
          },
          "metadata": {}
        }
      ]
    },
    {
      "cell_type": "markdown",
      "source": [
        "When we look at our data we can see that:\n",
        "\n",
        "- True Positive (TP) = 413; meaning 413 positive class data points were correctly classified by the model\n",
        "\n",
        "- True Negative (TN) = 132; meaning 132 negative class data points were correctly classified by the model\n",
        "\n",
        "- False Positive (FP) = 0; meaning none of the negative class data points were incorrectly classified as belonging to the positive class by the model\n",
        "\n",
        "- False Negative (FN) = 6; meaning 6 positive class data points were incorrectly classified as belonging to the negative class by the model"
      ],
      "metadata": {
        "id": "QZlzFoMr9fcX"
      }
    },
    {
      "cell_type": "markdown",
      "source": [
        "## Hyperparameter Tuning\n"
      ],
      "metadata": {
        "id": "hEPWwPAyRF9q"
      }
    },
    {
      "cell_type": "markdown",
      "source": [
        "In the previous sections, we have trained the model and observed the results. In this section, we will do hyperparameter tuning to see if we can improve our model. To evaluate the model performance, we will utilize AUPRC (Area Under Precision-Recall Curve)."
      ],
      "metadata": {
        "id": "8mjYl_3gcEL1"
      }
    },
    {
      "cell_type": "code",
      "source": [
        "from sklearn.metrics import auc, precision_recall_curve\n",
        "import matplotlib.pyplot as plt"
      ],
      "metadata": {
        "id": "wLsbm8F6RMU_"
      },
      "execution_count": null,
      "outputs": []
    },
    {
      "cell_type": "markdown",
      "source": [
        "We will test our data using different n_estimator values. The default n_estimator value is 100. In addition to that, we will use 200 and 300 as our n_estimator values. \n"
      ],
      "metadata": {
        "id": "wtC2SCLoRQWM"
      }
    },
    {
      "cell_type": "code",
      "source": [
        "n_estimators = [100,200,300]\n",
        "\n",
        "auc_values = []\n",
        "for est in n_estimators:\n",
        "  model = RandomForestClassifier(n_estimators = est)\n",
        "  model.fit(X_train, y_train)\n",
        "  \n",
        "  preds = model.predict_proba(X_val)[:,1]\n",
        "  precision, recall, thresholds = precision_recall_curve(y_val, preds)\n",
        "\n",
        "  auc_sol = auc(recall, precision)\n",
        "  auc_values.append(auc_sol)\n",
        "\n",
        "n_est_best = max(auc_values)\n",
        "ix = auc_values.index(n_est_best)\n",
        "print(\"The best n estimator value is:\", n_estimators[ix])"
      ],
      "metadata": {
        "id": "mJBlkbu5RRP2",
        "colab": {
          "base_uri": "https://localhost:8080/"
        },
        "outputId": "d66cc4a3-8fba-462f-db1e-640c70f740c3"
      },
      "execution_count": null,
      "outputs": [
        {
          "output_type": "stream",
          "name": "stdout",
          "text": [
            "The best n estimator value is: 100\n"
          ]
        }
      ]
    },
    {
      "cell_type": "markdown",
      "source": [
        "Since the default n-estimator value we took was 100 and the above code yielded 100 as the best estimator, we won't be retraining our model. We believe that it is optimal. "
      ],
      "metadata": {
        "id": "F2l6f8MzdLRx"
      }
    },
    {
      "cell_type": "markdown",
      "source": [
        "#Conclusion\n",
        "\n",
        "To summarize the steps of our project; under the Exploratory Data Analysis section, we analyzed our data using different variables and we examined their correlation relationships. Then, under the Statistical Analysis section, we conducted hypothesis testing to evaluate the plausibility of our hypotheses, which we formed based on our main dataset. Lastly, under the Machine Learning section, we utilized several machine learning alogirthms, of which we decided Random Forest Classifier was the most suitable classifier for our model, to make price predictions.  \n",
        "\n",
        "Therefore, the aim of our project was to understand the price trends of Bitcoin using three datasets and extracting four extra features, and to develop a prediction model by exploring data and conducting statistical analysis.\n",
        "\n",
        "Using our main dataset, which consisted of 2755 time-series based observations, we were able to predict the opening price of Bitcoin using numerical metrics such as close price, high price, low price, and volume and without using the external metrics date. \n",
        "\n",
        "The best performing classifier on our model was Random Forest Classifier with an accuracy of 98.5% and AUC of 97%. \n",
        "\n",
        "Looking at the plot confusion matrix, we were successful in classifying Bitcoin price as \"high price\" and \"low price\". Therefore, we can say that we achieved our goal of predicting Bitcoin future price and creating a simple recommendation system to decide whether to buy Bitcoin by classifying the Bitcoin open and close prices as \"high price\" and \"low price\". \n",
        "\n"
      ],
      "metadata": {
        "id": "MdnTxoUpb9fr"
      }
    }
  ],
  "metadata": {
    "colab": {
      "collapsed_sections": [],
      "name": "bitcoin_group_10_progress_report.ipynb",
      "provenance": []
    },
    "kernelspec": {
      "display_name": "Python 3",
      "name": "python3"
    }
  },
  "nbformat": 4,
  "nbformat_minor": 0
}